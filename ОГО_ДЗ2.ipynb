{
  "cells": [
    {
      "cell_type": "markdown",
      "metadata": {
        "cell_id": 1,
        "id": "kr9vAeEQlRVG"
      },
      "source": [
        "# Домашнее задание 2. Классификация изображений."
      ]
    },
    {
      "cell_type": "markdown",
      "metadata": {
        "cell_id": 3,
        "id": "BxX49gLclRVJ"
      },
      "source": [
        "В этом задании потребуется обучить классификатор изображений. Будем работать с датасетом, название которого раскрывать не будем. Можете посмотреть самостоятельно на картинки, которые в есть датасете. В нём 200 классов и около 5 тысяч картинок на каждый класс. Классы пронумерованы, как нетрудно догадаться, от 0 до 199. Скачать датасет можно вот [тут](https://yadi.sk/d/BNR41Vu3y0c7qA).\n",
        "\n",
        "Структура датасета простая -- есть директории train/ и val/, в которых лежат обучающие и валидационные данные. В train/ и val/ лежат директориии, соответствующие классам изображений, в которых лежат, собственно, сами изображения.\n",
        "\n",
        "__Задание__. Необходимо выполнить два задания\n",
        "\n",
        "1) Добейтесь accuracy **на валидации не менее 0.44**. В этом задании **запрещено** пользоваться предобученными моделями и ресайзом картинок. 5 баллов\n",
        "\n",
        "2) Добейтесь accuracy **на валидации не менее 0.84**. В этом задании делать ресайз и использовать претрейн можно. 5 баллов\n",
        "\n",
        "Напишите краткий отчёт о проделанных экспериментах. Что сработало и что не сработало? Почему вы решили, сделать так, а не иначе? Обязательно указывайте ссылки на чужой код, если вы его используете. Обязательно ссылайтесь на статьи / блогпосты / вопросы на stackoverflow / видосы от ютуберов-машинлернеров / курсы / подсказки от Дяди Васи и прочие дополнительные материалы, если вы их используете.\n",
        "\n",
        "Ваш код обязательно должен проходить все `assert`'ы ниже.\n",
        "\n",
        "__Использовать внешние данные для обучения строго запрещено в обоих заданиях. Также запрещено обучаться на валидационной выборке__.\n",
        "\n",
        "\n",
        "__Критерии оценки__: Оценка вычисляется по простой формуле: `min(10, 10 * Ваша accuracy / 0.44)` для первого задания и `min(10, 10 * (Ваша accuracy - 0.5) / 0.34)` для второго. Оценка округляется до десятых по арифметическим правилам.\n",
        "\n",
        "\n",
        "__Советы и указания__:\n",
        " - Наверняка вам потребуется много гуглить о классификации и о том, как заставить её работать. Это нормально, все гуглят. Но не забывайте, что нужно быть готовым за скатанный код отвечать :)\n",
        " - Используйте аугментации. Для этого пользуйтесь модулем `torchvision.transforms` или библиотекой [albumentations](https://github.com/albumentations-team/albumentations)\n",
        " - Можно обучать с нуля или файнтюнить (в зависимости от задания) модели из `torchvision`.\n",
        " - Рекомендуем написать вам сначала класс-датасет (или воспользоваться классом `ImageFolder`), который возвращает картинки и соответствующие им классы, а затем функции для трейна по шаблонам ниже. Однако делать это мы не заставляем. Если вам так неудобно, то можете писать код в удобном стиле. Однако учтите, что чрезмерное изменение нижеперечисленных шаблонов увеличит количество вопросов к вашему коду и повысит вероятность вызова на защиту :)\n",
        " - Валидируйте. Трекайте ошибки как можно раньше, чтобы не тратить время впустую.\n",
        " - Чтобы быстро отладить код, пробуйте обучаться на маленькой части датасета (скажем, 5-10 картинок просто чтобы убедиться что код запускается). Когда вы поняли, что смогли всё отдебажить, переходите обучению по всему датасету\n",
        " - На каждый запуск делайте ровно одно изменение в модели/аугментации/оптимайзере, чтобы понять, что и как влияет на результат.\n",
        " - Фиксируйте random seed.\n",
        " - Начинайте с простых моделей и постепенно переходите к сложным. Обучение лёгких моделей экономит много времени.\n",
        " - Ставьте расписание на learning rate. Уменьшайте его, когда лосс на валидации перестаёт убывать.\n",
        " - Советуем использовать GPU. Если у вас его нет, используйте google colab. Если вам неудобно его использовать на постоянной основе, напишите и отладьте весь код локально на CPU, а затем запустите уже написанный ноутбук в колабе. Авторское решение задания достигает требуемой точности в колабе за 15 минут обучения.\n",
        "\n",
        "Good luck & have fun! :)"
      ]
    },
    {
      "cell_type": "code",
      "execution_count": null,
      "metadata": {
        "id": "BaPSFxIz96tY",
        "colab": {
          "base_uri": "https://localhost:8080/"
        },
        "outputId": "6ca8ef7f-158c-4c39-9793-576fc8ab1dba"
      },
      "outputs": [
        {
          "output_type": "stream",
          "name": "stdout",
          "text": [
            "Collecting wandb\n",
            "  Downloading wandb-0.16.0-py3-none-any.whl (2.1 MB)\n",
            "\u001b[2K     \u001b[90m━━━━━━━━━━━━━━━━━━━━━━━━━━━━━━━━━━━━━━━━\u001b[0m \u001b[32m2.1/2.1 MB\u001b[0m \u001b[31m8.4 MB/s\u001b[0m eta \u001b[36m0:00:00\u001b[0m\n",
            "\u001b[?25hRequirement already satisfied: Click!=8.0.0,>=7.1 in /usr/local/lib/python3.10/dist-packages (from wandb) (8.1.7)\n",
            "Collecting GitPython!=3.1.29,>=1.0.0 (from wandb)\n",
            "  Downloading GitPython-3.1.40-py3-none-any.whl (190 kB)\n",
            "\u001b[2K     \u001b[90m━━━━━━━━━━━━━━━━━━━━━━━━━━━━━━━━━━━━━━━━\u001b[0m \u001b[32m190.6/190.6 kB\u001b[0m \u001b[31m23.5 MB/s\u001b[0m eta \u001b[36m0:00:00\u001b[0m\n",
            "\u001b[?25hRequirement already satisfied: requests<3,>=2.0.0 in /usr/local/lib/python3.10/dist-packages (from wandb) (2.31.0)\n",
            "Requirement already satisfied: psutil>=5.0.0 in /usr/local/lib/python3.10/dist-packages (from wandb) (5.9.5)\n",
            "Collecting sentry-sdk>=1.0.0 (from wandb)\n",
            "  Downloading sentry_sdk-1.35.0-py2.py3-none-any.whl (248 kB)\n",
            "\u001b[2K     \u001b[90m━━━━━━━━━━━━━━━━━━━━━━━━━━━━━━━━━━━━━━━━\u001b[0m \u001b[32m248.6/248.6 kB\u001b[0m \u001b[31m11.8 MB/s\u001b[0m eta \u001b[36m0:00:00\u001b[0m\n",
            "\u001b[?25hCollecting docker-pycreds>=0.4.0 (from wandb)\n",
            "  Downloading docker_pycreds-0.4.0-py2.py3-none-any.whl (9.0 kB)\n",
            "Requirement already satisfied: PyYAML in /usr/local/lib/python3.10/dist-packages (from wandb) (6.0.1)\n",
            "Collecting setproctitle (from wandb)\n",
            "  Downloading setproctitle-1.3.3-cp310-cp310-manylinux_2_5_x86_64.manylinux1_x86_64.manylinux_2_17_x86_64.manylinux2014_x86_64.whl (30 kB)\n",
            "Requirement already satisfied: setuptools in /usr/local/lib/python3.10/dist-packages (from wandb) (67.7.2)\n",
            "Requirement already satisfied: appdirs>=1.4.3 in /usr/local/lib/python3.10/dist-packages (from wandb) (1.4.4)\n",
            "Requirement already satisfied: protobuf!=4.21.0,<5,>=3.19.0 in /usr/local/lib/python3.10/dist-packages (from wandb) (3.20.3)\n",
            "Requirement already satisfied: six>=1.4.0 in /usr/local/lib/python3.10/dist-packages (from docker-pycreds>=0.4.0->wandb) (1.16.0)\n",
            "Collecting gitdb<5,>=4.0.1 (from GitPython!=3.1.29,>=1.0.0->wandb)\n",
            "  Downloading gitdb-4.0.11-py3-none-any.whl (62 kB)\n",
            "\u001b[2K     \u001b[90m━━━━━━━━━━━━━━━━━━━━━━━━━━━━━━━━━━━━━━━━\u001b[0m \u001b[32m62.7/62.7 kB\u001b[0m \u001b[31m9.0 MB/s\u001b[0m eta \u001b[36m0:00:00\u001b[0m\n",
            "\u001b[?25hRequirement already satisfied: charset-normalizer<4,>=2 in /usr/local/lib/python3.10/dist-packages (from requests<3,>=2.0.0->wandb) (3.3.2)\n",
            "Requirement already satisfied: idna<4,>=2.5 in /usr/local/lib/python3.10/dist-packages (from requests<3,>=2.0.0->wandb) (3.4)\n",
            "Requirement already satisfied: urllib3<3,>=1.21.1 in /usr/local/lib/python3.10/dist-packages (from requests<3,>=2.0.0->wandb) (2.0.7)\n",
            "Requirement already satisfied: certifi>=2017.4.17 in /usr/local/lib/python3.10/dist-packages (from requests<3,>=2.0.0->wandb) (2023.7.22)\n",
            "Collecting smmap<6,>=3.0.1 (from gitdb<5,>=4.0.1->GitPython!=3.1.29,>=1.0.0->wandb)\n",
            "  Downloading smmap-5.0.1-py3-none-any.whl (24 kB)\n",
            "Installing collected packages: smmap, setproctitle, sentry-sdk, docker-pycreds, gitdb, GitPython, wandb\n",
            "Successfully installed GitPython-3.1.40 docker-pycreds-0.4.0 gitdb-4.0.11 sentry-sdk-1.35.0 setproctitle-1.3.3 smmap-5.0.1 wandb-0.16.0\n",
            "Collecting pytorch_lightning\n",
            "  Downloading pytorch_lightning-2.1.2-py3-none-any.whl (776 kB)\n",
            "\u001b[2K     \u001b[90m━━━━━━━━━━━━━━━━━━━━━━━━━━━━━━━━━━━━━━━━\u001b[0m \u001b[32m776.9/776.9 kB\u001b[0m \u001b[31m10.2 MB/s\u001b[0m eta \u001b[36m0:00:00\u001b[0m\n",
            "\u001b[?25hCollecting torchmetrics\n",
            "  Downloading torchmetrics-1.2.0-py3-none-any.whl (805 kB)\n",
            "\u001b[2K     \u001b[90m━━━━━━━━━━━━━━━━━━━━━━━━━━━━━━━━━━━━━━━━\u001b[0m \u001b[32m805.2/805.2 kB\u001b[0m \u001b[31m68.7 MB/s\u001b[0m eta \u001b[36m0:00:00\u001b[0m\n",
            "\u001b[?25hRequirement already satisfied: numpy>=1.17.2 in /usr/local/lib/python3.10/dist-packages (from pytorch_lightning) (1.23.5)\n",
            "Requirement already satisfied: torch>=1.12.0 in /usr/local/lib/python3.10/dist-packages (from pytorch_lightning) (2.1.0+cu118)\n",
            "Requirement already satisfied: tqdm>=4.57.0 in /usr/local/lib/python3.10/dist-packages (from pytorch_lightning) (4.66.1)\n",
            "Requirement already satisfied: PyYAML>=5.4 in /usr/local/lib/python3.10/dist-packages (from pytorch_lightning) (6.0.1)\n",
            "Requirement already satisfied: fsspec[http]>2021.06.0 in /usr/local/lib/python3.10/dist-packages (from pytorch_lightning) (2023.6.0)\n",
            "Requirement already satisfied: packaging>=20.0 in /usr/local/lib/python3.10/dist-packages (from pytorch_lightning) (23.2)\n",
            "Requirement already satisfied: typing-extensions>=4.0.0 in /usr/local/lib/python3.10/dist-packages (from pytorch_lightning) (4.5.0)\n",
            "Collecting lightning-utilities>=0.8.0 (from pytorch_lightning)\n",
            "  Downloading lightning_utilities-0.9.0-py3-none-any.whl (23 kB)\n",
            "Requirement already satisfied: requests in /usr/local/lib/python3.10/dist-packages (from fsspec[http]>2021.06.0->pytorch_lightning) (2.31.0)\n",
            "Requirement already satisfied: aiohttp!=4.0.0a0,!=4.0.0a1 in /usr/local/lib/python3.10/dist-packages (from fsspec[http]>2021.06.0->pytorch_lightning) (3.8.6)\n",
            "Requirement already satisfied: filelock in /usr/local/lib/python3.10/dist-packages (from torch>=1.12.0->pytorch_lightning) (3.13.1)\n",
            "Requirement already satisfied: sympy in /usr/local/lib/python3.10/dist-packages (from torch>=1.12.0->pytorch_lightning) (1.12)\n",
            "Requirement already satisfied: networkx in /usr/local/lib/python3.10/dist-packages (from torch>=1.12.0->pytorch_lightning) (3.2.1)\n",
            "Requirement already satisfied: jinja2 in /usr/local/lib/python3.10/dist-packages (from torch>=1.12.0->pytorch_lightning) (3.1.2)\n",
            "Requirement already satisfied: triton==2.1.0 in /usr/local/lib/python3.10/dist-packages (from torch>=1.12.0->pytorch_lightning) (2.1.0)\n",
            "Requirement already satisfied: attrs>=17.3.0 in /usr/local/lib/python3.10/dist-packages (from aiohttp!=4.0.0a0,!=4.0.0a1->fsspec[http]>2021.06.0->pytorch_lightning) (23.1.0)\n",
            "Requirement already satisfied: charset-normalizer<4.0,>=2.0 in /usr/local/lib/python3.10/dist-packages (from aiohttp!=4.0.0a0,!=4.0.0a1->fsspec[http]>2021.06.0->pytorch_lightning) (3.3.2)\n",
            "Requirement already satisfied: multidict<7.0,>=4.5 in /usr/local/lib/python3.10/dist-packages (from aiohttp!=4.0.0a0,!=4.0.0a1->fsspec[http]>2021.06.0->pytorch_lightning) (6.0.4)\n",
            "Requirement already satisfied: async-timeout<5.0,>=4.0.0a3 in /usr/local/lib/python3.10/dist-packages (from aiohttp!=4.0.0a0,!=4.0.0a1->fsspec[http]>2021.06.0->pytorch_lightning) (4.0.3)\n",
            "Requirement already satisfied: yarl<2.0,>=1.0 in /usr/local/lib/python3.10/dist-packages (from aiohttp!=4.0.0a0,!=4.0.0a1->fsspec[http]>2021.06.0->pytorch_lightning) (1.9.2)\n",
            "Requirement already satisfied: frozenlist>=1.1.1 in /usr/local/lib/python3.10/dist-packages (from aiohttp!=4.0.0a0,!=4.0.0a1->fsspec[http]>2021.06.0->pytorch_lightning) (1.4.0)\n",
            "Requirement already satisfied: aiosignal>=1.1.2 in /usr/local/lib/python3.10/dist-packages (from aiohttp!=4.0.0a0,!=4.0.0a1->fsspec[http]>2021.06.0->pytorch_lightning) (1.3.1)\n",
            "Requirement already satisfied: MarkupSafe>=2.0 in /usr/local/lib/python3.10/dist-packages (from jinja2->torch>=1.12.0->pytorch_lightning) (2.1.3)\n",
            "Requirement already satisfied: idna<4,>=2.5 in /usr/local/lib/python3.10/dist-packages (from requests->fsspec[http]>2021.06.0->pytorch_lightning) (3.4)\n",
            "Requirement already satisfied: urllib3<3,>=1.21.1 in /usr/local/lib/python3.10/dist-packages (from requests->fsspec[http]>2021.06.0->pytorch_lightning) (2.0.7)\n",
            "Requirement already satisfied: certifi>=2017.4.17 in /usr/local/lib/python3.10/dist-packages (from requests->fsspec[http]>2021.06.0->pytorch_lightning) (2023.7.22)\n",
            "Requirement already satisfied: mpmath>=0.19 in /usr/local/lib/python3.10/dist-packages (from sympy->torch>=1.12.0->pytorch_lightning) (1.3.0)\n",
            "Installing collected packages: lightning-utilities, torchmetrics, pytorch_lightning\n",
            "Successfully installed lightning-utilities-0.9.0 pytorch_lightning-2.1.2 torchmetrics-1.2.0\n"
          ]
        }
      ],
      "source": [
        "!pip install wandb\n",
        "!pip3 install pytorch_lightning torchmetrics"
      ]
    },
    {
      "cell_type": "markdown",
      "metadata": {
        "id": "qkQEge04tMOp"
      },
      "source": [
        "**✨ Внимание ✨**\n",
        "\n",
        "В этом домашнем задании предлагается использовать библиотеку `pytorch_lightning`. Доступ к ее [документации](https://lightning.ai/docs/pytorch/stable/) заблокирован с территории РФ. Вы можете:\n",
        "\n",
        "1. Получить к ней доступ с помощью VPN.\n",
        "\n",
        "2. Собрать документацию самостоятельно. Для этого склонируйте [github-репозиторий](https://github.com/Lightning-AI/lightning/tree/master), запустите в нем терминал (на windows – git bash) и выполните команды:\n",
        "\n",
        "```shell\n",
        "git submodule update --init --recursive\n",
        "make docs\n",
        "```\n",
        "После этого откройте появившийся файл `docs/build/html/index.html`. Для работы команд в вашем окружении должен быть `pip`. Полная инструкция [по ссылке](https://github.com/Lightning-AI/lightning/tree/master/docs).\n",
        "\n",
        "3. Гуглить `<error message> pytorch lightning` или `<how to do this> pytorch lightning`. Stack overflow на территории РФ все еще доступен 😉\n",
        "\n",
        "4. Не пользоваться `pytorch_lightning` и написать цикл обучения модели самостоятельно. Например, по аналогии с функцией `fit` из [семинара 4](https://github.com/hse-ds/iad-deep-learning/blob/master/2023/seminars/04.%20Optim%20%26%20Lightning/04_Optim%26Lightning_solution.ipynb)."
      ]
    },
    {
      "cell_type": "code",
      "execution_count": null,
      "metadata": {
        "id": "EWT3aFU9XmLJ",
        "colab": {
          "base_uri": "https://localhost:8080/"
        },
        "outputId": "27c8346d-208f-4b22-beee-8cce862d7b9f"
      },
      "outputs": [
        {
          "output_type": "execute_result",
          "data": {
            "text/plain": [
              "True"
            ]
          },
          "metadata": {},
          "execution_count": 32
        }
      ],
      "source": [
        "# Возможно ниже будет не очень работать WandbLogger с первого разу, перезапустите kernel тетрадки\n",
        "import wandb\n",
        "\n",
        "wandb.login()"
      ]
    },
    {
      "cell_type": "code",
      "execution_count": null,
      "metadata": {
        "cell_id": 4,
        "id": "LKcSNj4tlRVK"
      },
      "outputs": [],
      "source": [
        "import math\n",
        "import os\n",
        "import random\n",
        "import sys\n",
        "\n",
        "import matplotlib.pyplot as plt\n",
        "import numpy as np\n",
        "import pytorch_lightning as pl\n",
        "import torch\n",
        "import torchvision\n",
        "import torchvision.transforms as transforms\n",
        "from PIL import Image\n",
        "from torch import nn\n",
        "from pytorch_lightning.loggers import WandbLogger\n",
        "from torch.nn import functional as F\n",
        "from torch.utils.data import DataLoader\n",
        "from torchmetrics.functional import accuracy\n",
        "from torchvision.datasets import ImageFolder\n",
        "from tqdm import tqdm\n",
        "\n",
        "\n",
        "device = \"cuda\" if torch.cuda.is_available() else \"cpu\""
      ]
    },
    {
      "cell_type": "code",
      "source": [
        "seed=42"
      ],
      "metadata": {
        "id": "gURUPyvV2Uq8"
      },
      "execution_count": null,
      "outputs": []
    },
    {
      "cell_type": "code",
      "execution_count": null,
      "metadata": {
        "id": "47YPLjDL-Mtv"
      },
      "outputs": [],
      "source": [
        "def seed_everything(seed):\n",
        "    random.seed(seed)\n",
        "    os.environ[\"PYTHONHASHSEED\"] = str(seed)\n",
        "    np.random.seed(seed)\n",
        "    torch.manual_seed(seed)\n",
        "    torch.cuda.manual_seed(seed)\n",
        "    torch.backends.cudnn.deterministic = True\n",
        "    torch.backends.cudnn.benchmark = False\n",
        "    torch.use_deterministic_algorithms(True, warn_only=True)\n",
        "\n",
        "seed_everything(seed)"
      ]
    },
    {
      "cell_type": "code",
      "execution_count": null,
      "metadata": {
        "id": "gVKdh063AzhH",
        "colab": {
          "base_uri": "https://localhost:8080/"
        },
        "outputId": "e597b090-ec94-406d-81c0-a0b929e4c67b"
      },
      "outputs": [
        {
          "output_type": "stream",
          "name": "stdout",
          "text": [
            "--2023-11-15 23:15:44--  https://www.dropbox.com/s/33l8lp62rmvtx40/dataset.zip?dl=1\n",
            "Resolving www.dropbox.com (www.dropbox.com)... 162.125.3.18, 2620:100:6018:18::a27d:312\n",
            "Connecting to www.dropbox.com (www.dropbox.com)|162.125.3.18|:443... connected.\n",
            "HTTP request sent, awaiting response... 302 Found\n",
            "Location: /s/dl/33l8lp62rmvtx40/dataset.zip [following]\n",
            "--2023-11-15 23:15:44--  https://www.dropbox.com/s/dl/33l8lp62rmvtx40/dataset.zip\n",
            "Reusing existing connection to www.dropbox.com:443.\n",
            "HTTP request sent, awaiting response... 302 Found\n",
            "Location: https://uc1abcb74a2f46911f76784d6ac6.dl.dropboxusercontent.com/cd/0/get/CHlvlKtgdZJZ1L2PWP1NCkD4sWUflMxh_LXiCEQ_NMjb1LOb-uUPUjK5NnfPNsZ2yHxdz8ufxwPicMcYcjgrf5DibI--ZtwrLkvbzGic5hRt4zgBj2rXyTi9mSQ4fSOv-mhBro8c8z_WbA7T5pWPqWs2/file?dl=1# [following]\n",
            "--2023-11-15 23:15:44--  https://uc1abcb74a2f46911f76784d6ac6.dl.dropboxusercontent.com/cd/0/get/CHlvlKtgdZJZ1L2PWP1NCkD4sWUflMxh_LXiCEQ_NMjb1LOb-uUPUjK5NnfPNsZ2yHxdz8ufxwPicMcYcjgrf5DibI--ZtwrLkvbzGic5hRt4zgBj2rXyTi9mSQ4fSOv-mhBro8c8z_WbA7T5pWPqWs2/file?dl=1\n",
            "Resolving uc1abcb74a2f46911f76784d6ac6.dl.dropboxusercontent.com (uc1abcb74a2f46911f76784d6ac6.dl.dropboxusercontent.com)... 162.125.3.15, 2620:100:6018:15::a27d:30f\n",
            "Connecting to uc1abcb74a2f46911f76784d6ac6.dl.dropboxusercontent.com (uc1abcb74a2f46911f76784d6ac6.dl.dropboxusercontent.com)|162.125.3.15|:443... connected.\n",
            "HTTP request sent, awaiting response... 200 OK\n",
            "Length: 220318689 (210M) [application/binary]\n",
            "Saving to: ‘dataset.zip’\n",
            "\n",
            "dataset.zip         100%[===================>] 210.11M  65.7MB/s    in 3.2s    \n",
            "\n",
            "2023-11-15 23:15:48 (65.7 MB/s) - ‘dataset.zip’ saved [220318689/220318689]\n",
            "\n"
          ]
        }
      ],
      "source": [
        "!wget https://www.dropbox.com/s/33l8lp62rmvtx40/dataset.zip?dl=1 -O dataset.zip && unzip -q dataset.zip"
      ]
    },
    {
      "cell_type": "markdown",
      "metadata": {
        "id": "RytEDW0ylRVN"
      },
      "source": [
        "## Задание 0"
      ]
    },
    {
      "cell_type": "markdown",
      "metadata": {
        "id": "2HZECedTvepi"
      },
      "source": [
        "### Что поможет сделать на 10 из 10 (одно задание - 5 баллов)"
      ]
    },
    {
      "cell_type": "markdown",
      "metadata": {
        "id": "dOioHGEiveso"
      },
      "source": [
        "1. Использовать все возможные методы оптимизации и эксперемнтировать с ними.\n",
        "2. Подбор learning rate. Пример из прошлого семинара как это делать: [Как найти lr](https://pytorch-lightning.readthedocs.io/en/1.4.5/advanced/lr_finder.html)\n",
        "\n",
        "```\n",
        "  trainer = pl.Trainer(accelerator=\"gpu\", max_epochs=2, auto_lr_find=True)\n",
        "\n",
        "  trainer.tune(module, train_dataloader, eval_dataloader)\n",
        "\n",
        "  trainer.fit(module, train_dataloader, eval_dataloader))\n",
        "```\n",
        "\n",
        "\n",
        "\n",
        "3. Аугментация данных. [Документация (полезная)](https://pytorch.org/vision/main/transforms.html), а также [библиотека albumentation](https://towardsdatascience.com/getting-started-with-albumentation-winning-deep-learning-image-augmentation-technique-in-pytorch-47aaba0ee3f8)\n",
        "4. Подбор архитектуры модели.\n",
        "5. Можно написать модель руками свою в YourNet, а можно импортировать не предобученную сетку известной архитектуры из модуля torchvision.models. Один из способов как можно сделать:\n",
        "\n",
        "  * `torchvision.models.resnet18(pretrained=False, num_classes=200).to(device)`\n",
        "  * Документация по возможным моделям и как их можно брать: [Документация (полезная)](https://pytorch.org/vision/stable/models.html)\n",
        "6. Правильно нормализовывать данные при создании, пример [тык, но тут и в целом гайд от и до](https://www.pluralsight.com/guides/image-classification-with-pytorch)\n",
        "7. Model Checkpointing. Сохраняйте свой прогресс (модели), чтобы когда что-то пойдет не так вы сможете начать с этого места или просто воспроизвести свои результаты модели, которые обучали.\n",
        " * Пример как можно с wandb тут: [Сохраняем лучшие модели в wandb](https://docs.wandb.ai/guides/integrations/lightning)\n",
        " * По простому можно так: [Сохраняем модели в pytorch дока](https://pytorch.org/tutorials/beginner/saving_loading_models.html)"
      ]
    },
    {
      "cell_type": "markdown",
      "metadata": {
        "id": "WYePsQgNRB-n"
      },
      "source": [
        "### Подготовка данных"
      ]
    },
    {
      "cell_type": "code",
      "execution_count": null,
      "metadata": {
        "cell_id": 5,
        "id": "QEdDQtHdlRVO",
        "colab": {
          "base_uri": "https://localhost:8080/"
        },
        "outputId": "06687bde-1d0a-4284-ee90-fefd77ecaf13"
      },
      "outputs": [
        {
          "output_type": "stream",
          "name": "stderr",
          "text": [
            "/usr/local/lib/python3.10/dist-packages/torch/utils/data/dataloader.py:557: UserWarning: This DataLoader will create 4 worker processes in total. Our suggested max number of worker in current system is 2, which is smaller than what this DataLoader is going to create. Please be aware that excessive worker creation might get DataLoader running slow or even freeze, lower the worker number to avoid potential slowness/freeze if necessary.\n",
            "  warnings.warn(_create_warning_msg(\n"
          ]
        }
      ],
      "source": [
        "seed_everything(seed)\n",
        "\n",
        "train_transform = transforms.Compose(\n",
        "    [\n",
        "        transforms.RandomHorizontalFlip(p=0.5),\n",
        "        transforms.ColorJitter(hue=0.05),\n",
        "        transforms.RandomGrayscale(p=0.3),\n",
        "        transforms.ToTensor(),\n",
        "        transforms.Normalize(mean=[0.4802, 0.4481, 0.3975], std=[0.2764, 0.2689, 0.2816])\n",
        "    ]\n",
        ")\n",
        "\n",
        "val_transform = transforms.Compose(\n",
        "    [\n",
        "        transforms.ToTensor(),\n",
        "        transforms.Normalize(mean=[0.4802, 0.4481, 0.3975], std=[0.2764, 0.2689, 0.2816])\n",
        "    ]\n",
        ")\n",
        "\n",
        "train_dataset = ImageFolder('/content/dataset/dataset/train', transform=train_transform)\n",
        "val_dataset = ImageFolder('/content/dataset/dataset/val', transform=val_transform)\n",
        "# REPLACE ./dataset/dataset WITH THE FOLDER WHERE YOU DOWNLOADED AND UNZIPPED THE DATASET\n",
        "\n",
        "train_dataloader = torch.utils.data.DataLoader(\n",
        "    train_dataset, batch_size=256, shuffle=True, num_workers=4\n",
        ")\n",
        "val_dataloader = torch.utils.data.DataLoader(\n",
        "    val_dataset, batch_size=256, shuffle=False, num_workers=4\n",
        ")"
      ]
    },
    {
      "cell_type": "code",
      "execution_count": null,
      "metadata": {
        "cell_id": 6,
        "id": "mrg4Yj0VlRVP",
        "colab": {
          "base_uri": "https://localhost:8080/"
        },
        "outputId": "72478db9-c560-47df-b476-3d52188c798e"
      },
      "outputs": [
        {
          "output_type": "stream",
          "name": "stdout",
          "text": [
            "tests passed\n"
          ]
        }
      ],
      "source": [
        "# Just very simple sanity checks\n",
        "assert isinstance(train_dataset[0], tuple)\n",
        "assert len(train_dataset[0]) == 2\n",
        "assert isinstance(train_dataset[1][1], int)\n",
        "print(\"tests passed\")"
      ]
    },
    {
      "cell_type": "markdown",
      "metadata": {
        "id": "EOuM0EEYj7Ml"
      },
      "source": [
        "### Посмотрим на картиночки"
      ]
    },
    {
      "cell_type": "code",
      "execution_count": null,
      "metadata": {
        "id": "DeuB0YC3LYRm",
        "colab": {
          "base_uri": "https://localhost:8080/",
          "height": 882
        },
        "outputId": "d127cff9-45c3-4088-bc7d-aa766946a17e"
      },
      "outputs": [
        {
          "output_type": "stream",
          "name": "stderr",
          "text": [
            "WARNING:matplotlib.image:Clipping input data to the valid range for imshow with RGB data ([0..1] for floats or [0..255] for integers).\n"
          ]
        },
        {
          "output_type": "display_data",
          "data": {
            "text/plain": [
              "<Figure size 640x480 with 1 Axes>"
            ],
            "image/png": "[encoded data removed]"
          },
          "metadata": {}
        },
        {
          "output_type": "stream",
          "name": "stderr",
          "text": [
            "WARNING:matplotlib.image:Clipping input data to the valid range for imshow with RGB data ([0..1] for floats or [0..255] for integers).\n"
          ]
        },
        {
          "output_type": "display_data",
          "data": {
            "text/plain": [
              "<Figure size 640x480 with 1 Axes>"
            ],
            "image/png": "[encoded data removed]"
          },
          "metadata": {}
        }
      ],
      "source": [
        "seed_everything(seed)\n",
        "\n",
        "for batch in train_dataloader:\n",
        "    images, class_nums = batch\n",
        "    plt.imshow(images[5].permute(1, 2, 0))\n",
        "    plt.show()\n",
        "    plt.imshow(images[19].permute(1, 2, 0))\n",
        "    plt.show()\n",
        "    break"
      ]
    },
    {
      "cell_type": "markdown",
      "metadata": {
        "id": "LCwKB-3nKm1-"
      },
      "source": [
        "## Задание 1.\n",
        "\n",
        "5 баллов\n",
        "Добейтесь accuracy на валидации не менее 0.44. В этом задании запрещено пользоваться предобученными моделями и ресайзом картинок.\n",
        "\n",
        "\n",
        "Для того чтобы выбить скор (считается ниже) на 2.5/5 балла (то есть половину за задание) достаточно соблюдать пару простых жизненных правил:\n",
        "1. Аугментация (без нее сложно очень будет)\n",
        "2. Оптимайзеры можно (и нужно) использовать друг с другом. Однако когда что-то проверяете, то не меняйте несколько параметров сразу - собьете логику экспериментов\n",
        "3. Не используйте полносвязные модели или самые первые сверточные, используйте более современные архитектуры (что на лекциях встречались)\n",
        "4. Посмотреть все ноутбуки прошедших семинаров и слепить из них что-то общее. Семинарских тетрадок хватит сверх"
      ]
    },
    {
      "cell_type": "markdown",
      "metadata": {
        "id": "pWR2l6ymZfRJ"
      },
      "source": [
        "### Модель (или просто импортируйте не предобученную)"
      ]
    },
    {
      "cell_type": "code",
      "source": [
        "from torchvision.models import resnet18, densenet121"
      ],
      "metadata": {
        "id": "l4N_DBht-2zT"
      },
      "execution_count": null,
      "outputs": []
    },
    {
      "cell_type": "code",
      "execution_count": null,
      "metadata": {
        "id": "mDYorQXLZhTQ"
      },
      "outputs": [],
      "source": [
        "class YourNet(torch.nn.Module):\n",
        "    def __init__(self):\n",
        "        super().__init__()\n",
        "        self.model = densenet121(weights=None)\n",
        "        self.model.classifier = nn.Sequential(\n",
        "            nn.Linear(self.model.classifier.in_features, 512),\n",
        "            nn.ReLU(),\n",
        "#             nn.Dropout(p=0.2),\n",
        "            nn.Linear(512, 200)\n",
        "        )\n",
        "\n",
        "        self.loss_func = torch.nn.CrossEntropyLoss()\n",
        "        self.targets = torch.Tensor()\n",
        "        self.preds = torch.Tensor()\n",
        "\n",
        "    def _forward(self, x):\n",
        "        return self.model(x)\n",
        "\n",
        "    def forward(self, images, target=None):\n",
        "        output = self._forward(images)\n",
        "\n",
        "        if target is not None:\n",
        "            loss = self.loss_func(output, target)\n",
        "\n",
        "            self.targets = torch.cat((self.targets, target.cpu()), 0)\n",
        "            pred = torch.argmax(output, dim=-1)\n",
        "            self.preds = torch.cat((self.preds, pred.cpu()), 0)\n",
        "            self.accuracy = accuracy(self.preds.long(), self.targets.long(), task='multiclass', num_classes=200)\n",
        "\n",
        "        return loss if target is not None else output\n",
        "\n",
        "    def get_accuracy(self, reset=False):\n",
        "        if reset:\n",
        "            self.targets = torch.Tensor()\n",
        "            self.preds = torch.Tensor()\n",
        "        return self.accuracy"
      ]
    },
    {
      "cell_type": "markdown",
      "metadata": {
        "id": "f7iHXWj1alM1"
      },
      "source": [
        "### Тренировочный класс lightning"
      ]
    },
    {
      "cell_type": "code",
      "execution_count": null,
      "metadata": {
        "id": "lD76TeZ1apua"
      },
      "outputs": [],
      "source": [
        "class YourModule(pl.LightningModule):\n",
        "    def __init__(self, model, learning_rate):\n",
        "        super().__init__()\n",
        "        self.model = model\n",
        "        self.learning_rate = learning_rate\n",
        "\n",
        "        self.optimizer = torch.optim.Adam(self.model.parameters(), lr=self.learning_rate)\n",
        "        self.loss = nn.CrossEntropyLoss()\n",
        "\n",
        "    def forward(self, x):\n",
        "        return self.model(x)\n",
        "\n",
        "    def configure_optimizers(self):\n",
        "        return self.optimizer\n",
        "\n",
        "    def training_step(self, train_batch, batch_idx):\n",
        "        images, target = train_batch\n",
        "        preds = self.forward(images)\n",
        "        loss = self.loss(preds, target)\n",
        "        self.log(\n",
        "            \"train_loss\", loss, prog_bar=True\n",
        "        )  # сохраняет логи в папку, но можно несложно добавить wandb\n",
        "        return loss\n",
        "\n",
        "    def validation_step(self, val_batch, batch_idx):\n",
        "        images, target = val_batch\n",
        "        preds = self.forward(images)\n",
        "        loss = self.loss(preds, target)\n",
        "        acc = accuracy(torch.argmax(preds, dim=-1).long(), target.long(), task=\"multiclass\", num_classes=200)\n",
        "        self.log(\"val_loss\", loss, prog_bar=True)\n",
        "        self.log(\"accuracy\", acc, prog_bar=True)"
      ]
    },
    {
      "cell_type": "code",
      "source": [
        "model = YourNet().to(device)\n",
        "module = YourModule(model, learning_rate=0.001)"
      ],
      "metadata": {
        "id": "UlhRCLYE8a14"
      },
      "execution_count": null,
      "outputs": []
    },
    {
      "cell_type": "code",
      "execution_count": null,
      "metadata": {
        "id": "z9-1wq7QYkiz",
        "colab": {
          "base_uri": "https://localhost:8080/",
          "height": 496
        },
        "outputId": "eeb0402f-55a5-412b-912d-0aef9e098284"
      },
      "outputs": [
        {
          "output_type": "stream",
          "name": "stderr",
          "text": [
            "\u001b[34m\u001b[1mwandb\u001b[0m: Currently logged in as: \u001b[33martemkadanilov\u001b[0m (\u001b[33martemkadanilov123\u001b[0m). Use \u001b[1m`wandb login --relogin`\u001b[0m to force relogin\n"
          ]
        },
        {
          "output_type": "display_data",
          "data": {
            "text/plain": [
              "<IPython.core.display.HTML object>"
            ],
            "text/html": [
              "Tracking run with wandb version 0.16.0"
            ]
          },
          "metadata": {}
        },
        {
          "output_type": "display_data",
          "data": {
            "text/plain": [
              "<IPython.core.display.HTML object>"
            ],
            "text/html": [
              "Run data is saved locally in <code>/content/wandb/run-20231115_200810-s8ciz6hy</code>"
            ]
          },
          "metadata": {}
        },
        {
          "output_type": "display_data",
          "data": {
            "text/plain": [
              "<IPython.core.display.HTML object>"
            ],
            "text/html": [
              "Syncing run <strong><a href='https://wandb.ai/artemkadanilov123/not%20pretrained/runs/s8ciz6hy' target=\"_blank\">earnest-sun-42</a></strong> to <a href='https://wandb.ai/artemkadanilov123/not%20pretrained' target=\"_blank\">Weights & Biases</a> (<a href='https://wandb.me/run' target=\"_blank\">docs</a>)<br/>"
            ]
          },
          "metadata": {}
        },
        {
          "output_type": "display_data",
          "data": {
            "text/plain": [
              "<IPython.core.display.HTML object>"
            ],
            "text/html": [
              " View project at <a href='https://wandb.ai/artemkadanilov123/not%20pretrained' target=\"_blank\">https://wandb.ai/artemkadanilov123/not%20pretrained</a>"
            ]
          },
          "metadata": {}
        },
        {
          "output_type": "display_data",
          "data": {
            "text/plain": [
              "<IPython.core.display.HTML object>"
            ],
            "text/html": [
              " View run at <a href='https://wandb.ai/artemkadanilov123/not%20pretrained/runs/s8ciz6hy' target=\"_blank\">https://wandb.ai/artemkadanilov123/not%20pretrained/runs/s8ciz6hy</a>"
            ]
          },
          "metadata": {}
        },
        {
          "output_type": "error",
          "ename": "MisconfigurationException",
          "evalue": "ignored",
          "traceback": [
            "\u001b[0;31m---------------------------------------------------------------------------\u001b[0m",
            "\u001b[0;31mMisconfigurationException\u001b[0m                 Traceback (most recent call last)",
            "\u001b[0;32m<ipython-input-12-7669f4554df0>\u001b[0m in \u001b[0;36m<cell line: 4>\u001b[0;34m()\u001b[0m\n\u001b[1;32m      2\u001b[0m \u001b[0mwandb_logger\u001b[0m \u001b[0;34m=\u001b[0m \u001b[0mWandbLogger\u001b[0m\u001b[0;34m(\u001b[0m\u001b[0mlog_model\u001b[0m\u001b[0;34m=\u001b[0m\u001b[0;34m'all'\u001b[0m\u001b[0;34m)\u001b[0m \u001b[0;31m# какие возможности дает с pytorch_lightning https://docs.wandb.ai/guides/integrations/lightning\u001b[0m\u001b[0;34m\u001b[0m\u001b[0;34m\u001b[0m\u001b[0m\n\u001b[1;32m      3\u001b[0m \u001b[0;34m\u001b[0m\u001b[0m\n\u001b[0;32m----> 4\u001b[0;31m \u001b[0mtrainer\u001b[0m \u001b[0;34m=\u001b[0m \u001b[0mpl\u001b[0m\u001b[0;34m.\u001b[0m\u001b[0mTrainer\u001b[0m\u001b[0;34m(\u001b[0m\u001b[0maccelerator\u001b[0m\u001b[0;34m=\u001b[0m\u001b[0;34m\"gpu\"\u001b[0m\u001b[0;34m,\u001b[0m \u001b[0mmax_epochs\u001b[0m\u001b[0;34m=\u001b[0m\u001b[0;36m10\u001b[0m\u001b[0;34m,\u001b[0m \u001b[0mlogger\u001b[0m\u001b[0;34m=\u001b[0m\u001b[0mwandb_logger\u001b[0m\u001b[0;34m)\u001b[0m\u001b[0;34m\u001b[0m\u001b[0;34m\u001b[0m\u001b[0m\n\u001b[0m\u001b[1;32m      5\u001b[0m \u001b[0mtrainer\u001b[0m\u001b[0;34m.\u001b[0m\u001b[0mfit\u001b[0m\u001b[0;34m(\u001b[0m\u001b[0mmodule\u001b[0m\u001b[0;34m,\u001b[0m \u001b[0mtrain_dataloader\u001b[0m\u001b[0;34m,\u001b[0m \u001b[0mval_dataloader\u001b[0m\u001b[0;34m)\u001b[0m\u001b[0;34m\u001b[0m\u001b[0;34m\u001b[0m\u001b[0m\n\u001b[1;32m      6\u001b[0m \u001b[0;34m\u001b[0m\u001b[0m\n",
            "\u001b[0;32m/usr/local/lib/python3.10/dist-packages/pytorch_lightning/utilities/argparse.py\u001b[0m in \u001b[0;36minsert_env_defaults\u001b[0;34m(self, *args, **kwargs)\u001b[0m\n\u001b[1;32m     68\u001b[0m \u001b[0;34m\u001b[0m\u001b[0m\n\u001b[1;32m     69\u001b[0m         \u001b[0;31m# all args were already moved to kwargs\u001b[0m\u001b[0;34m\u001b[0m\u001b[0;34m\u001b[0m\u001b[0m\n\u001b[0;32m---> 70\u001b[0;31m         \u001b[0;32mreturn\u001b[0m \u001b[0mfn\u001b[0m\u001b[0;34m(\u001b[0m\u001b[0mself\u001b[0m\u001b[0;34m,\u001b[0m \u001b[0;34m**\u001b[0m\u001b[0mkwargs\u001b[0m\u001b[0;34m)\u001b[0m\u001b[0;34m\u001b[0m\u001b[0;34m\u001b[0m\u001b[0m\n\u001b[0m\u001b[1;32m     71\u001b[0m \u001b[0;34m\u001b[0m\u001b[0m\n\u001b[1;32m     72\u001b[0m     \u001b[0;32mreturn\u001b[0m \u001b[0mcast\u001b[0m\u001b[0;34m(\u001b[0m\u001b[0m_T\u001b[0m\u001b[0;34m,\u001b[0m \u001b[0minsert_env_defaults\u001b[0m\u001b[0;34m)\u001b[0m\u001b[0;34m\u001b[0m\u001b[0;34m\u001b[0m\u001b[0m\n",
            "\u001b[0;32m/usr/local/lib/python3.10/dist-packages/pytorch_lightning/trainer/trainer.py\u001b[0m in \u001b[0;36m__init__\u001b[0;34m(self, accelerator, strategy, devices, num_nodes, precision, logger, callbacks, fast_dev_run, max_epochs, min_epochs, max_steps, min_steps, max_time, limit_train_batches, limit_val_batches, limit_test_batches, limit_predict_batches, overfit_batches, val_check_interval, check_val_every_n_epoch, num_sanity_val_steps, log_every_n_steps, enable_checkpointing, enable_progress_bar, enable_model_summary, accumulate_grad_batches, gradient_clip_val, gradient_clip_algorithm, deterministic, benchmark, inference_mode, use_distributed_sampler, profiler, detect_anomaly, barebones, plugins, sync_batchnorm, reload_dataloaders_every_n_epochs, default_root_dir)\u001b[0m\n\u001b[1;32m    399\u001b[0m         \u001b[0mself\u001b[0m\u001b[0;34m.\u001b[0m\u001b[0m_data_connector\u001b[0m \u001b[0;34m=\u001b[0m \u001b[0m_DataConnector\u001b[0m\u001b[0;34m(\u001b[0m\u001b[0mself\u001b[0m\u001b[0;34m)\u001b[0m\u001b[0;34m\u001b[0m\u001b[0;34m\u001b[0m\u001b[0m\n\u001b[1;32m    400\u001b[0m \u001b[0;34m\u001b[0m\u001b[0m\n\u001b[0;32m--> 401\u001b[0;31m         self._accelerator_connector = _AcceleratorConnector(\n\u001b[0m\u001b[1;32m    402\u001b[0m             \u001b[0mdevices\u001b[0m\u001b[0;34m=\u001b[0m\u001b[0mdevices\u001b[0m\u001b[0;34m,\u001b[0m\u001b[0;34m\u001b[0m\u001b[0;34m\u001b[0m\u001b[0m\n\u001b[1;32m    403\u001b[0m             \u001b[0maccelerator\u001b[0m\u001b[0;34m=\u001b[0m\u001b[0maccelerator\u001b[0m\u001b[0;34m,\u001b[0m\u001b[0;34m\u001b[0m\u001b[0;34m\u001b[0m\u001b[0m\n",
            "\u001b[0;32m/usr/local/lib/python3.10/dist-packages/pytorch_lightning/trainer/connectors/accelerator_connector.py\u001b[0m in \u001b[0;36m__init__\u001b[0;34m(self, devices, num_nodes, accelerator, strategy, plugins, precision, sync_batchnorm, benchmark, use_distributed_sampler, deterministic)\u001b[0m\n\u001b[1;32m    150\u001b[0m             \u001b[0mself\u001b[0m\u001b[0;34m.\u001b[0m\u001b[0m_accelerator_flag\u001b[0m \u001b[0;34m=\u001b[0m \u001b[0mself\u001b[0m\u001b[0;34m.\u001b[0m\u001b[0m_choose_auto_accelerator\u001b[0m\u001b[0;34m(\u001b[0m\u001b[0;34m)\u001b[0m\u001b[0;34m\u001b[0m\u001b[0;34m\u001b[0m\u001b[0m\n\u001b[1;32m    151\u001b[0m         \u001b[0;32melif\u001b[0m \u001b[0mself\u001b[0m\u001b[0;34m.\u001b[0m\u001b[0m_accelerator_flag\u001b[0m \u001b[0;34m==\u001b[0m \u001b[0;34m\"gpu\"\u001b[0m\u001b[0;34m:\u001b[0m\u001b[0;34m\u001b[0m\u001b[0;34m\u001b[0m\u001b[0m\n\u001b[0;32m--> 152\u001b[0;31m             \u001b[0mself\u001b[0m\u001b[0;34m.\u001b[0m\u001b[0m_accelerator_flag\u001b[0m \u001b[0;34m=\u001b[0m \u001b[0mself\u001b[0m\u001b[0;34m.\u001b[0m\u001b[0m_choose_gpu_accelerator_backend\u001b[0m\u001b[0;34m(\u001b[0m\u001b[0;34m)\u001b[0m\u001b[0;34m\u001b[0m\u001b[0;34m\u001b[0m\u001b[0m\n\u001b[0m\u001b[1;32m    153\u001b[0m \u001b[0;34m\u001b[0m\u001b[0m\n\u001b[1;32m    154\u001b[0m         \u001b[0mself\u001b[0m\u001b[0;34m.\u001b[0m\u001b[0m_check_device_config_and_set_final_flags\u001b[0m\u001b[0;34m(\u001b[0m\u001b[0mdevices\u001b[0m\u001b[0;34m=\u001b[0m\u001b[0mdevices\u001b[0m\u001b[0;34m,\u001b[0m \u001b[0mnum_nodes\u001b[0m\u001b[0;34m=\u001b[0m\u001b[0mnum_nodes\u001b[0m\u001b[0;34m)\u001b[0m\u001b[0;34m\u001b[0m\u001b[0;34m\u001b[0m\u001b[0m\n",
            "\u001b[0;32m/usr/local/lib/python3.10/dist-packages/pytorch_lightning/trainer/connectors/accelerator_connector.py\u001b[0m in \u001b[0;36m_choose_gpu_accelerator_backend\u001b[0;34m()\u001b[0m\n\u001b[1;32m    370\u001b[0m         \u001b[0;32mif\u001b[0m \u001b[0mCUDAAccelerator\u001b[0m\u001b[0;34m.\u001b[0m\u001b[0mis_available\u001b[0m\u001b[0;34m(\u001b[0m\u001b[0;34m)\u001b[0m\u001b[0;34m:\u001b[0m\u001b[0;34m\u001b[0m\u001b[0;34m\u001b[0m\u001b[0m\n\u001b[1;32m    371\u001b[0m             \u001b[0;32mreturn\u001b[0m \u001b[0;34m\"cuda\"\u001b[0m\u001b[0;34m\u001b[0m\u001b[0;34m\u001b[0m\u001b[0m\n\u001b[0;32m--> 372\u001b[0;31m         \u001b[0;32mraise\u001b[0m \u001b[0mMisconfigurationException\u001b[0m\u001b[0;34m(\u001b[0m\u001b[0;34m\"No supported gpu backend found!\"\u001b[0m\u001b[0;34m)\u001b[0m\u001b[0;34m\u001b[0m\u001b[0;34m\u001b[0m\u001b[0m\n\u001b[0m\u001b[1;32m    373\u001b[0m \u001b[0;34m\u001b[0m\u001b[0m\n\u001b[1;32m    374\u001b[0m     \u001b[0;32mdef\u001b[0m \u001b[0m_set_parallel_devices_and_init_accelerator\u001b[0m\u001b[0;34m(\u001b[0m\u001b[0mself\u001b[0m\u001b[0;34m)\u001b[0m \u001b[0;34m->\u001b[0m \u001b[0;32mNone\u001b[0m\u001b[0;34m:\u001b[0m\u001b[0;34m\u001b[0m\u001b[0;34m\u001b[0m\u001b[0m\n",
            "\u001b[0;31mMisconfigurationException\u001b[0m: No supported gpu backend found!"
          ]
        }
      ],
      "source": [
        "run = wandb.init(project=\"not pretrained\")\n",
        "wandb_logger = WandbLogger(log_model='all') # какие возможности дает с pytorch_lightning https://docs.wandb.ai/guides/integrations/lightning\n",
        "\n",
        "trainer = pl.Trainer(accelerator=\"gpu\", max_epochs=10, logger=wandb_logger)\n",
        "trainer.fit(module, train_dataloader, val_dataloader)\n",
        "\n",
        "wandb.finish()"
      ]
    },
    {
      "cell_type": "markdown",
      "metadata": {
        "id": "3eoTAB1fSOuk"
      },
      "source": [
        "### Валидация результатов задания"
      ]
    },
    {
      "cell_type": "code",
      "execution_count": null,
      "metadata": {
        "id": "4M_BAiMNl1rL"
      },
      "outputs": [],
      "source": [
        "def evaluate_task(model, test_dataloader, device=\"cuda:0\"):\n",
        "    model = model.to(device)\n",
        "    model.eval()\n",
        "    accuracy = 0.0\n",
        "    for images, labels in tqdm(test_dataloader):\n",
        "        images, labels = images.to(device), labels.to(device)\n",
        "        with torch.no_grad():\n",
        "            loss = model(images, labels)\n",
        "            acc_batch = model.get_accuracy(reset=True)\n",
        "        accuracy += acc_batch\n",
        "    accuracy = accuracy / len(test_dataloader)\n",
        "    return accuracy"
      ]
    },
    {
      "cell_type": "code",
      "execution_count": null,
      "metadata": {
        "id": "TsP57VG8KEfP",
        "colab": {
          "base_uri": "https://localhost:8080/"
        },
        "outputId": "e780153d-3171-4a7e-ea4d-c7d353da5dbf"
      },
      "outputs": [
        {
          "output_type": "stream",
          "name": "stderr",
          "text": [
            "\n",
            "  0%|          | 0/40 [00:00<?, ?it/s]\u001b[A/usr/local/lib/python3.10/dist-packages/torch/utils/data/dataloader.py:557: UserWarning: This DataLoader will create 4 worker processes in total. Our suggested max number of worker in current system is 2, which is smaller than what this DataLoader is going to create. Please be aware that excessive worker creation might get DataLoader running slow or even freeze, lower the worker number to avoid potential slowness/freeze if necessary.\n",
            "  warnings.warn(_create_warning_msg(\n",
            "\n",
            "  2%|▎         | 1/40 [00:01<00:52,  1.35s/it]\u001b[A\n",
            "  5%|▌         | 2/40 [00:01<00:25,  1.46it/s]\u001b[A\n",
            "  8%|▊         | 3/40 [00:01<00:17,  2.12it/s]\u001b[A\n",
            " 10%|█         | 4/40 [00:02<00:13,  2.66it/s]\u001b[A\n",
            " 12%|█▎        | 5/40 [00:02<00:10,  3.23it/s]\u001b[A\n",
            " 15%|█▌        | 6/40 [00:02<00:10,  3.31it/s]\u001b[A\n",
            " 18%|█▊        | 7/40 [00:02<00:08,  3.69it/s]\u001b[A\n",
            " 20%|██        | 8/40 [00:02<00:08,  3.93it/s]\u001b[A\n",
            " 22%|██▎       | 9/40 [00:03<00:07,  4.23it/s]\u001b[A\n",
            " 25%|██▌       | 10/40 [00:03<00:06,  4.50it/s]\u001b[A\n",
            " 28%|██▊       | 11/40 [00:03<00:06,  4.62it/s]\u001b[A\n",
            " 30%|███       | 12/40 [00:03<00:05,  5.22it/s]\u001b[A\n",
            " 32%|███▎      | 13/40 [00:03<00:05,  5.14it/s]\u001b[A\n",
            " 35%|███▌      | 14/40 [00:04<00:05,  5.02it/s]\u001b[A\n",
            " 38%|███▊      | 15/40 [00:04<00:05,  4.55it/s]\u001b[A\n",
            " 40%|████      | 16/40 [00:04<00:05,  4.64it/s]\u001b[A\n",
            " 42%|████▎     | 17/40 [00:04<00:04,  4.72it/s]\u001b[A\n",
            " 45%|████▌     | 18/40 [00:04<00:04,  5.20it/s]\u001b[A\n",
            " 48%|████▊     | 19/40 [00:05<00:04,  5.24it/s]\u001b[A\n",
            " 50%|█████     | 20/40 [00:05<00:03,  5.55it/s]\u001b[A\n",
            " 52%|█████▎    | 21/40 [00:05<00:03,  5.78it/s]\u001b[A\n",
            " 55%|█████▌    | 22/40 [00:05<00:02,  6.04it/s]\u001b[A\n",
            " 57%|█████▊    | 23/40 [00:05<00:03,  5.36it/s]\u001b[A\n",
            " 60%|██████    | 24/40 [00:05<00:03,  5.32it/s]\u001b[A\n",
            " 62%|██████▎   | 25/40 [00:06<00:02,  5.67it/s]\u001b[A\n",
            " 65%|██████▌   | 26/40 [00:06<00:02,  6.02it/s]\u001b[A\n",
            " 68%|██████▊   | 27/40 [00:06<00:02,  6.19it/s]\u001b[A\n",
            " 70%|███████   | 28/40 [00:06<00:01,  6.02it/s]\u001b[A\n",
            " 72%|███████▎  | 29/40 [00:06<00:01,  5.88it/s]\u001b[A\n",
            " 75%|███████▌  | 30/40 [00:06<00:01,  6.02it/s]\u001b[A\n",
            " 78%|███████▊  | 31/40 [00:07<00:01,  6.14it/s]\u001b[A\n",
            " 80%|████████  | 32/40 [00:07<00:01,  6.35it/s]\u001b[A\n",
            " 82%|████████▎ | 33/40 [00:07<00:01,  6.38it/s]\u001b[A\n",
            " 85%|████████▌ | 34/40 [00:07<00:00,  6.55it/s]\u001b[A\n",
            " 88%|████████▊ | 35/40 [00:07<00:00,  6.85it/s]\u001b[A\n",
            " 90%|█████████ | 36/40 [00:07<00:00,  7.05it/s]\u001b[A\n",
            " 92%|█████████▎| 37/40 [00:07<00:00,  7.17it/s]\u001b[A\n",
            " 95%|█████████▌| 38/40 [00:08<00:00,  7.33it/s]\u001b[A\n",
            "100%|██████████| 40/40 [00:08<00:00,  4.84it/s]"
          ]
        },
        {
          "output_type": "stream",
          "name": "stdout",
          "text": [
            "Оценка за это задание составит 9.35 баллов\n"
          ]
        },
        {
          "output_type": "stream",
          "name": "stderr",
          "text": [
            "\n"
          ]
        }
      ],
      "source": [
        "mmodel = model\n",
        "\n",
        "accuracy = evaluate_task(mmodel, val_dataloader)\n",
        "print(f\"Оценка за это задание составит {np.clip(10 * accuracy / 0.44, 0, 10):.2f} баллов\")"
      ]
    },
    {
      "cell_type": "markdown",
      "metadata": {
        "id": "cZqSdlQQKukS"
      },
      "source": [
        "## Задание 2\n",
        "\n",
        "5 баллов\n",
        "Добейтесь accuracy на валидации не менее 0.84. В этом задании делать ресайз и использовать претрейн можно.\n",
        "\n",
        "Для того чтобы выбить скор (считается ниже) на 2.5/5 балла (то есть половину за задание) достаточно соблюдать пару простых жизненных правил:\n",
        "1. Аугментация (без нее сложно очень будет)\n",
        "2. Оптимайзеры можно (и нужно) использовать друг с другом. Однако когда что-то проверяете, то не меняйте несколько параметров сразу - собьете логику экспериментов\n",
        "3. Не используйте полносвязные модели или самые первые сверточные, используйте более современные архитектуры (что на лекциях встречались или можете пойти дальше).\n",
        "4. Попробуйте сначала посмотреть качество исходной модели без дообучения, сохраните как baseline. Отсюда поймете какие слои нужно дообучать.\n",
        "5. Посмотреть все ноутбуки прошедших семинаров и слепить из них что-то общее. Семинарских тетрадок хватит сверх"
      ]
    },
    {
      "cell_type": "markdown",
      "metadata": {
        "id": "zDzXM5rNxNQp"
      },
      "source": [
        "### Модель (или просто импортируйте предобученную)"
      ]
    },
    {
      "cell_type": "code",
      "source": [
        "seed_everything(seed)\n",
        "\n",
        "train_transform = transforms.Compose(\n",
        "    [\n",
        "        transforms.RandomHorizontalFlip(p=0.5),\n",
        "        transforms.ColorJitter(hue=0.05),\n",
        "        transforms.RandomGrayscale(p=0.3),\n",
        "        transforms.Resize((224, 224)),\n",
        "        transforms.ToTensor(),\n",
        "        transforms.Normalize(mean=[0.4802, 0.4481, 0.3975], std=[0.2764, 0.2689, 0.2816])\n",
        "    ]\n",
        ")\n",
        "\n",
        "val_transform = transforms.Compose(\n",
        "    [\n",
        "        transforms.Resize((224, 224)),\n",
        "        transforms.ToTensor(),\n",
        "        transforms.Normalize(mean=[0.4802, 0.4481, 0.3975], std=[0.2764, 0.2689, 0.2816])\n",
        "    ]\n",
        ")\n",
        "\n",
        "train_dataset = ImageFolder('/content/dataset/dataset/train', transform=train_transform)\n",
        "val_dataset = ImageFolder('/content/dataset/dataset/val', transform=val_transform)\n",
        "# REPLACE ./dataset/dataset WITH THE FOLDER WHERE YOU DOWNLOADED AND UNZIPPED THE DATASET\n",
        "\n",
        "train_dataloader = torch.utils.data.DataLoader(\n",
        "    train_dataset, batch_size=256, shuffle=True, num_workers=4\n",
        ")\n",
        "val_dataloader = torch.utils.data.DataLoader(\n",
        "    val_dataset, batch_size=256, shuffle=False, num_workers=4\n",
        ")"
      ],
      "metadata": {
        "id": "FW3nFZDflOVF"
      },
      "execution_count": null,
      "outputs": []
    },
    {
      "cell_type": "code",
      "source": [
        "import pytorch_lightning as pl\n",
        "from torchmetrics.functional import accuracy\n",
        "from torchvision.models import regnet_y_32gf, maxvit_t, vit_h_14, squeezenet1_1, vgg16, vit_b_16, resnet18, resnet50"
      ],
      "metadata": {
        "id": "gXNU08P9jNcb"
      },
      "execution_count": null,
      "outputs": []
    },
    {
      "cell_type": "code",
      "source": [
        "model = vit_b_16(weights='ViT_B_16_Weights.IMAGENET1K_V1').to(device)"
      ],
      "metadata": {
        "id": "Pb-LtaJWH3DS"
      },
      "execution_count": null,
      "outputs": []
    },
    {
      "cell_type": "markdown",
      "metadata": {
        "id": "Flwqk0YjxPLE"
      },
      "source": [
        "### Тренировочный класс lightning"
      ]
    },
    {
      "cell_type": "code",
      "execution_count": null,
      "metadata": {
        "id": "UnKHluO6xID4"
      },
      "outputs": [],
      "source": [
        "class YourModule_pr(pl.LightningModule):\n",
        "    def __init__(self, model, learning_rate):\n",
        "        super().__init__()\n",
        "        self.learning_rate = learning_rate\n",
        "        self.model = model\n",
        "        in_features = self.model.heads.head.in_features\n",
        "        self.model.heads.head = nn.Identity()\n",
        "        self.classifier = nn.Linear(in_features, 200)\n",
        "\n",
        "        self.optimizer = torch.optim.Adam(self.classifier.parameters(), lr = self.learning_rate)\n",
        "        self.loss_func = torch.nn.CrossEntropyLoss()\n",
        "\n",
        "    def forward(self, x):\n",
        "        with torch.no_grad():\n",
        "            features = self.model(x)\n",
        "        preds = self.classifier(features)\n",
        "        return preds\n",
        "\n",
        "    def configure_optimizers(self):\n",
        "        return self.optimizer\n",
        "\n",
        "    def training_step(self, train_batch, batch_idx):\n",
        "        images, target = train_batch\n",
        "        preds = self.forward(images)\n",
        "        loss = self.loss_func(preds, target)\n",
        "        self.log(\"train_loss\", loss, prog_bar=True)\n",
        "        return loss\n",
        "\n",
        "    def validation_step(self, val_batch, batch_idx):\n",
        "        images, target = val_batch\n",
        "        preds = self.forward(images)\n",
        "        loss = self.loss_func(preds, target)\n",
        "        acc = accuracy(torch.argmax(preds, dim=-1).long(), target.long(), task=\"multiclass\", num_classes=200)\n",
        "        self.log(\"val_loss\", loss, prog_bar=True)\n",
        "        self.log(\"accuracy\", acc, prog_bar=True)"
      ]
    },
    {
      "cell_type": "code",
      "execution_count": null,
      "metadata": {
        "id": "lQAjkvkVyhEg"
      },
      "outputs": [],
      "source": [
        "module_pretrained = YourModule_pr(model, 0.001)"
      ]
    },
    {
      "cell_type": "code",
      "execution_count": null,
      "metadata": {
        "id": "T4wJgB1YyhG0",
        "colab": {
          "base_uri": "https://localhost:8080/",
          "height": 687,
          "referenced_widgets": [
            "1a2a5c3151fd479c926670c932047d08",
            "fdbc8369eff94d81863a72e17ba8fb74",
            "17d12155b6a74744a5caebef8bfc171c",
            "87cc40e73cc74f0c893cad2729acad33",
            "95cd02f1268c4da9ace68e866a85af21",
            "09aff8f2af594d51b302900c0237668d",
            "b5c8b4181ff24aecbe4b5fb766237857",
            "79444f8c8c974cccab44f0e6cdc8b3e7",
            "681323df80ef4976b693f055cb3585e6",
            "6e1958981670408a9e506cc368867b68",
            "f6d1476b0500494b8f5540ce882ba5d6",
            "c279aca64da5480b91087cb4e2cc1914",
            "e3487ea0bb9b471cb02a99f8cbd925ea",
            "93f31d8eadcd4d0094ef8ac9fabde7ab",
            "47ddfbc6049248e3988e6e464e6dbf70",
            "2086a5ca81aa4f9180e511e819369ed3",
            "d52db35ba3104290ae12ac5edbec1d73",
            "576d547c3fea49b9851a7c6b2e45c2e0",
            "9e5a16ad32ce4f1abbdc7bbb2ee1ff7a",
            "a4eecda7913b48198107185970be9fe8",
            "5177dd0a6f8e477387835a76973db72f",
            "5602c6add19f4590839f4e3710db7ad8",
            "b6651f9ced754df588b53bcef127e7f4",
            "2eb10d2c6e98460bb0760d44381f4fb2",
            "8233373e8a4c43cda1975aed929fefac",
            "f4eb947a711b491f9ceb1b6aaec1caca",
            "6156ac9c97294d07bb7d50897e31565c",
            "ab1a58b4729e4e12a339956369480a27",
            "59a07740c6f344a1bf3801320a0e7b55",
            "14ba536f9c80425ba517a35d1737d813",
            "946ec05230674e1b88e4582cea91a084",
            "8f6e8498e69241b79dbd173dae8de4ce",
            "3c3cb3b80cd84d57b1166220ca0077b6",
            "278cbd7bbf8a413e9d3148be23e16807",
            "aa6c5c16dd76450d89fd1be725dbf7b0",
            "b4d91b31d99146209c3a53360d754c93",
            "4ed806a11f4544b29482f6568469079a",
            "6624e5f7683c413498da70618b874220",
            "a8d2869586cb496f9bfa698bd76d71f8",
            "3eda06581d0044709adbea37bb85675e",
            "a3af85bab70f46f6b41a918bc8d69188"
          ]
        },
        "outputId": "eb24b2c7-6bbe-4828-9a0c-4ad2ca72194b"
      },
      "outputs": [
        {
          "output_type": "display_data",
          "data": {
            "text/plain": [
              "<IPython.core.display.HTML object>"
            ],
            "text/html": [
              "Tracking run with wandb version 0.16.0"
            ]
          },
          "metadata": {}
        },
        {
          "output_type": "display_data",
          "data": {
            "text/plain": [
              "<IPython.core.display.HTML object>"
            ],
            "text/html": [
              "Run data is saved locally in <code>/content/wandb/run-20231115_232743-vr1u1ehp</code>"
            ]
          },
          "metadata": {}
        },
        {
          "output_type": "display_data",
          "data": {
            "text/plain": [
              "<IPython.core.display.HTML object>"
            ],
            "text/html": [
              "Syncing run <strong><a href='https://wandb.ai/artemkadanilov123/pretrained/runs/vr1u1ehp' target=\"_blank\">sunny-disco-24</a></strong> to <a href='https://wandb.ai/artemkadanilov123/pretrained' target=\"_blank\">Weights & Biases</a> (<a href='https://wandb.me/run' target=\"_blank\">docs</a>)<br/>"
            ]
          },
          "metadata": {}
        },
        {
          "output_type": "display_data",
          "data": {
            "text/plain": [
              "<IPython.core.display.HTML object>"
            ],
            "text/html": [
              " View project at <a href='https://wandb.ai/artemkadanilov123/pretrained' target=\"_blank\">https://wandb.ai/artemkadanilov123/pretrained</a>"
            ]
          },
          "metadata": {}
        },
        {
          "output_type": "display_data",
          "data": {
            "text/plain": [
              "<IPython.core.display.HTML object>"
            ],
            "text/html": [
              " View run at <a href='https://wandb.ai/artemkadanilov123/pretrained/runs/vr1u1ehp' target=\"_blank\">https://wandb.ai/artemkadanilov123/pretrained/runs/vr1u1ehp</a>"
            ]
          },
          "metadata": {}
        },
        {
          "output_type": "stream",
          "name": "stderr",
          "text": [
            "INFO:pytorch_lightning.utilities.rank_zero:GPU available: True (cuda), used: True\n",
            "INFO:pytorch_lightning.utilities.rank_zero:TPU available: False, using: 0 TPU cores\n",
            "INFO:pytorch_lightning.utilities.rank_zero:IPU available: False, using: 0 IPUs\n",
            "INFO:pytorch_lightning.utilities.rank_zero:HPU available: False, using: 0 HPUs\n",
            "INFO:pytorch_lightning.accelerators.cuda:LOCAL_RANK: 0 - CUDA_VISIBLE_DEVICES: [0]\n",
            "INFO:pytorch_lightning.callbacks.model_summary:\n",
            "  | Name       | Type              | Params\n",
            "-------------------------------------------------\n",
            "0 | model      | VisionTransformer | 85.8 M\n",
            "1 | classifier | Linear            | 153 K \n",
            "2 | loss_func  | CrossEntropyLoss  | 0     \n",
            "-------------------------------------------------\n",
            "86.0 M    Trainable params\n",
            "0         Non-trainable params\n",
            "86.0 M    Total params\n",
            "343.810   Total estimated model params size (MB)\n"
          ]
        },
        {
          "output_type": "display_data",
          "data": {
            "text/plain": [
              "Sanity Checking: |          | 0/? [00:00<?, ?it/s]"
            ],
            "application/vnd.jupyter.widget-view+json": {
              "version_major": 2,
              "version_minor": 0,
              "model_id": "1a2a5c3151fd479c926670c932047d08"
            }
          },
          "metadata": {}
        },
        {
          "output_type": "display_data",
          "data": {
            "text/plain": [
              "Training: |          | 0/? [00:00<?, ?it/s]"
            ],
            "application/vnd.jupyter.widget-view+json": {
              "version_major": 2,
              "version_minor": 0,
              "model_id": "c279aca64da5480b91087cb4e2cc1914"
            }
          },
          "metadata": {}
        },
        {
          "output_type": "display_data",
          "data": {
            "text/plain": [
              "Validation: |          | 0/? [00:00<?, ?it/s]"
            ],
            "application/vnd.jupyter.widget-view+json": {
              "version_major": 2,
              "version_minor": 0,
              "model_id": "b6651f9ced754df588b53bcef127e7f4"
            }
          },
          "metadata": {}
        },
        {
          "output_type": "stream",
          "name": "stderr",
          "text": [
            "INFO:pytorch_lightning.utilities.rank_zero:`Trainer.fit` stopped: `max_epochs=1` reached.\n"
          ]
        },
        {
          "output_type": "display_data",
          "data": {
            "text/plain": [
              "VBox(children=(Label(value='329.120 MB of 329.120 MB uploaded\\r'), FloatProgress(value=1.0, max=1.0)))"
            ],
            "application/vnd.jupyter.widget-view+json": {
              "version_major": 2,
              "version_minor": 0,
              "model_id": "278cbd7bbf8a413e9d3148be23e16807"
            }
          },
          "metadata": {}
        },
        {
          "output_type": "display_data",
          "data": {
            "text/plain": [
              "<IPython.core.display.HTML object>"
            ],
            "text/html": [
              "<style>\n",
              "    table.wandb td:nth-child(1) { padding: 0 10px; text-align: left ; width: auto;} td:nth-child(2) {text-align: left ; width: 100%}\n",
              "    .wandb-row { display: flex; flex-direction: row; flex-wrap: wrap; justify-content: flex-start; width: 100% }\n",
              "    .wandb-col { display: flex; flex-direction: column; flex-basis: 100%; flex: 1; padding: 10px; }\n",
              "    </style>\n",
              "<div class=\"wandb-row\"><div class=\"wandb-col\"><h3>Run history:</h3><br/><table class=\"wandb\"><tr><td>accuracy</td><td>▁</td></tr><tr><td>epoch</td><td>▁▁▁▁▁▁▁▁</td></tr><tr><td>train_loss</td><td>█▄▃▂▁▁▂</td></tr><tr><td>trainer/global_step</td><td>▁▂▃▄▅▆▇█</td></tr><tr><td>val_loss</td><td>▁</td></tr></table><br/></div><div class=\"wandb-col\"><h3>Run summary:</h3><br/><table class=\"wandb\"><tr><td>accuracy</td><td>0.827</td></tr><tr><td>epoch</td><td>0</td></tr><tr><td>train_loss</td><td>0.96029</td></tr><tr><td>trainer/global_step</td><td>390</td></tr><tr><td>val_loss</td><td>0.6558</td></tr></table><br/></div></div>"
            ]
          },
          "metadata": {}
        },
        {
          "output_type": "display_data",
          "data": {
            "text/plain": [
              "<IPython.core.display.HTML object>"
            ],
            "text/html": [
              " View run <strong style=\"color:#cdcd00\">sunny-disco-24</strong> at: <a href='https://wandb.ai/artemkadanilov123/pretrained/runs/vr1u1ehp' target=\"_blank\">https://wandb.ai/artemkadanilov123/pretrained/runs/vr1u1ehp</a><br/>Synced 5 W&B file(s), 0 media file(s), 1 artifact file(s) and 0 other file(s)"
            ]
          },
          "metadata": {}
        },
        {
          "output_type": "display_data",
          "data": {
            "text/plain": [
              "<IPython.core.display.HTML object>"
            ],
            "text/html": [
              "Find logs at: <code>./wandb/run-20231115_232743-vr1u1ehp/logs</code>"
            ]
          },
          "metadata": {}
        }
      ],
      "source": [
        "run = wandb.init(project=\"pretrained\")\n",
        "wandb_logger = WandbLogger(log_model='all')\n",
        "\n",
        "trainer = pl.Trainer(accelerator=\"gpu\", max_epochs=1, logger=wandb_logger)\n",
        "trainer.fit(module_pretrained, train_dataloader, val_dataloader)\n",
        "\n",
        "wandb.finish()"
      ]
    },
    {
      "cell_type": "markdown",
      "metadata": {
        "id": "u5D2bwOKSHVp"
      },
      "source": [
        "### Валидация результатов задания"
      ]
    },
    {
      "cell_type": "code",
      "source": [
        "def evaluate_task2(module, test_dataloader, device=device):\n",
        "    module = module.to(device)\n",
        "    module.model.eval()\n",
        "    acc_task = 0.0\n",
        "    for images, labels in tqdm(test_dataloader):\n",
        "        images, labels = images.to(device), labels.to(device)\n",
        "        with torch.no_grad():\n",
        "            preds = module.forward(images)\n",
        "            loss = module.loss_func(preds, labels)\n",
        "            acc_batch = accuracy(torch.argmax(preds, dim=-1).long(), labels.long(), task=\"multiclass\", num_classes=200)\n",
        "        acc_task += acc_batch\n",
        "    acc_task = acc_task.cpu() / len(test_dataloader)\n",
        "    return acc_task"
      ],
      "metadata": {
        "id": "Hl15nLwLKS8-"
      },
      "execution_count": null,
      "outputs": []
    },
    {
      "cell_type": "code",
      "execution_count": null,
      "metadata": {
        "id": "PEdwJE5uOrIM",
        "colab": {
          "base_uri": "https://localhost:8080/"
        },
        "outputId": "179b18be-6b2a-4a99-8221-923c1105ae55"
      },
      "outputs": [
        {
          "output_type": "stream",
          "name": "stderr",
          "text": [
            "\n",
            "  0%|          | 0/40 [00:00<?, ?it/s]\u001b[A\n",
            "  2%|▎         | 1/40 [00:05<03:35,  5.53s/it]\u001b[A\n",
            "  5%|▌         | 2/40 [00:08<02:34,  4.06s/it]\u001b[A\n",
            "  8%|▊         | 3/40 [00:11<02:07,  3.46s/it]\u001b[A\n",
            " 10%|█         | 4/40 [00:14<01:54,  3.18s/it]\u001b[A\n",
            " 12%|█▎        | 5/40 [00:16<01:45,  3.03s/it]\u001b[A\n",
            " 15%|█▌        | 6/40 [00:19<01:39,  2.94s/it]\u001b[A\n",
            " 18%|█▊        | 7/40 [00:22<01:35,  2.88s/it]\u001b[A\n",
            " 20%|██        | 8/40 [00:25<01:31,  2.87s/it]\u001b[A\n",
            " 22%|██▎       | 9/40 [00:27<01:28,  2.84s/it]\u001b[A\n",
            " 25%|██▌       | 10/40 [00:30<01:24,  2.82s/it]\u001b[A\n",
            " 28%|██▊       | 11/40 [00:33<01:21,  2.81s/it]\u001b[A\n",
            " 30%|███       | 12/40 [00:36<01:18,  2.81s/it]\u001b[A\n",
            " 32%|███▎      | 13/40 [00:39<01:15,  2.80s/it]\u001b[A\n",
            " 35%|███▌      | 14/40 [00:41<01:12,  2.80s/it]\u001b[A\n",
            " 38%|███▊      | 15/40 [00:44<01:09,  2.80s/it]\u001b[A\n",
            " 40%|████      | 16/40 [00:47<01:07,  2.80s/it]\u001b[A\n",
            " 42%|████▎     | 17/40 [00:50<01:04,  2.79s/it]\u001b[A\n",
            " 45%|████▌     | 18/40 [00:53<01:01,  2.79s/it]\u001b[A\n",
            " 48%|████▊     | 19/40 [00:55<00:58,  2.81s/it]\u001b[A\n",
            " 50%|█████     | 20/40 [00:58<00:56,  2.82s/it]\u001b[A\n",
            " 52%|█████▎    | 21/40 [01:01<00:53,  2.81s/it]\u001b[A\n",
            " 55%|█████▌    | 22/40 [01:04<00:50,  2.80s/it]\u001b[A\n",
            " 57%|█████▊    | 23/40 [01:07<00:47,  2.80s/it]\u001b[A\n",
            " 60%|██████    | 24/40 [01:09<00:44,  2.80s/it]\u001b[A\n",
            " 62%|██████▎   | 25/40 [01:12<00:41,  2.80s/it]\u001b[A\n",
            " 65%|██████▌   | 26/40 [01:15<00:39,  2.81s/it]\u001b[A\n",
            " 68%|██████▊   | 27/40 [01:18<00:36,  2.81s/it]\u001b[A\n",
            " 70%|███████   | 28/40 [01:21<00:33,  2.81s/it]\u001b[A\n",
            " 72%|███████▎  | 29/40 [01:23<00:30,  2.81s/it]\u001b[A\n",
            " 75%|███████▌  | 30/40 [01:26<00:28,  2.81s/it]\u001b[A\n",
            " 78%|███████▊  | 31/40 [01:29<00:25,  2.81s/it]\u001b[A\n",
            " 80%|████████  | 32/40 [01:32<00:22,  2.83s/it]\u001b[A\n",
            " 82%|████████▎ | 33/40 [01:35<00:19,  2.82s/it]\u001b[A\n",
            " 85%|████████▌ | 34/40 [01:38<00:16,  2.82s/it]\u001b[A\n",
            " 88%|████████▊ | 35/40 [01:40<00:14,  2.82s/it]\u001b[A\n",
            " 90%|█████████ | 36/40 [01:43<00:11,  2.81s/it]\u001b[A\n",
            " 92%|█████████▎| 37/40 [01:46<00:08,  2.82s/it]\u001b[A\n",
            " 95%|█████████▌| 38/40 [01:49<00:05,  2.82s/it]\u001b[A\n",
            " 98%|█████████▊| 39/40 [01:52<00:02,  2.83s/it]\u001b[A\n",
            "100%|██████████| 40/40 [01:52<00:00,  2.81s/it]"
          ]
        },
        {
          "output_type": "stream",
          "name": "stdout",
          "text": [
            "Оценка за это задание составит 9.61 баллов\n"
          ]
        },
        {
          "output_type": "stream",
          "name": "stderr",
          "text": [
            "\n"
          ]
        }
      ],
      "source": [
        "accuracy = evaluate_task2(module_pretrained, val_dataloader)\n",
        "print(f\"Оценка за это задание составит {np.clip(10 * (accuracy - 0.5) / 0.34, 0, 10):.2f} баллов\")"
      ]
    },
    {
      "cell_type": "markdown",
      "metadata": {
        "cell_id": 15,
        "id": "pT8vfPSolRVb"
      },
      "source": [
        "# Отчёт об экспериментах\n",
        "\n",
        "текст писать тут (или ссылочку на wandb/любой трекер экспреиментов) для каждого задания, то есть не обязательно именно тут рисовать графики, если вы используете готовые трекеры/мониторинги ваших моделей."
      ]
    },
    {
      "cell_type": "markdown",
      "source": [
        "Задание 1"
      ],
      "metadata": {
        "id": "zxuRDdRmh3TX"
      }
    },
    {
      "cell_type": "markdown",
      "source": [
        "Используем простейшую свёрточнуюмодель без Аугментаций: nn.Sequential(nn.Conv2d(3, 16, 3, padding=1), nn.BatchNorm2d(16), nn.Flatten(), nn.Linear(65536, 200),)\n",
        "\n",
        "Заметим, что accuracy будет очень низкой даже на 3 эпохе\n",
        "\n",
        "![image.png](data:image/png;base64,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)"
      ],
      "metadata": {
        "id": "JUagk9Gah6qF"
      }
    },
    {
      "cell_type": "markdown",
      "source": [
        "При добавлении Аугментаций модель стала учиться немного хуже. Значит надо менять архитектуру\n",
        "\n",
        "![image.png](data:image/png;base64,iVBORw0KGgoAAAANSUhEUgAAAkcAAAEsCAYAAADJmBfzAAAgAElEQVR4Xu3dCZSV5Z3n8X9RRa0sVUCxCSKgiIJLNBIkBCUumRwaHQMh6dDaYyfDkAwhMdLNMC1jkzLNYJDYhpOhGUUbJFFDdCJyPBIV4yGICy5sApFFgWKTosBablVRVfP8n7fe6y0Earnvrfsu3+ecOijc+77P83kuVT+e7c2oqalpPHHihJSVlcnp06eFggACCCCAAAIIRE0gKytLevToIUVFRZJx4MCBRg1Fffv2lZycnKhZ0F4EEEAAAQQQQEDMYJEcOnTIZqGMbdu2NQ4bNkw0MVEQQAABBBBAAIGoCtTW1sru3bslY/PmzY1XXHFFVB1oNwIIIIAAAgggEBfYsmUL4YjPAwIIIIAAAggg4AoQjvgsIIAAAggggAACCQKEIz4OCCCAAAIIIIAA4YjPAAIIIIAAAgggcHYBRo74ZCCAAAIIIIAAAowc8RlAAAEEEEAAAQQYOeIzgAACCCCAAAIItCjAtFqLRLwAAQQQQAABBKIkQDiKUm/TVgQQQAABBBBoUYBw1CIRL0AAAQQQQACBKAkQjqLU27QVAQQQQAABBFoUIBy1SMQLEEAAAQQQQCBKAoSjKPU2bUUAAQQQQACBFgUIRy0S8QIEEEAAAQQQiJIA4ShKvU1bEUAAAQQQQKBFAcJRi0S8AAEEEEAAAQSiJEA4ilJv01YEEEAAAQQQaFGAcNQiES9AAAEEEEAAgSgJEI6i1Nu0FQEEEEAAAQRaFCActUjECxBAAAEEEEAgSgKEoyj1Nm1FAAEEEEAAgRYFCEctEvECBBBAAAEEEIiSAOEoSr1NWxFAAAEEEECgRQHCUYtEvAABBBBAAAEEoiRAOIpSb9NWBBBAAAEEEGhRgHDUIhEvQAABBBBAAIEoCRCOotTbtBUBBBBAAAEEWhQgHLVIxAsQQAABBBBAIEoChKMo9TZtRQABBBBAAIEWBQhHLRLxAgQQQAABBBCIkgDhKEq9TVsRQAABBBBAoEUBwlGLRLwAAQQQQAABBKIkQDiKUm/TVgTaKbD/wAH5zf/5d3l/8xYpKyuTHj16yEMPzpfLL7vMXnH7hx/Kb5Yslbff2WT//7aJfyP//D/+SU6dOiXzF/xSNmx8U2KxmFw2fLg88quF5vU75Cc/mxV/nb7nK18dJwMHDpBVT/1WHln8G1n5u6dk+rT/Kk8sXyHFxb3kVwsfPG8dznavX/z8fvnWlL+19X1x9f+zdXv8P1bIkqX/V/7x3ntk8rfuaKcIb0MAgTALEI7C3Lu0DQGPBDQcTfvhDPn+3X9vr/jLh35lg84Tjy21AWjiHZPt7//4v/9QSksP2f+eOeNH8l++P00+3LFDpv7td6V//36yadO7Mmf2P7Y6HOXm5tpr2vA06rpz1kH//Fz3+p9z77eh7fFH/92GuRk/uUe2bN0mq59bJd26dfNIiMsggECYBAhHYepN2oJAigU0COmoz8JfPSz79x+QP734gqx9+RUblnSU5+6/vzNeAw1Uk7/zPbnuy9fK4n/7VbOabXzzrVaPHCVeUy9ytjqcNPU61720fnPvn2cDmgY2HaFyg12Kubg8AggEVIBwFNCOo9oIdKSABpKZ98yyo0Aadnbv2Wun1zQcPbH8STsFVjLvfrn15pvi1TpbAHL/sLXhKPGa56vD2abpEn1uuOlWyc/Pl3t+8mMblM4Mch1pyb0QQMD/AoQj//cRNUQg7QJz/nmuvPran+XfFi2U0V8ZFZ/CSvXIUWI4Ol8dzjdypHi/+N8PyvOrX7DBTqfYVj39Wxk4YEDaXakAAgj4U4Bw5M9+oVYI+EpA1+loqNCpKS06UqRFw5EWXXOkC651kbMWXVs0/xcl8RClC7Q1mGhA+deSeeKGGV1TtOBfH5Anf/s7e/0zF2QnhqPz1UHXDrlrjs68l/6ZO8WndWNKzVcfLSqDgC8FCEe+7BYqhYC/BHQ32v+aV2LXGWnI0aJhRsORho/E3Wq6M+yb37hV7vjPt0l382fubjV9z5jRX5E7/+57dmG07kj7w3PODrJbb7lZ3nv/ffvfibvVEsNRS3VI3K125r30/yd/93u2/kyp+euzRW0Q8KMA4ciPvUKdEEDAcwF3l9qT/7GMKTXPdbkgAuESIByFqz9pDQIInCGgU2ovv7LOnm309RtvsNN9FAQQQOB8AoQjPh8IIBBqAXetkgajH/3wvzFqFOrepnEIeCNAOPLGkasggAACCCCAQEgECEch6UiagQACCCCAAALeCBCOvHHkKggggAACCCAQEgHCUUg6kmYggAACCCAQJoEdR2PSyTRoWO/cDm8W4ajDybkhAggggAACCJxP4NGNn8ruT2sk06Sjy/rkydRre3QoGOGoQ7m5GQIIIIAAAgicT+ClD0/Kkg2fSqxepHOnDCnK6yQ/GN1Tvja0a4fBEY46jJobIYAAAggggMC5BN49UCWv/rVC1nx4Sj4zyajRvDA7M0N6mnB0zw295aZLu3UYnqfhqLKyShYvftQ+Y6moqFBmzpz2hYasWPGM7Nmzz7ymRu67714pKMiXvXs/lmee+aN9bXn5yfjvd5gCN0IAAQQQQACBDhf48EhMXtn1mbz6UYV8cqLWTKNlyE2XdJWD5TWy53iNZGd1kq8N6SL/8p/6dWjdPA1HS5cut8FIQ9G8eQ/KiBHDZfLk2+INWrduvaxdu86Gn2effUFKSw/L7NkzJfF9Gp603HnnlA6F4GYIIIAAAgggkHqBfWW18spfP7OhaNexGnvDcSYA3TSsqwlGXSS3sy7DFnl+60kxA0cyYUT31FfqjDt4Go40EI0bN0bGjx8rq1Y9b8NP4uiRBp/q6phMm3aXbN26Q5YtWymLFpXY127Y8LaUlMyRxx57UoYOHSwTJtzS4RjcEAEEEEAAAQS8Fzjy2WkbiF42gWhzabW9wXUD8+OBqCg/y/ubJnFFT8PRjBmzZdKkifFwtGnTBzJ//tx49RYseMROt7nhaMmSx2Xu3FlSVVUly5c/bafatCS+p61tq6py0CkIIIAAAgggkD6Bk9X18ud91fLa7mp554Dzs/ny3tlyw5B8GT+0QPp2zWyxcvn5eS2+JhUv8DQctXXkaOXK39sptgceeEimTv22DB58oR05ys3NtQGqPaWhoaE9b+M9CCCAAAIIIJCkQO3pRnnFrB/ShdV/3l1hr3Zxrxz5upku+/rFXWRIz+w23aFTJ2eKraOLp+HoXGuOdK2RTrXpr6tXv2Sn0nSKzV1zNGdOiQ1HI0cOb/b7HY3B/RBAAAEEEECg7QLrTCDSNUT6VdfQKBd072ynzG42i6sv79vxhzi2vQXN3+FpOHJ3q+mOs8GDB5nAM1kqKirNWqKFMn363fHws337Tiks7C5TptxuX6frj3QUKTc3x067TZz4Dfv7FAQQQAABBBDwp8DGjyudQGTWEp2KNUiP/Ey52S6q7irXmvVEQS6ehqMgQ1B3BBBAAAEEEDi/wAdmMbUGopdNIDpqFlnnm51lNw0zO81MIBprdpyFpRCOwtKTtAMBBBBAAIEUCOw0zzizI0Rm6uxjsw3f7K6Xm82BjLrtXqfO9P/DVghHYetR2oMAAggggECSAnogo2671ymznUedneQ6MuQGIh0xCnMhHIW5d2kbAggggAACrRQ4WmHOImoKRO8fdLbe69ohnTK72Uyd9fDZWUStbFa7XkY4ahcbb0IAAQQQQCD4AqfMM8x0272OEL2xr9I2SHeX6S4zXUt0Qfe2bb0PvojTAsJRWHqSdiCAAAIIINAKgbp6cxaRCUMail41v2rR84duHmbWEZk1REPbeBZRK24ZuJcQjgLXZVQYAQQQQACBtgvooYzOtFmF1JxukP7dnLOIdNpsZL/gnUXUdoHWv4Nw1HorXokAAggggECgBN76pMpZWG2+TpoptKK8zHgguu7CYJ9FlMqOIBylUpdrI4AAAggg0MECmw81bb03gejwZ3WSm5URD0TjhobnLKJUshKOUqnLtRFAAAEEEOgAgV3HYs7CahOI9pqziLTo88zsOiLza2anMJ5GlDpYwlHqbLkyAggggAACKRPYX15rw9Cr5nDG7Ydj9j5jBhc07TTrKgXZ4T6LKGWw5sKEo1Tqcm0EEEAAAQQ8FPi08vOziN494JxFdM0APYvIOa26V0GWh3eL7qUIR9Hte1qOAAIIIBAAgcrahvjzzDbsdc4iuqxPbjwQDSyM5llEqew6wlEqdbk2AggggAAC7RCob9CziJzDGXXqTMtFPbLttns9nHFYMVvv28Ha6rcQjlpNxQsRQAABBBBIrcDrehZR0wGN1XUN0lfPIrKBqKtcyVlEqcVPuDrhqMOouRECCCCAAAJfFHjbnEXkjhCdqK6X7noWkX2eWVcZxVlEafnIEI7Sws5NEUAAAQSiLLDV7C6zp1Wbr9JTdZJtziJynmfWVW7gLKK0fzQIR2nvAiqAAAIIIBAFgd3Hna33emL1nuM1tsnjL3Z2melIUedMziLyy+eAcOSXnqAeCCCAAAKhEzh4si7+PLNth52t99dfVBAPRF1zOIvIj51OOPJjr1AnBBBAAIHACpRVnY4/z2xT01lEV1+QF19Y3bsLZxH5vXMJR37vIeqHAAIIIOB7gSqzs8xdQ7S+6SyiS3s7ZxHpwuoLiziLyPedmFBBwlGQeou6IoAAAgj4RqChsdF5nlnTWUTmaCIbgm5uOq1awxElmAKEo2D2G7VGAAEEEEiTwPo9FfZ5ZrqwusqcXq3TZHbr/aVd5ar+eWmqFbf1UoBw5KUm10IAAQQQCKXApv1NZxGZkaLj5vlm3XKds4h0p9noQfmhbHOUG0U4inLv03YEEEAAgXMK6JPuX26aMtNdZ7rV3g1EugWfEl4BwlF4+5aWIYAAAgi0UWCPnkXUFIg++tQ5i0gPZdQRIj2kUQ9rpIRfgHAU/j6mhQgggAAC5xEoNaNCuoZId5ttOeScRaSP7dBdZjpSpI/zoERLgHAUrf6mtQgggAACRkCfYaZhSHebvfVJpTW50iymdgNRn66cRRTlDwrhKMq9T9sRQACBCAnETjfGzyJ63ew40zKsOCd+WvVFPTiLKEIfh/M2lXDEJwEBBBBAINQCr5o1RLrtXtcS1TeIDCzsHA9El/XhLKJQd347G0c4aiccb0MAAQQQ8K/Ahn2VTc80+0wqahqkV4E5i2iYWVht1hBdM4Ct9/7tOX/UjHDkj36gFggggAACSQq8e6AqfmL1sYrTUpDdyawh6mZD0RjzsFcKAq0VIBy1VorXIYAAAgj4TuDDI7H41vv95XWS2ck5i+hmE4i+bn6lINAeAcJRe9R4DwIIIIBA2gT2lX1+FtGuY85ZROOGOGcR6VcuZxGlrW/CcmPCUVh6knYggAACIRY48tlpO0KkC6s3lzpnEV03MD8eiIo4iyjEvd/xTSMcdbw5d0QAAQQQaIXAST2LSE+rNmcRvfmxcxbRyL655gGv3cyUWRfp361zK67CSxBouwDhqO1mvAMBBBBAIEUCteYsIvd5Zn/e7ZxFdHGvz88iGtKTs4hSRM9lEwQIR3wcEEAAAQTSLrCu6fEdemp1XUOjXNDdOYtIn2d2uRktoiDQkQKEo47U5l4IIIAAAnGBjR9Xxc8iOhWrlx75mfHHd1xr1hNREEiXAOEoXfLcFwEEEIigwPsHnbOIdOrsqFlknd+5U/xwxrFmxxkFAT8IEI780AvUAQEEEAixwM6j5iwifXyHmTr72GzD75RhziJqOq1aF1br/1MQ8JMA4chPvUFdEEAAgZAIfHKiNv48s51HnbOIdGToJhOGdC2RjhhREPCrAOHIrz1DvRBAAIGACRw1j+ywI0Rmyuz9g85ZRLp2yDmxuqtdU0RBIAgChKMg9BJ1RAABBHwqoAupX23aafaGedirFt1dprvMdIRId51REAiagKfhqLKyShYvflRisZgUFRXKzJnTvuCxYsUzsmfPPvOaGrnvvnuloMDZkaC/v337Tvvfd9wxQUaNuiZoltQXAQQQiIRAXX2jHR3ShdWvml+1DOmZY0eHdA2RnktEQSDIAp6Go6VLl9tgpKFo3rwHZcSI4TJ58m1xn3Xr1svatetsKHr22RektPSwzJ49U1atel62bdshs2bNkIoK518effoUB9mVuiOAAAKhE9BDGXXaTB/hUWsCkp5Q7T7PTE+upiAQFgFPw5EGonHjxsj48WNt4NHwkzh6pKND1dUxmTbtLtm6dYcsW7ZSFi0qOWuQai9wfX1De9/K+xBAAAEEzhB4e785i8iOEFXISTOFps8w09Eh/fryAM4i4gOTWoHMzPQs3Pc0HM2YMVsmTZoYD0ebNn0g8+fPjcstWPCInW5zw9GSJY/L3LmzpKRkoXTt2kUKC7tLeflJ+elPp7d75EjDFwUBBBBAoP0CW4/Uymu7K81XlRwxi6z1Kfc3Ds23X18dRCBqvyzvbKtAXl56RiQ9DUdtHTlaufL3dortgQcekrFjR8uECbfYtUfudFtbEXk9AggggED7BHYdq7GjQzpttrfM2Xpvp8wudrbeZ3biLKL2yfKuIAp4Go7OteZI1xrpVJv+unr1S3YqLTEE6fu06IiS/v6JE+VnXcwdRGDqjAACCPhVYH95bXzr/YdHnEA0ZnCB3Wmm02Zdcth679e+o16pFfA0HLm71XRqbPDgQTJ16mS7wFqnzaZPv1tGjhwe35WmU2hTptxuX6fve+yxJ20oys3Njf9+apvO1RFAAIHoCXxa+flZRO8ecM4iusasHXIPZ+xVkBU9FFqMwBkCnoYjdBFAAAEE/CdQWdvg7DIz2+437HV2BF/WJ9cezqhTZgMLOYvIf71GjdIpQDhKpz73RgABBFIkUN9gziJqep6Z/qrloh7Z8UA0rJiziFJEz2VDIEA4CkEn0gQEEEDAFXhdzyJqOqCxuq5B+upZRDpCZNYQXdk/DygEEGiFAOGoFUi8BAEEEPCzgD2LSEeJzNeJ6nrpbs4icp9nNupCtt77ue+omz8FCEf+7BdqhQACCJxXYOvhWDwQlZ6qk2xzFpH7PLMbhnZBDwEEkhAgHCWBx1sRQACBjhT46FPnLCJ9fMee487W+/FN5xDpSFHnTM4i6sj+4F7hFSAchbdvaRkCCIRA4ODJuqaziCpk22Fn6/31FxXYc4g0EHXL5SyiEHQzTfCZAOHIZx1CdRBAAIGyqno7OvTKrlOyqeksoqsvyIufWN27K1vv+ZQgkEoBwlEqdbk2Aggg0EqBKrOzzF1Uvb7pLKJLe+fYQKRriS4sym7llXgZAggkK0A4SlaQ9yOAAALtFGhobHSeZ2a23mswMkcT2RDkLqzWcERBAIGOFyAcdbw5d0QAgYgLrN9TIa9+5CysrjKnV/fukhU/nFGnzygIIJBeAcJRev25OwIIRERgk55FpCNEZqTouHm+mS6k1gXVurBaF1hTEEDAPwKEI//0BTVBAIGQCWw3ZxHp88x0ykx3nelWe/d5ZroFn4IAAv4UIBz5s1+oFQIIBFRgz/Ha+BoiPZdIix7KaBdWm69sziIKaM9S7SgJEI6i1Nu0FQEEUiKgJ1TbhdVmhGjLIecsIn1sh4YhDUXdOYsoJe5cFIFUCRCOUiXLdRFAINQC+gwzd+u9PttMiz7YVR/wqlNn+sBXCgIIBFOAcBTMfqPWCCCQBoHY6cZ4IHrd7DjTMqzYOYvo62YN0eCebL1PQ7dwSwQ8FyAceU7KBRFAIGwCzvPMTtm1RPUNIgMLOzunVZsRosv65IatubQHgcgLEI4i/xEAAAEEziawYV9l0zPNPpOKmgbpVWDOImoKRNcM4CwiPjUIhFmAcBTm3qVtCCDQJoF3D5iziMyiaj2g8VjFaemSk2nPIdITq8cM5iyiNmHyYgQCLEA4CnDnUXUEEEhe4MMjsfjW+/3ldZLZyZxFpCNEZg2R/kpBAIHoCRCOotfntBiByAvsK/v8LKJdx5yziMbpWURNJ1bnde4UeSMAEIiyAOEoyr1P2xGIkMBhPYuo6Xlmm0uds4iuG5jvjBKZr6K8zAhp0FQEEDifAOGIzwcCCIRW4KSeRdT0PLM3P6607RzZNzceiPpzFlFo+56GIZCMAOEoGT3eiwACvhOoNWcRuc8z+/Nu5yyii3vlOAurzQjREM4i8l2fUSEE/CZAOPJbj1AfBBBol8A6M2VmT6w2I0V19Y1yQXf3LKIuMqIvW+/bhcqbEIioAOEooh1PsxEIg8DGj52t9xqITsXqpUd+Zvx5ZtcOyA9DE2kDAgikQYBwlAZ0bokAAu0X2GgOZ9QDGnXq7OhnpyXf7CxzD2ccO4SziNovyzsRQMAVIBzxWUAAAV8LlJ6sk41mMfUbJhDpSFF1XYN0ysiwa4h0670GI3M0EQUBBBDwTIBw5BklF0IAAa8E9Cn3bhjadTRmL6vPM7v+oi4yelC+jL6oQLIzSUReeXMdBBBoLkA44hOBAAJpFzhipsfe2FdhR4Y0FFXWmqe7mjJ6UIENQ9ebMDTU7DijIIAAAh0hQDjqCGXugQACXxDQ55i5YUgf4aGlv9lh5oQhZ4SIk6r54CCAQDoECEfpUOeeCERQQB/kmrh2SHeXadFTqnVkSMPQsN65EZShyQgg4DcBwpHfeoT6IBAigQ/MYzrctUNbDzmP7OjTNaspDBXYXwuyeY5ZiLqcpiAQCgHCUSi6kUYg4A+Bsqp62ZiwduiEeXyHlmvMmUPu2qHL+jA65I/eohYIIHAuAcIRnw0EEEhKYIsZEXLXDrkPdC3uktVs7VC3XB7qmhQyb0YAgQ4VIBx1KDc3QyD4Avow18S1Q59WnraNuqp/Xnzt0Mh+PK4j+D1NCxCIrgDhKLp9T8sRaLXAdrObTE+m1hEi3WWmRR/VoecN6XZ7XTtUlMfoUKtBeSECCPhagHDk6+6hcgikR6CipqFpIbVzMvVRs9NMyxVmRMhdO3SlGSmiIIAAAmEUIByFsVdpEwLtENhpTqJ21w69Y06o1tLdjAYlnjvUqyCrHVfmLQgggECwBAhHweovaouAZwJV5hRqDUPu7rLSU3X22peb3WTOdFm+3WVGQQABBKImQDiKWo/T3kgLfPRpTfzcoTfNw1y1dMnp1Ozcod5mpxkFAQQQiLIA4SjKvU/bQy9Qe7rx87VDJgwdKHdGhy41J1G7a4e+bE6opiCAAAIIfC7gaTiqrKySxYsflVgsJkVFhTJz5rQvWK9Y8Yzs2bPPvKZG7rvvXiko+Pwb8yOPLJVdu3bL3LmzpE+fYvoJAQTaIbDneE3TdJmzu6yhsVHyzSnU9mn2g5xnlukzzCgIIIAAAmcX8DQcLV263AYjDUXz5j0oI0YMl8mTb4vfed269bJ27Tobip599gUpLT0ss2fPtH++Zs2f5JVXXpfa2lrCEZ9WBNogUG8eYP+GGRVyn2r/cVmtfffF5in27jPLvmK221MQQAABBFon4Gk40kA0btwYGT9+rKxa9bwNP4mjRzpqVF0dk2nT7pKtW3fIsmUrZdGiEjly5Jg8/PASufbaq+S11/5COGpd3/GqCAt8cqI2vnZIt9qfbmiU7MyMZmuHBhQyOhThjwhNRwCBJAQ8DUczZsyWSZMmxsPRpk0fyPz5c+PVW7DgETvd5oajJUset0HoiSd+J0OHXiTDhw8T9/faO62m03UUBMIm0Gga9OYn1fLW/mp523ztLXPWDg3ukS2jBuaaJ9vn2V87ZWSErem0BwEEIiyQm5uTltZ7Go7aOnK0cuXvTZi6zYSj30pxcU8LcOzYcfvfs2bNaLYeqbU6dXXOYXUUBIIucKC81oShmAlFVTYY1ZxukKxOGfKVC/PMV74JQ3kyyIQjCgIIIBBWgc6d07N71tNwdK41R7rWSKfa9NfVq1+yU2k6xZa45kg7Vqfakh05CusHhHZFQ+AtE4TctUN/PeaMgl5YlB1fO6RriDQgURBAAAEEUifgaThyd6uVl5+UwYMHydSpk6WiolJKShbK9Ol3y8iRw20o2r59pxQWdpcpU263r3ML4Sh1Hc2V/SlwyBy8qGuGnMMYK6WqrkE0+rgLqUdf1EWG9GR0yJ+9R60QQCCsAp6Go7Ai0S4EvBTQR3O4T7XfedQZHRpQmB0/d0i32udkdfLyllwLAQQQQKANAoSjNmDxUgTaI6APbdVRIXeE6LOaenuZUWbdkDNCVCCXFKdn0WF72sN7EEAAgbALEI7C3sO0Ly0C7x2sjq8d2n44ZuvQr1vnhOmyAsnvzOhQWjqHmyKAAAItCBCO+Igg4IHA8crTzc4dOhlzRof00RzuU+0v7c3okAfUXAIBBBBIuQDhKOXE3CCsAptLq+1Cat1dtuWQMzrUu2vnZmuHuuZkhrX5tAsBBBAIrQDhKLRdS8O8FiivrrejQ+7aobIq50ytL12QF187dHnfXK9vy/UQQAABBDpYgHDUweDcLlgC28x6IScMVcr7Zh2Rlp4FWc3OHeqey+hQsHqV2iKAAALnFyAc8QlBIEHglFkrpDvLnOmySjlm1hJpubJ/Xnzt0BX9GB3iQ4MAAgiEWYBwFObepW2tEthhzhpypssq5N0DzuhQUX5Ws7VDPcz/UxBAAAEEoiFAOIpGP9PKBIGq2obP1w6Zx3UcNqdUaxlh1gu55w5dbdYRURBAAAEEoilAOIpmv0eu1bvMc8qc6bJK0eeXaemW20n08Ryj9TDGwQVSbNYSURBAAAEEECAc8RkIpUDMPKPsDROE3LVDpSed0aHL+uTG1w5dM4DRoVB2Po1CAAEEkhQgHCUJyNv9I7DneG187ZCGIi0F2WZ0yDyew32Qa19zSjUFAQQQQACB8wkQjvh8BFagrqHR2WbftLvskxO1ti3DzHPKRjc9s0yfX0ZBAAEEEECgLQKEo7Zo8dq0C+wrc0aH3Kfam3wkuVkZZmTIrB0yT7PXEaL+3RkdSntHUQEEEEAgwAKEowB3XhSq3tDYGF83pKFIw5GWob3M6BDKCdoAABY3SURBVJANQ04ooiCAAAIIIOCVAOHIK0mu45nA/vK6pumyChuMausbJTszw64dcqbL8uXComzP7seFEEAAAQQQSBQgHPF58IWAO02mYWj3pzW2Thf1yE54TEcX6ZThi6pSCQQQQACBkAsQjkLewX5tnm6tT1w7FDvdaMNP4tohDUcUBBBAAAEEOlqAcNTR4hG+39v7neeV6e4yPZRRi06P6TSZu7tMp88oCCCAAAIIpFOAcJRO/ZDf+8hnpz9/TIc5kLHSPLZDS+K5Q7qwmoIAAggggICfBAhHfuqNENTl3QNNo0Nm7dCHR2K2Rbq13j2EUafNdOs9BQEEEEAAAb8KEI782jMBqdexCmd0SBdSbzRPtT9V44wOjbrQ2VWm02V6KCMFAQQQQACBoAgQjoLSUz6q5wel1fHpsm2HndEhfSyHewijTpvpYzsoCCCAAAIIBFGAcBTEXuvgOpdV1dtF1O7ushPV9bYG1wxwTqTWUKQPdKUggAACCCAQBgHCURh6MQVt2HLIGR3S6bLNZqRIS3GXrHgYGm3WDnXLYXQoBfRcEgEEEEAgzQKEozR3gF9uf9KMBmkQesPsKnvDrB06XumMDl19QV58d9mIvowO+aW/qAcCCCCAQOoECEeps/X9lbeb3WTudNl7B53RoR4FWTLaPMn++sE6XVYgRXmZvm8HFUQAAQQQQMBLAcKRl5o+v1aFOWdIp8rctUNHzTlEWq7olxs/mfrK/nk+bwXVQwABBBBAILUChKPU+qb96juPxuJrh94xJ1Rr6Z6b2ezcoZ4FjA6lvaOoAAIIIICAbwQIR77pCm8qUlXX0HTmkLN26NApZ3TocrNeyD2Z+ktmHREFAQQQQAABBM4uQDgKwSfjI/MUe3e67K1PnNGhrjmZzc4d6t01KwQtpQkIIIAAAgikXoBwlHpjz+9QW9/YbO3QgfI6e49Le+fE1w59eWC+5/flgggggAACCERBgHAUkF7ec7wmYbqsUhpNvfM7d2p6mr0exthF+nVjdCgg3Uk1EUAAAQR8LEA48mnnnG5odM4dsrvLKuSTE87o0CXmOWXu2qFRZss9BQEEEEAAAQS8FSAceeuZ1NU0AGkQck+m1oCUk2VGh8zjOZzHdBTIgMLOSd2DNyOAAAIIIIDA+QUIR2n8hOjUmA1CTY/p0KkzLUN6Zpvpsi7xUJSRxjpyawQQQAABBKImQDjq4B7XxdMb7SM6nC9dXJ3VKaPZuUMXFjE61MHdwu0QQAABBBCICxCOOuDDoNvr3TCk2+61DOphRofMNJn7VHsNSBQEEEAAAQQQSL8A4SgFfaAHL+raIXe6TA9m7JSRYafJRjetHdKpMwoCCCCAAAII+E+AcORRn+ijOdzdZfrIDi26eFq32LsLqrMzGR3yiJvLIIAAAgggkDIBwlE7afWhrYlrh/Shrlq+YqbK3DB0ca+cdl6dtyGAAAIIIIBAugQIR22Qf+9gdXx32fYjzuhQ/+6d7dohZ7os3x7MSEEAAQQQQACB4AoQjs7Td8cr651zh8zuMp0yO1ldb1+tj+ZwF1Jf2js3uL1PzRFAAAEEEEDgCwKehqPKyipZvPhRicViUlRUKDNnTvvCDVeseEb27NlnXlMj9913rxQU5Mu6devl9dc32N8rLOwus2fPTFtXbS6tjq8d2nKo2tZDH9qauHaoSzajQ2nrIG6MAAIIIIBAigU8DUdLly63wUhD0bx5D8qIEcNl8uTb4k3QELR27Tobip599gUpLT1sg9CaNX+Syy8fJoMHD5I5c0rk2muvava+VBqcMKNB7toh3V1WVuWMDl0zwOwsa9pddnkfRodS2QdcGwEEEEAAAT8JeBqONBCNGzdGxo8fK6tWPW/DT+LokY4aVVfHZNq0u2Tr1h2ybNlKWbSopJnH2UJVW8Aa9djpFsq2w7GmR3RUygdmpEhLr4IsZ+1Q04Lq7nmZLV2GP0cAAQQQQACBFAqYU3DSUjwNRzNmzJZJkybGw9GmTR/I/Plz4w1bsOARO93mhqMlSx6XuXNnSZ8+xfY1bmD68Y9/YEeR2lN0au/McqqmQd45UC1vH6iRt/bH5FOzlkjLyL45ct2AXPOVIyP6sLOsPd68BwEEEEAAgVQJ6NKbdBRPw1FbR45Wrvx9fN3R3r0fy69//ahMnPgNG66SLR+a3WTuuUPvHnACU5EZDXIf4Kq7y3rkMzqUrDPvRwABBBBAIGwCnoajc6050rVGGnj019WrX7JTaTrF5q45coPRmDHXJb3W6IE/HbZTZkfMOURaRvTNtYFIv67qnxe2/qM9CCCAAAIIIOCxgKfhyN2tVl5+0k6LTZ06WSoqKqWkZKFMn363jBw53Iai7dt32l1pU6bcbl/3s5/NldraWhk48AJnhKdp6q09bb1j2V65zEyRuc8tK+6S1Z7L8B4EEEAAAQQQiKiAp+EoooY0GwEEEEAAAQRCJEA4ClFn0hQEEEAAAQQQSF6AcJS8IVdAAAEEEEAAgRAJEI5C1Jk0BQEEEEAAAQSSFyAcJW/IFRBAAAEEEEAgRAKEoxB1Jk1BAAEEEEAAgeQFCEfJG3IFBBBAAAEEEAiRAOEoRJ1JUxBAAAEEEEAgeQHCUfKGXAEBBBBAAAEEQiRAOApRZ9IUBBBAAAEEEEhegHCUvCFXQAABBBBAAIEQCRCOQtSZNAUBBBBAAAEEkhcgHCVvyBUQQAABBBBAIEQChKMQdSZNQQABBBBAAIHkBQhHyRtyBQQQQAABBBAIkQDhKESdSVMQQAABBBBAIHkBwlHyhlwBAQQQQAABBEIkQDgKUWfSFAQQQAABBBBIXoBwlLwhV0AAAQQQQACBEAkQjkLUmTQFAQQQQAABBJIXIBwlb8gVEEAAAQQQQCBEAoSjEHUmTUEAAQQQQACB5AUIR8kbcgUEEEAAAQQQCJEA4ShEnUlTEEAAAQQQQCB5AcJR8oZcAQEEEEAAAQRCJEA4ClFn0hQEEEAAAQQQSF6AcJS8IVdAAAEEEEAAgRAJEI5C1Jk0BQEEEEAAAQSSFyAcJW/IFRBAAAEEEEAgRAKEoxB1Jk1BAAEEEEAAgeQFCEfJG3IFBBBAAAEEEAiRAOEoRJ1JUxBAAAEEEEAgeQHCUfKGXAEBBBBAAAEEQiRAOApRZ9IUBBBAAAHvBdatWy+XX36p9OlT3KqL7937sfz614/KP/zDVBk5cnir3nO+F1VWVskDDzwkP/3p9LPWYcGCR6SoqFCmTbvrnJdpzWsS3zxjxmyZNGmijB8/ttX1P3LkmGzfvrNN72n1xTv4hYSjDgbndggggAACwRKYM6dEbr11fJt+6GtAGjx4kCcN1XC2Zct2mTlz2lmv15rg05rXJBuOtJ5r166T+fPnetLudF6EcJROfe6NAAIIIOBrgRUrnpE339wkxcU97ehM//59Zdu2HZKbmyt5ebnx/9dGxGI1Nhhs3bpDlix5XObOnSXHjh2XZctW2hGfWCwmJ09+JiUlc6SgIF/eeutdefHFl+37xo4dLRMm3CIaYtwydOhFMnnybbJ06XK55JIhNpxpAHn99Q32Ojk52XLttVfJ7t374iNHOsr02GNPyokT5fa6U6d+245e6XV1ZEfrUV5+Mn4/tw7aHv3zH//4BzbUtTRypOFv+fKnbVXVZeLEb9h61tTU2ntoXdXsmWf+aNutr9Fwt2rV87Jp0wdSWNjd1kPvdb4Rr3R9OAhH6ZLnvggggAACgRBIDAr6w33DhrfjIUJDQu/exTbs6AiThpXhw4c1C0calO666zsyatQ1Mm/egzJkyEXyrW/9jQlP8+W7371DRowYLrNnzzMB5n5ZvPhRGyZmzZphr6lFr6tTal26FNjXTZ9+twldn8rq1S/JokUlNvi402oaUDQYzZjxA3nttb/Y8LV48YJ46NLf37v3E1s/vV9FRaW9hwYa972zZ89sMRw98shSGxA12LijZG7wcUeOtF4aJu+8c4pt9ze/ebN88skBG470fermGqiNnwrhyE+9QV0QQAABBHwncGY40h/ubgDQkRoNIbt375V9+/abYHSJjBkz6gvhSEeRNIC4Qebqq0fKc8+tiV9Hf18Dgo7kJK4f0lGoNWvWmlA004aQhx76TbMRKf39J574Xfw9Z04Bat01TOk1Eq+b2CYdjfrrX/fY62vRtrU0cqT1fOqp5+RLX7rCBj0NconhSF00yLnt1j8rKyuXHj0KbThKDFAtrZdKxweCcJQOde6JAAIIIBAYgfOFIx0R0ZGfr33t+nhIaU04uuCCfrJ+/UY70uQWHXE6M8TotJ5O3+n0mpaf/WyuncI6frzMTqdpOEocOWpLONLQ9N57m+1Ik15TQ4sbXFoKR1oXnYZ7+unnZNeu3XZ0KjEcuUHuxhu/Gm9fz549bL3PDEfu9KGfPhCEIz/1BnVBAAEEEPCdwLnCkbu26N57f2SniHRHma6haU04uuWWG+wokAYUXRPkrgc6c+G0hh2dgtLruuuJdKoqLy9PNHjoiM2Z02qHDh2W++//JxO0/mQDmE7J6eiShixd95P4+yUlC+10l6530qmyQ4eOtHrkSEOh3l99dNrQnTJzR4U0yI0Zc50Ndlp3LTrNp9OSOh3oBijXwE8dTzjyU29QFwQQQAAB3wm464x0WkxHOc4c+XCDjVZcp4haE4408Li7u3RxsgaX73znjmZTZHrdhx9e0mwKT9fodO/e1a730TJlyu0mAL1pRoC22IXeWnRBtoac3NwcG3x0us5d6K3rmXSh9h13TLC/r23TacGBAy+wdXDDkY6I6T10ZOpsxR0l0j/T4DZ16mS7fknrq0Wvrwuy3UXbeq0JE26VHTt22XCkbdB66MiZOyrmp46PRDhqaGgwi9fKzHxvLz/ZU5cOFDh06Kj069e7A+/IrfwkoDuGioq6S1ZWlp+qRV06SEDXuugIh+7uClLREZ6yshN2QbMWd/2RLqrW9uiU2549++woUVDKmYu2/VpvwpFfe4Z6eSpAOPKUM3AXIxwFrss8rXBQw5GOLBUX94ofJKlh6Z133rM72bQsXLjYrndK5ciLBjId7Tmz6Bqr1h6KmfhewpGnH+3kLsbIUXJ+YXg34SgMvdj+NhCO2m8XhncGNRydzV4D0tatH9rpO13U7a47CkM/+akNvhg50oVa7tkO7kFRXiIRjrzUDOa1CEfB7Devak048koymNcJUzgKZg8Er9a+CEd68JQuEtNV9O62SC+HCQlHwftgel1jwpHXosG6HuEoWP3ldW0JR16Lhv96vghHGojGjRtjjxvX+cjS0sPnfIZMS12iPwQpCCCAQHOBxqb/zQAGAQQCJJCujTS+CEfnO2CrrX1IOGqrGK9HIAoChKMo9DJtDJ9ApMORlyNHZ/toMK0Wvr8wbW0R02ptFQvX65lWC1d/trU1TKu1VYzX+2LkiDVHfBBTLUA4SrWwv69POPJ3/6S6doSjVAuH7/q+CEfubrXy8pPxkzbdpxF7Qc7IkReKwb4G4SjY/Zds7QlHyQoG+/2Eo2D3Xzpq74twlOqGE45SLez/6xOO/N9Hqawh4SiVuv6/NuHI/33ktxoSjvzWI9QnJQKEo5SwBuaihKPAdFVKKko4SglrqC8aiXAU6h6kcQgggAACCCDgqQDhyFNOLoYAAggggAACQRcgHAW9B6k/AggggAACCHgqQDjylJOLIYAAAggggEDQBQhHQe9B6o8AAggggAACngoQjjzl5GIIIIAAAgggEHQBwlHQe5D6I4AAAggggICnAoQjTzm5GAIIIIAAAggEXYBwFPQepP4IIIAAAi0KrFr1vGza9IHMnz+3xdfyAgRCF4727v1YHnroN3LllSNk2rS7xH1uWywWk6KiQpk5c5rtdX3d8uVPSyxWI2PHjpYJE27h0xBwgcS+1n796U+nS58+xbJixTOyZ88+29f33Xev6HP76P+Ad/ZZqv/WW+/Kiy++bP8k8e/6unXr5fXXN9j+nzr12zJy5PBzfl8In0o0W7R16w5Zs2at7N9/UObOnWW/DxCOovlZaG+rQxWO9IfjAw88JDU1tTJ8+CU2HC1dutx8U4zZUDRv3oMyYsRwmTz5Npkzp8SGohtv/KrMnj1Ppk+/237TpARXYMGCR+wPRe13DT+9exeL/sBcu3adDUXPPvuClJYeNv09k/4Pbjefs+bu32n9h47+Xf/mN2+WQYMGSknJQrn33h+JPkJE/0G0ePGCc35fCCFLZJukAWnJksfPGo70H0z6vWDGjB/YfyxREDhTIFThSD/wJ06US3W1M0qkPyT1m+S4cWNk/Pix9l8O+hfi+9//OxuI3H9R6A/VkSMvY/QowH8/NBifLeTqZ0I/D/pZ0G+Wy5atND8s59D/Ae7rc1Vd/x5r0R94CxculkmTbpOqqip57rk18amUGTNm26CkIenM7wvuqHIIaSLZpHOFozvumGA/E/o9YfDgQZG0odEtC4QmHOlfhD/84Xm5667vyDPP/DEejvSb4aRJE+PhSOecdWg98V8UiSMOLZPxCj8KuN8Ii4t72url5ubaEaLEvnVf893vfkueeurZZuHYDdN+bBt1ap2AjhLqD73EkeMzp1Lc7wd/+MPqL3xfYC1K65yD8qqzhaMNG9621R8z5jo7g0BB4FwCoQlH+kPwyJFjdm5Zf9Vy003j5J133mPkKAKff+1zd/pE/zXoTqHqqFHiyNHKlb+Xe+75ofz8579k5DBEnwvt/4cfXmLXmWnR/7711vF2yoSRoxB1dBuacrZw9Nprf7HrUTdv3manVykIhD4cJTYwcbSANUfR+fDrmhP9gahTqBqOvvzlL0l+fp6sXv2SLFpUYhdms+YonJ8HNxy7P/DccPy1r13fbM2RBiUNUH/844tnXYsYTp1otupc02q6/nDx4kelf/++cuedU6KJQ6tbFAjNyNG5wpG7g6m8/KSdX546dXJ8t5IGp9zcnPgi7Ra1eIGvBdwdaFrJfv36xvtaQ9H27TulsLC7TJlyu/0c6Gvpf193Z5srt2bNn2T9+o3273Ri/+tuNV2Ur7+vi7RHjbomvlvtzO8Lbb4pb/ClgLtDVRfh61S7/kOpuro6vpX/zODky0ZQqbQKhDIcpVWUmyOAAAIIIIBAoAUIR4HuPiqPAAIIIIAAAl4LEI68FuV6CCCAAAIIIBBoAcJRoLuPyiOAAAIIIICA1wKEI69FuR4CCCCAAAIIBFqAcBTo7qPyCCCAAAIIIOC1AOHIa1GuhwACCCCAAAKBFiAcBbr7qDwCCCCAAAIIeC1AOPJalOshgAACCCCAQKAFCEeB7j4qjwACCCCAAAJeCxCOvBbleggggAACCCAQaAHCUaC7j8ojgAACCCCAgNcChCOvRbkeAggggAACCARagHAU6O6j8ggggAACCCDgtQDhyGtRrocAAggggAACgRYgHAW6+6g8AggggAACCHgtYMPR9u3bGy+++GLp3Lmz19fneggggAACCCCAQGAE6urq5KOPPpKMgwcPNur/9O3bV3JycgLTACqKAAIIIIAAAgh4JRCLxeTw4cOSl5cnGTU1NY0nTpyQ48ePS319vVf34DoIIIAAAggggEBgBLKysqRnz55SWFgo/x+tHCVeZDKBqwAAAABJRU5ErkJggg==)"
      ],
      "metadata": {
        "id": "dIlGa_HJsCHx"
      }
    },
    {
      "cell_type": "markdown",
      "source": [
        "Пользуясь архитектурой найденной на https://www.kaggle.com/code/araimova/homework-02 получаем accuracy 0.4001 после 10 эпох\n",
        "\n",
        "![image.png](data:image/png;base64,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)\n",
        "\n"
      ],
      "metadata": {
        "id": "cliVWWgXQTJP"
      }
    },
    {
      "cell_type": "markdown",
      "source": [
        "Задание 2"
      ],
      "metadata": {
        "id": "0us83q2wyKo8"
      }
    },
    {
      "cell_type": "markdown",
      "source": [
        "Используем предобученный resnet18. Изменим у него последний линейный слой на nn.Linear(in_features, 200). Однако accuracy будет довольно маленьким, не более 0.6\n",
        "\n",
        "![image.png](data:image/png;base64,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)"
      ],
      "metadata": {
        "id": "leid5DGxyM1T"
      }
    },
    {
      "cell_type": "markdown",
      "source": [
        "Изменение последнего слоя на nn.Sequential(nn.Linear(in_features, 512),nn.ReLU(),nn.Linear(512, 200)) делает только хуже\n",
        "\n",
        "![image.png](data:image/png;base64,iVBORw0KGgoAAAANSUhEUgAAAkcAAAEsCAYAAADJmBfzAAAgAElEQVR4Ae3diX8cdf3Hcf4nQEFERX6oKIiIyg8PFJWfYEUtSi0KUurVqj1SWkp6kvQmvdKm9KBNW9rSBlp6pEfu+9jd3MnmPj6/x2e232TY5trszM7M7msej212Z+f4zvM7yb773c/O3jU4OCihUEhu3rwp165d44YB5wDnAOcA5wDnAOdAxp0DmoM0D2kuuquhoUFqampkYGBAmBBAAAEEEEAAgUwU0BxUXV0tTU1NcteNGzdkeHg4Ex04ZgQQQAABBBBAYFxAR410BOkufSuNCQEEEEAAAQQQQECstxMJR5wJCCCAAAIIIIDAbQEdNCIccToggAACCCCAAAK3BQhHnAoIIIAAAggggIBNgHBkw+AuAggggAACCCBAOOIcQAABBBBAAAEEbAKEIxsGdxFAAAEEEEAAAcIR5wACCCCAAAIIIGATIBzZMLiLAAIIIIAAAggQjjgHEEAAAQQQQAABmwDhyIbBXQQQQAABBBBAgHDEOYAAAggggAACCNgECEc2DO4igAACCCCAAAKEI84BBBBAAAEEEEDAJkA4smFwFwEEEEAAAQQQIBxxDiCAAAIIIIAAAjYBwpENg7sIIIAAAggggADhiHMAAQQQQAABBBCwCRCObBjcRQABBBBAAAEECEecAwgggAACCCCAgE2AcGTD4C4CCCCAAAIIIEA44hxAAAEEEEAAAQRsAoQjGwZ3EUAAAQQQQAABwhHnAAIIIIAAAgggYBMgHNkwuIsAAggggAACCBCOOAcQQAABBBBAAAGbAOHIhsFdBBBAAAEEEECAcMQ5gAACCCCAAAII2AQIRzYM7iKAAAIIIIAAAoQjzgEEEEAAAQQQQMAmQDiyYXAXAQQQQAABBBAgHHEOIIAAAggggAACNgHCkQ2DuwgggAACCCCAAOGIcwABBGYUqKuvl4V/fk2+8dgT8rkvPGj9vHHz5vh6en/eb39vPafP//1fS63nurq6rPW+9NVHrOd++vPnReedv1BkPTbL6cK63lNPP2Otl/XWGuvxpndzRdfV+TO1YbJ9NTQ0WNvRdptJt6n7ytuz18ziJwIIIPAZAcLRZzh4gAACkwloMNGAoYFCbxouNOjopKFEA4ze9DkNNnrTSZfRZfWxPqcBK5FwZLap607Xhun2ZUKbCXP6WLer7WBCAAEEJhMgHE2mwjwEEJhUwAQbHcnR0KOPTVjSERn7pGFGl9EwEj8lMnIUv+5kbZhuX0c/OD4e0HRb9mAXv20eI4AAAipAOOI8QACBGQU0kJhRIA075u01nW/eAtMQYp8mC0Dm+cme09AS/7aafZvTtWGy7Zl96U8dKdI2m6AUH+Tsy3IfAQQQIBxxDiCAwIwC+naYhhcNITqZoKSBxc2RI3s4mq4N040caXu1tsmMYulPXZ4JAQQQmEqAcDSVDPMRQGBcwNTtmHoiDRh603CkNx2Z0ccalPSmQUYnE6I0nGjQ0e3o8ibM6HoauMz2pxs5MstM1obp9qXPmf1pG7VNTAgggMB0AoSj6XR4DgEELAEtZjZ1RhpSTFDRoKOT/dNq+vaVBhgNJPq8BiUNQXrT+6YwWpcx8zU86fanC0cztWG6fWkbTft5S83qMv5BAIFpBAhH0+DwFAIIpI+ABjoNY7yllj59ypEg4JYA4cgtWbaLAAK+ENAwZK5tZN7u80XDaAQCCPhWgHDk266hYQgg4ISAeQtQgxGjRk6Isg0E0l+AcJT+fcwRIoAAAggggEACAoSjBLBYFAEEEEAAAQTSX4BwlP59zBEigAACCCCAQAIChKMEsFgUAQQQQAABBFIjcCvcL6Xh/tTsLG4vhKM4EB4igAACCCCAgLcC68+3yMKDDfKXQw2y9WJbyhtDOEo5OTtEAAEEEEAAgakEjtzslO9sqJBvZFfI4+sr5dmt1fJhRfdUi7syn3DkCisbRQABBBBAAIFEBQ7d6JLvbq6Su5eVyN3LSuW+laXyrexyOV4Suxp/otub6/KEo7nKsR4CCCCAAAIIJC3Q2Dkka862yNffqbBC0Q9yquUHOVXywMoS+eqaMnnjcFPS+0h0A4SjRMVYHgEEEEAAAQSSFjhXHZUFBxpvjxKVyCsHGuVsVXR8u/nFnVJwvXP8cSrvEI5Sqc2+EEAAAQQQyGCB3sFR2X6pXZ7OqbZC0SNry2X1mYjUdQz6SoVw5KvuoDEIIIAAAgikn8CNUL/863hI7ltRaoWi53fVykGPRoVmo0s4mo0SyyCAAAIIIIBAwgLv3+ySF/LqrEB07/IS+fuxZrnW1JfwdlK9AuEo1eLsDwEEEEAAgTQWaOoalrXnWuTR7FiB9fffrZYtF9ukq38kMEdNOApMV9FQBBBAAAEE/CtwvqZXFh6cKLD+Y36jfFg5UWDt35bf2TLC0Z0mzEEAAQQQQACBWQj0DY3Kzk875JlcU2BdIW+daZHajqFZrO3fRQhH/u0bWoYAAggggIAvBfR7z5aeCMv9K2MF1r/YWSv60ft0mQhH6dKTHAcCCCCAAAIuCxy51SUv7q63CqzvWVYii482y9VG/xdYJ8pCOEpUjOURQAABBBDIIIFQ97Bkf9Qi31xXaYWipzZXSc4nbdLZF5wC60S7i3CUqBjLI4AAAgggkAECRbW98mrBRIH1y/sb5HRFTwYcuQjhKCO6mYNEAAEEEEBgZoGB4THZdblDfrglVmD98NvlkvVhRGra/XUF65mPJLklCEfJ+bE2AggggAACgRcojQzIvwvD8kBWrMD6uR01aVVgnWgHEY4SFWN5BBBAAAEE0kTgaEm3zLtdYH33shJ580izXG5IvwLrRLuLcJSoGMsjgAACCCAQYIFw95CsO98qj62PFVg/ualK3v24Tdp707fAOtHuIhwlKsbyCCCAAAIIBFCgqDYqfznUZH3iTEeJ5u9rkJPlmVFgnWh3EY4SFWN5BBBAAAEEAiIwODImeVc65Mdba6xQ9NCacll5OiJVbZlVYJ1odxGOEhVjeQQQQAABBHwuUBYZkP+eDMuDq8qsUPTcjlrZd61TRsd83nCfNI9w5JOOoBkIIIAAAggkK/BBabe8tCd2BWt96+yNw01yqb432c1m3PqEo4zrcg4YAQQQQCCdBCI9w7LhQqs8viFWYP2djZWyqahV2nqH0+kwU3oshKOUcrMzBBBAAAEEnBH4pK5XXn9/osD6d3vr5URZtzMbz/CtEI4y/ATg8BFAAAEEgiMwPDomu690yE+2xQqsv7K6XJafCktl60BwDiIALSUcBaCTaCICCCCAQGYLVLQMyLKTYfnSW7EC659ur5U91zplZDSzXdw6esKRW7JsFwEEEEAAgSQF9G0ye4H1Xw83y6V6rmCdJOuMqxOOZiRiAQQQQAABBFIn0Bodlo1FrfLExirrY/jf3lApGy+0SkuUAutU9QLhKFXS7AcBBBBAAIFpBPQj9389PFFg/dLeejleSoH1NGSuPeVoOCosPCOLFi2VhQsXS3HxrTsavWRJlvW8/tRbKBSxltN19PH8+a+Nr5eXl29txyxbVHTpju0xAwEEEEAAgSAL6EUZ91ztkJ9ujxVYa02R1haVt1Bg7WW/OhaONOjMm7dAqqpqRIOM3o+fNOhogLJPZnmdl5u7ywpPel/DUXZ2jn1R7iOAAAIIIJAWApWtg9anzL6yOlZgrZ8+2321Q4ZGuIS1HzrYsXCkgUhHjMxkgpJ5rD/NqJKGpPiRoGi01xo9MoFIg5KOJOmyGpSSmUZGRoQbBpwDnAOcA5wDXp8Dx0u75Ld76sa//PW1Q41SVNPDa9QUr9PJvPYns65j4ci8DWYao+EofpRIA5GOFOlNg48JSObtOJ2nI1A6mRElDU0aqjQszXXq7x8QbhhwDnAOcA5wDnhxDjS29cr6c2F5YkOFFYoeW1cu75wNSV1rlNemGV6f5/q6n+x6joWj2Ywc2RurI0JmlMjMLyg4ZoUm89j8jA9eZj4/EUAAAQQQ8KvApw29suhI8/go0W/21MuxEgqs/dpf9nY5Fo7ia470LTadZ0aK9L4ZKdLRIDNypPP0sU4mYOmyGpTMpEEqmZEjsx1+IoAAAggg4KaAVgztu9Yhz+2otULRg6vK5D+FYSmNUGDtprvT23YsHGnD9O0xDUX6NpgJQjo6pOFGA09WVvb48xp2NBRpCNJ1dBn9acKSPm+2pdvQkMWEAAIIIICAHwWq2wZl5emwPLSm3ApFP95aI+9d6ZDBYQqs/dhfM7XJ0XA00854HgEEEEAAgXQSOFXRI/P3NYy/dfaXQ01SVBt7NySdjjPTjoVwlGk9zvEigAACCCQl0NE3Ijkft8mTm2JXsH5sfaWsO98q4R6uYJ0UrI9WJhz5qDNoCgIIIICAfwWuNPbJm0cnCqx/vbtOjt7q8m+DadmcBQhHc6ZjRQQQQACBTBDIL+6Un98usH4gq1SWnghJSbg/Ew49Y4+RcJSxXc+BI4AAAghMJVDbPiRZH0bk4bdjBdY/3FItuy63S//Q6FSrMD+NBAhHadSZHAoCCCCAQHICpyuj8vL+iQLrVwua5EJNNLmNsnbgBAhHgesyGowAAggg4KRAV/+I5H7SLk9tjhVYf3NdpWR/1CrN3RRYO+kcpG0RjoLUW7QVAQQQQMAxgauNffK3YyG5Z1mJ9VH8F3fXy5FbXMHaMeAAb4hwFODOo+kIIIAAAokLHLjeKb/cGfvy1/tXlsqS4yG5GaLAOnHJ9F2DcJS+fcuRIYAAAgjcFqhtH5S3zkTkkbWxL399JrdadnzaLr2DFFhzktwpQDi604Q5CCCAAAJpInCmKip/zJ8osF54sFE+qqbAOk2617XDIBy5RsuGEUAAAQS8EOgeGJWtF9vl++/GCqwfza6QtedapLFryIvmsM8AChCOAthpNBkBBBBA4E6B4qZ++ccHIbl3eazA+oW8Onn/JlewvlOKOTMJEI5mEuJ5BBBAAAFfCxTc6JLnd8UKrO9bWSr/Oh6SGxRY+7rP/N44wpHfe4j2IYAAAgjcIVDfMShrzrbI196JFVg/nVMt2y61S5QC6zusmJG4AOEocTPWQAABBBDwSOBsVY+8cqDRui7R3ctKZMGBRjlXRYG1R92RtrslHKVt13JgCCCAQHoI6GjQtott8oOcaisUff2dCmvUqKGTAuv06GH/HQXhyH99QosQQAABBETkRnO//PN4SD6/otQKRf/3Xp0cosCacyMFAoSjFCCzCwQQQACB2QtoAPrVe7EC68+tKLE+gXa9mStYz16QJZMVIBwlK8j6CCCAAAJJCzR2DsnbZ1vkG9mxAmu9RtHWi23SQ4F10rZsIHEBwlHiZqyBAAIIIOCQwLnqqPzp4ESB9SsHGuRMZY9DW2czCMxNgHA0NzfWQgABBBCYo0Dv0Jhsv9Qu/5sbK7DW7ztbfSYidR2Dc9wiqyHgrADhyFlPtoYAAgggMIWAfvO9XqDx/pWxAmu9cOPBG1zBegouZnsoQDjyEJ9dI4AAApkgcPhWl7xwu8Bav9rj78dCcq2JAutM6PugHiPhKKg9R7sRQAABHws0dQ3JO+daRL/0VS/W+L3NVbLlYrt0DYz6uNU0DYGYAOGIMwEBBBBAwDGB8zVRebVgosD6D/kNcrqCAmvHgNlQSgQIRylhZicIIIBA+gr0DY3Kzk/b5ZktsQLr/3m7XFZ9GJHadgqs07fX0/vICEfp3b8cHQIIIOCaQEl4QJaeCMkXsmIF1r/YWSv51ztd2x8bRiBVAoSjVEmzHwQQQCBNBI6WdMuLebErWN+zvFQWH22Wq419aXJ0HAYCIoQjzgIEEEAAgRkFQt3Dkv1Rq3xzXazA+qnN1ZLzSZt09o/MuC4LIBA0AcJR0HqM9iKAAAIpFCiqjcqfDzVZnzjTT529nN9IgXUK/dmVNwKEI2/c2SsCCCDgW4GB4VHZdbldfrSlxgpFX11TLlmnI1LdRoG1bzuNhjkqQDhylJONIYAAAsEVKA33y78LQ/LFVWVWKHpuR63sL+6UsbHgHhMtR2AuAoSjuaixDgIIIJBGAsdKu2Xe7liBtb519uaRZrncQIF1GnUxh5KggOvhKBrtlSVLsmTRoqWSlZV9R/OKi2/J/PmvWcvocnl5+dYyBQXHrHV0vYULF4tuhwkBBBBAwBmBcM+wrD/fKo+tjxVYP7mpSt79uE3a+yiwdkaYrQRZwPVwlJ2dMx6KNOiY8GPQNBxp+ImfioouSVVVjTVb18vN3RW/CI8RQAABBBIU+Li2V157f6LAev7+BjlZzhWsE2Rk8TQXcD0cabApLDxjMWowih890hA0b94Ca+RIg1T8CFEoFLFGlsw25tIfo6Ojwg0DzgHOgUw9B/qHRuS9y+3yk62xAuuHVpfJ8pMhKY/08beR1wdfnwNzec13Yh3Xw5EGHxNsNBzFjxJpGNK30HTScKRhykw6WqTL69tt8aHJLDObn319/cINA84BzoFMOweu1XXJkg+a5MG3YgXWz26tkp0XIxKN9vE3kdeFQJwDs3mNd2MZ18PRTCNH9oPSt9g0TOlokX3S0ab4ESf789xHAAEEEJgQOF7WIy/tqR+/NtEbh5vkUj11mxNC3ENgegHXw9FUNUdmNEl/mlEhHVkyI0fmeW2+jiDp6BETAggggMDkAi3RYdl4oU0e31BphaLvbKySTUVt0tZLgfXkYsxFYGoB18ORBh8NNvr2mKkp0pEhHSHSkSJ9S828dabLaQ2SrmPeUtOwpPNNcfbUh8IzCCCAQOYJXKzrldcPN4+PEv1uX4OcKKPAOvPOBI7YSQHXw5GTjWVbCCCAAAIiw6Njsudqhzy7rdYKRV/WAutTEals5QrWnB8IOCFAOHJCkW0ggAACKRCoaBmQZSfD8uXV5VYoenZbjRWSNCwxIYCAcwKEI+cs2RICCCDgisCJsm757d6JAuvX328SfTuNCQEE3BEgHLnjylYRQACBpAS0kHrjhVZ5YmOswPrbGyqtx1p4zYQAAu4KEI7c9WXrCCCAQEICl+r75I0jEwXWL+2tl+Nl3Qltg4URQCA5AcJRcn6sjQACCCQtoCVDe691ys+2xwqs9aKNWltU3jKQ9LbZAAIIJC5AOErcjDUQQAABRwQqWwdkxamIPLQmVmCtX++x+2qHDFFg7YgvG0FgrgKEo7nKsR4CCCAwR4HC8m75/b6G8WsT6RfB6hfCMiGAgD8ECEf+6AdagQACaS7Q1jssm4ta5clNVVYoenx9paw/3yrhHgqs07zrObwAChCOAthpNBkBBIIjcLmhTxYdaRofJfrNnno5VkqBdXB6kJZmogDhKBN7nWNGAAFXBfSSjPuLO+W57TVWKPriqlL5T2FYSiMUWLsKz8YRcEiAcOQQJJtBAAEEqtsGJeu0FliXWaHoR1uq5b0rHTI4whWsOTsQCJIA4ShIvUVbEUDAlwKnKnpk/v6JAus/H2qUopqoL9tKoxBAYGYBwtHMRiyBAAII3CHQ0TciOR+3yXdvF1h/a12lZH/UIqHuoTuWZQYCCARLgHAUrP6itQgg4LHA1cZ+efPoxBWsf727Xo6WdHncKnaPAAJOChCOnNRkWwggkLYC+dc75ec7YlewfmBVmSw9EZaSMAXWadvhHFhGCxCOMrr7OXgEEJhOoLZ9UFZ9GJGH345dwfqZ3GrZdblD+ocpsJ7OjecQCLoA4SjoPUj7EUDAcYHTlT3yh/yJAutXCxrlQg1XsHYcmg0i4FMBwpFPO4ZmIYBAagW6+kck95M2+d7m2BWsH82ukHfOtUhTFwXWqe0J9oaA9wKEI+/7gBYggICHAlcb++Rvx5rl3uUl1rWJXsyrk8O3KLD2sEvYNQKeCxCOPO8CGoAAAl4IHLzRJb/cGSuwvj+rTJYcD8nNUL8XTWGfCCDgMwHCkc86hOYggIB7AnUdQ7L6TIs8stYUWNfIjk/bpXdo1L2dsmUEEAicAOEocF1GgxFAIFGBM5VReeVA4/iXvy4saJKPqrmCdaKOLI9ApggQjjKlpzlOBDJMoHtgRLZebJPvv1tthaJvZFfI2nOt0kiBdYadCRwuAokLEI4SN2MNBBDwsUBxU5/844Nm+dyKUisU/eq9Ojl0kwJrH3cZTUPAdwKEI991CQ1CAIG5CBTc6JTnd8UKrO9bWSr//CAkN5opsJ6LJesgkOkChKNMPwM4fgQCLNDQOSRrzrbI196JFVg/nVMt2y61S3SQAusAdytNR8BzAcKR511AAxBAIFGBc1VRWXBwosBa7+s8JgQQQMAJAcKRE4psAwEEXBfQ0SAdFdLRobuXlVijRTpqpKNHTAgggICTAoQjJzXZFgIIOC6gdUNaP6R1RBqKtK5I64uYEEAAAbcECEduybJdBBBISkA/YaafNNNApJ8800+g6SfRmBBAAAG3BQhHbguzfQQQmLWAXoNIr0Wk1yTSUKTXKNJrFek1i5gQQACBVAkQjlIlzX4QQGBKAb1atV61WgOR3vRq1npVayYEEEDACwHCkRfq7BMBBKzvM9PvNXsmt8YKRPp9Z/q9Z/r9Z0wIIICAlwKOhqPCwjOyaNFSWbhwsRQX37rjuJYsybKe1596C4UiUlVVY80z6+k8nfLy8q3tmGWLii7dsT1mIIBA8AT0m++XHA/J/VllVij65c5aOXiDK1gHrydpMQLpK+BYONJQM2/eAivsaJDR+/GTBh0NUPZJlzXBJzs7xwpN+ryGI33MhAAC6SFw+FaXvJgXK7C+d3mJ/O1Ys1xtpMA6PXqXo0AgvQQcC0cacHTEyEwmKJnH+tOMDmlIMoHI/nxu7q7xcKT3589/zXqsQSmZaXR0TLhhwDmQ+nOgoWNQ1p5tkUdvF1h/b3OV5HzcKh29w/xO8neJc4BzYMZzIJnX/mTWdSwcmbfBTGM0HE02SqRvo+lNg489IEWjvdY8s44uo8/rfA1VGpbmOvX29gk3DDgHUncOnCpplwX5sVEiLbD+/d5aOXazjd9D/hZxDnAOJHQOzPV1P9n1HAtHsxk5sjdWR4/M22YmAJnH9uX0fnzwin+exwgg4L1A//CY7LrcIc/kxq5g/fDb5bLqw4jUtg963zhagAACCCQg4Fg4iq850rfYTMG1jgLpfTNSZEaJ7CNDWVnZ1iiRaXtBwTFz13prLZmRo/ENcQcBBBwXKAkPyNITYXlgVazA+uc7aiX/OlewdhyaDSKAQMoEHAtH2mJ9S0xDkb4NZoKQKbLWcKQByDyvYUdDks7Tt+B0HfPJtHC4xXobzSyr29CAxYQAAv4ROFrSJb/eXT9+baI3j2qBdb9/GkhLEEAAgTkKOBqO5tgGVkMAgYAIhLqHJPujFvnWukorFH13kxZYt0lHH1ewDkgX0kwEEJiFAOFoFkgsgkCmCxTVROXPhxrHR4nm72+QUxU9mc7C8SOAQJoKEI7StGM5LASSFRgcGZP3rnTIj7bECqwfWlMmWacjUt1GgXWytqyPAAL+FiAc+bt/aB0CKRcojQzIfwrD8sVVpdZI0XPba2R/caeMpbwl7BABBBDwRoBw5I07e0XAdwLHSrvlN3smCqwXHWmSyw1cwdp3HUWDEEDAdQHCkevE7AAB/wqEe4Zl/flWeXx9rMD6yU1VsrmoVdp6h/3baFqGAAIIuCxAOHIZmM0j4EeBj2t75bX3m8YLrH+/r0EKy7v92FTahAACCKRcgHCUcnJ2iIA3AkOjY7L7aof8ZGuNFYoeWlMuK05FpLJ1wJsGsVcEEEDApwKEI592DM1CwCmB8pYBWXYyLA++FbuC9c+218rea50ySoW1U8RsBwEE0kyAcJRmHcrhIGAEjpd1y0t7Jwqs3zjSLJfqKbA2PvxEAAEEphIgHE0lw3wEAijQEh2WjRda5dsbYgXWT2ystB639XIF6wB2J01GAAGPBAhHHsGzWwScFLhY1yuv2wqsf7u3Xk6UUWDtpDHbQgCBzBEgHGVOX3OkaSYwPDome652yLPbYgXWX15dbtUWVbRQYJ1mXc3hIIBAigUIRykGZ3cIJCtQ2Tooy09F5MurYwXWz26rtUKShiUmBBBAAIHkBQhHyRuyBQRSInCirEd+t69h/NpErx9uFn07jQkBBBBAwFkBwpGznmwNAUcFtJB6U1GbfGdjlRWKHt+gBdZtooXXTAgggAAC7ggQjtxxZasIJCVwqb5X3jg8cQXrl/bUy/GynqS2ycoIIIAAArMTIBzNzomlEHBdYHR0TPZe65CfbY8VWOtFG/97MixlEQqsXcdnBwgggIBNgHBkw+AuAl4I6Nd3rDgVloduF1jr13vkXemQwREKrL3oD/aJAAIIEI44BxDwSOBkeY/M3z9RYK1fBKtfCMuEAAIIIOCtAOHIW3/2nmEC7X0j8u7HbfLkpliB9WPrK2T9+VYJ91BgnWGnAoeLAAI+FiAc+bhzaFr6CFxu6JM3jzSPfwx/3u46OVbKFazTp4c5EgQQSCcBwlE69SbH4iuBsTGR/cWd8tyOWisUfXFVmfy7MCSl4X5ftZPGIIAAAgh8VoBw9FkPHiGQtEB126BknY7IV9eUW6HoR1tqZNfldhkYHk1622wAAQQQQMB9AcKR+8bsIUMETlf0yMv5EwXWfz7UJEW10Qw5eg4TAQQQSB8BwlH69CVH4oFAZ/+I5HzSJk9trrZGib65rkKyP2qVUDcF1h50B7tEAAEEHBEgHDnCyEYyTeBqY58sPtos9ywvtULRi3l1crSEAutMOw84XgQQSE8BwlF69itH5ZJA/vVO+cXOWIH1F7JKZemJkJSEuYK1S9xsFgEEEPBEgHDkCTs7DZJAbfugrPowIv/zdqzA+pkt1bLz03bpG6LAOkj9SFsRQACB2QoQjmYrxXIZJ6AF1n+wFVi/WtAo52sosM64E4EDRgCBjBMgHGVcl3PA0wl0DYzKlovt8r3NsStYP5pdIe+ca5GmrqHpVuM5BBBAAIE0EiAcpVFncihzF7jW1C9/PxaSe5eXWAXWL7xXJxiGXK8AABG3SURBVIdvdc19g6yJAAIIIBBYAcJRYLuOhjshcPBGlzy/q84KRPevLJV/HQ/JzRBXsHbClm0ggAACQRUgHAW152j3nAXqOgZl9ZmIPLK2wgpF/5tbLdsvtUvv0Nict8mKCCCAAALpI+B6OIpGe2XJkixZtGipZGVl3yFXXHxL5s9/zVpGl8vLy7eWKSw8Y62zcOFi67k7VmQGAgkKnKnskVcOTFzB+k8HG+VcNQXWCTKyOAIIIJD2Aq6Ho+zsnPFQpAHJhB8jq+FIA1D8VFBwTKqqaqzZ+nz8evHL8xiByQS6B0Zk68U2+f67sQLrb2RXyNtnW6SxkwLrybyYhwACCCAg4no40kCko0A6acCJHz0qKrok8+YtsEaHNEjpSFP8NFmoil9musf67ejcMsuguKlf/vFBSD63IlZg/av36qTgRhfnAb8LnAOcA5wDAToHpnttd/M518ORBh97OIofJdIwpKNEOmk40iBkn8zbbmYUyf7cbO/rPrhlhsHeyxH5xY4aq5bo8ytKZfGRBrlY1UH/8zvAOcA5wDkQwHNgtq/zTi/nejiaaeTIfkAahDRMhUIRa7YGIq1HMuHKviz3ETACDZ1DsuZsi3z9nViB9Q9yqmXbxTaJDnIFa2PETwQQQACB2Qu4Ho6mqjkygUd/mrfS9G03M3JkghG1RrPvzExb8lxVVBYcaLRGie5eViKvHGiUs1U9mcbA8SKAAAIIOCzgejjS4KOfQtO300xNkY4M6QiRjhTpW2r6nC6jN61B0klHjEwtks7XdZkQ0NGgbZfa5emcaisUfe2dCmvUqL5jEBwEEEAAAQQcEXA9HDnSSjaS8QI3Qv3WBRrvW1lqhSK9cKMWWDMhgAACCCDgtADhyGlRtueowPs3u+SFvNgVrPWrPfQTaPpJNCYEEEAAAQTcEiAcuSXLducs0Ng1JGvPtYh+6avWEuk1irZebJfuAQqs54zKiggggAACsxYgHM2aigXdFvioOioLD04UWP8xv0HOVHEFa7fd2T4CCCCAwGcFCEef9eBRigV6B0dlx6ft8kxurMBav+/srTMRqW2nwDrFXcHuEEAAAQRuCxCOOBU8EdBvvl9yPCT33y6w/uXOOjlwvdOTtrBTBBBAAAEE7AKEI7sG910XOHKrW17cXW/VEt2zrET+diwkVxv7XN8vO0AAAQQQQGC2AoSj2Uqx3JwFmruHJfujVvnmukorFD21uUpyP2mXrv6ROW+TFRFAAAEEEHBLgHDklizblQs1UXm1oMkKRPqps5f3N8jpSgqsOTUQQAABBPwtQDjyd/8ErnX9Q6Oy63K7/HBLrMD64bfLJetDLbAeCtyx0GAEEEAAgcwUIBxlZr87ftQl4X5ZeiIkD2TFrmD98x21kl9MgbXj0GwQAQQQQMB1AcKR68TpvYOjt7rk17tjV7DWt87ePNosVyiwTu9O5+gQQACBNBcgHKV5B7txeOGeYVl3vlUeWx8rsH5yU5XkfNwmHX0UWLvhzTYRQAABBFIrQDhKrXeg91ZU2yt/OTRRYD1/X4OcqugJ9DHReAQQQAABBOIFCEfxIjz+jMDg8Ji8d6VDfry1xvrU2UNrymXl6bBUt3EF689A8QABBBBAIG0ECEdp05XOHkhpZED+UxiWB1eVWaHouR21su9ah4w5uxu2hgACCCCAgO8ECEe+6xJvG3SspFt+syd2BWstsF50pFk+bej1tlHsHQEEEEAAgRQKEI5SiO3XXUWiw7LhQqs8vr7CGiX6zsZK2VzUJm29FFj7tc9oFwIIIICAewKEI/dsfb/lT+p65fX3Jwqsf7e3XgrLKbD2fcfRQAQQQAABVwUIR67y+m/jQyNjsvtqh/xkW6zA+iury2T5qbBUtlJg7b/eokUIIIAAAl4IEI68UPdgn+UtA7LsZFi+9FaswPqn22tkz9UOGaXC2oPeYJcIIIAAAn4WIBz5uXccaNvx0m55ae9EgfVfDzfJpXoKrB2gZRMIIIAAAmkqQDhKw45tiQ7Lxgut8u0NsStYP7GxSjYWtUprdDgNj5ZDQgABBBBAwFkBwpGznp5u7VJ9n/z1cLP1iTP9GP5Le+rlRFm3p21i5wgggAACCARNgHAUtB6La+/IqMiea53y0+21VijSmiKtLapoGYhbkocIIIAAAgggMBsBwtFslHy4TGXrgPUps6+sLrdCkX76bPeVDhmmwtqHvUWTEEAAAQSCJEA4ClJviVhvk+n1iPRtM73pdYr0ekVMCCCAAAIIIOCMAOHIGUdXt9LWOyybilpFr1ytgejxDZXWFa0jPRRYuwrPxhFAAAEEMlKAcOTjbteP3L9xeOIK1lpg/UEpBdY+7jKahgACCCCQBgKEI591opYM7bvWKc/tiBVYP7iqTP57MixlEQqsfdZVNAcBBBBAIE0FCEc+6diqtkFZeToiD62JFVj/eGuN5F3pkMERLmHtky6iGQgggAACGSJAOPK4o0+W98j8fQ3jBdZ/OdQkRbVRj1vF7hFAAAEEEMhcAcKRB33f3jsi737cJk9uqrJC0WPrK2Xd+VYJdw950Bp2iQACCCCAAAJ2AcKRXcPl+5cb+uTNIxNXsJ63u16OllBg7TI7m0cAAQQQQCAhAUfDUWHhGVm0aKksXLhYiotv3dGQJUuyrOf1p95CoYi1TG7uLpk//zXJzs4ZXycvL9/ajlm2qOjS+HNBu5NfrAXWNdYo0QNZpfLvwrCUUmAdtG6kvQgggAACGSLgWDjSoDNv3gKpqqoRDTJ6P37SoKMBarJJn4sPR/bHk63j53k17YOS9WFEHn47VmD9wy3VsutyhwwMU2Dt536jbQgggAACMwvo67MOhOgtKytbotFea8Bjqtf4mbforyUcC0caiBTJTCYomcf604wqaRCKHwmKD0dmNEnn6yhSUKbTFT3y8v6JAutXCxqlqJYrWAel/2gnAggggMD0AhqA9PVeA5FOBQXHrPtm/vRrB+NZx8KReRvMHLaGo/gEqYFIR5b0pm+j2QNSfDgyI1CKr6FKw9Jcp56eqLh5a4h0ybqzzfLk7StYP5pdIW+dapLK5i5X9+vmMbFtd88ZfPHlHOAcCOo5cPjwCevdIX3HyBzD9eu35E9/etN6bf/nP1fI6dMfic7T+2+8sUSWL3/bWnb79t3Wcjpfl1+zZtP4Nsy27D/n+rqf7HqOhaPZjBzZGxsfhuIf25eND17257y8f7WxTxYfbZZ7bn/P2Yu76+XIrS4vm8S+EUAAAQQQcF1AX7N1EEQHLswIUvxrtS5jBjZ0kENzgllGB0B0vfiBEtcbPssdOBaO4muOdMhN55mRIr1vRoomA4kPRzpMZyY7sJnn5U8tsP7FztgVrO9fWSpLT4TlVrjfyyaxbwQQQAABBFIqoB+80tCjAUdf403w0Ubo67yGJ52vkz6ndUr2ZXR+/Gu/tbAP/nEsHOmxmPcbTULUeYqhB69AWrSlocm8TaZ4Gp70ecXVm94Ph1ustGmW1W3ocl5OtR1D8taZFnlkbYX1qbNncqtl56cd0jc06mWz2DcCCCCAAAKeCpjXdHvw0ddsDUc6z9w0I9iX0Ubra77O89vkaDjy28E50Z4PK6Pyx/zG8StYLzzYKOdrKLB2wpZtIIAAAggET0BDjv3dHR3I0MfxwUcHPEzw0cEQveljna+TCVCTXfrHaxXC0SQ90NU/Ilsutsn33622QpEWWK891yJNXcOTLM0sBBBAAAEEMkfAvONjf3dHg4++Q6Tz9KZlNLqcjirpTUeINASZcKTzdDkTnvymRziy9ci1pj75+7FmuXd5iRWKXsirk/dv+rfAure3Xzo7/ds+Gy13bQLDwyMSibTa5nA3KALNzREZG+NaZUHpL9PO1tYOGRgYNA/56aGAhiENRbOZ9FNr3d3efNco4UhEDl7vlOd3xQqs71tRKv86HpIbIf8XWBOOZvPr5b9lCEf+65PZtohwNFspfy1HOPJPfxCO/NMXk7akrmNQVp+JyCNrY1ewfjqnWrZfapfeweAUWBOOJu1a388kHPm+i6ZsIOFoShpfP0E48nX3TNk4Ro6mpHH+ibNVUXnlwESB9YIDjXKu2pthu2SPjnCUrKA36xOOvHF3Yq+EIycUU78NwlHqzZ3YI+HICcVpttEzMCrbLrXLD3JiBdZff6dC1pxtkcbOoWnW8v9ThCP/99FkLSQcTaYSjHmEo2D0U3wrCUfxIsF4TDhyuZ8+v6LUKrD+v/fq5NCN9ClgJhy5fOK4tHnCkUuwKdgs4SgFyC7sgnDkAmoKNkk4SgFyOu6CcBTMXiUcBbPftNWEo2D2HeEomP1GOApmv3neasKR510wpwYQjubE5ouVCEe+6IaEG0E4SpjMFysQjnzRDcFrBOEoeH2mLSYcBbPftNWEo2D2HeEomP1GOApmv3neasKR510wpwYQjubE5ouVCEe+6IaEG0E4SpjMFysQjnzRDcFrBOEoeH2mLSYcBbPftNWEo2D2HeEomP1GOApmv3neasKR510wpwYQjubE5ouVCEe+6IaEG0E4SpjMFysQjnzRDTQCAQQQQAABBBAQ4bvVOAsQQAABBBBAAAGbAOHIhsFdBBBAAAEEEECAcMQ5gAACCCCAAAII2AQIRzYM7iKAAAIIIIAAAoQjzgEEEEAAAQQQQMAmQDiyYXAXAQQQQAABBBAgHHEOIIAAAggggAACNgHCkQ2DuwgggAACCCCAAOEooOdAUdElWbRoqXXLysoO6FFkTrNzc3fJ/PmvSXZ2zvhBV1XVWP23cOFiKSg4Nj6fO/4RKCw8I9o/ejOTztPfPZ23ZEmWmc1PHwkUF9+y+mbevAUSCkU+0zL9XdP52o9M/hLQvtK/kfH9o38r9fdNf+9S9TtHOPLXuTHr1uiJYl5Q9YTRsMTkbwH9pbaHI9OH0Wiv9cdA/6Az+U8gLy//M+FIf+/0j7VO2of6PJP/BPT3KT4cab/pf1LiX3z91/rMbpG9f/Tvo/aZCbOp+jtJOAroOagvtHrTE0fDUapOmIBy+aLZ9nBkApH5X60+Z8KuLxpLI8YF4sPR+BMi1u8e4cgu4p/7k4Uj/VvJyJF/+miqltjDkf7HX/8TYv5WTrWO0/MJR06Lpmh75oSJf6smRbtnN3MQsIej+D/c9ufmsGlWcVFgqnCkfai/f2YUycUmsOk5CMT/jmk/agmC+Y+JGYmYw6ZZxWUBezjSftPH+jcylSO1hCOXO9mNzWuCNkna3OcX3Q1pZ7dpD0DmD7T535A+x8iRs95ObW2ycGTenuH3zill57cTH470BVb/burvmrmvyzD5T8AejvR3TPtN/2aav5up6DfCkf/OixlbpC+oevKYSYeK9Q84k78F7OFIW6q/8BqIUvkL728hf7YuPhyZYMTvnD/7y7QqPhyZ+frT/uJrn899fwjY+8e83ulP87cyFaO1hCN/nAsJt0JfVPXFVYORFvnqScPkTwH9RdZgpG/B6E3va3/pfNOHvND6s++0r7SP9I+13tcXXO1D81jn2Yvs/XkUmdcq/XSo/m3UfjJ1RnYF+4uvfT73vRXQUSL9ndL+0d8787ul87Uf9Zaqv5WEI2/PBfaOAAIIIIAAAj4TIBz5rENoDgIIIIAAAgh4K0A48tafvSOAAAIIIICAzwQIRz7rEJqDAAIIIIAAAt4KEI689WfvCCCAAAIIIOAzAcKRzzqE5iCAAAIIIICAtwKEI2/92TsCCCCAAAII+EyAcOSzDqE5CCCAAAIIIOCtAOHIW3/2jgACCCCAAAI+EyAc+axDaA4CCCCAAAIIeCtAOPLWn70jgAACCCCAgM8ECEc+6xCagwACCCCAAALeChCOvPVn7wgggAACCCDgMwHCkc86hOYggAACCCCAgLcChCNv/dk7AggggAACCPhMgHDksw6hOQgggAACCCDgrYAVjm7evClDQ0PetoS9I4AAAggggAACHgtoHtJcdFdjY6PU1NTIwMCAx01i9wgggAACCCCAgDcC/f39Ul1dLaFQSO4aHBy07ty4cUN0KIkbBpwDnAOcA5wDnAOcA5l2DuiIUTgcFs1F/w9bmSmkLMmziAAAAABJRU5ErkJggg==)"
      ],
      "metadata": {
        "id": "t3LI5uqR2EVg"
      }
    },
    {
      "cell_type": "markdown",
      "source": [
        "При изменении resnet18 на vit_b_16(weights='ViT_B_16_Weights.IMAGENET1K_V1') получаем accuracy 0.827 даже за одну эпоху. Данная модель была взята с https://pytorch.org/vision/main/models/generated/torchvision.models.vit_b_16.html после частичного изучения документации.\n",
        "\n",
        "![image.png](data:image/png;base64,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)\n",
        "\n",
        "![image.png](data:image/png;base64,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)\n"
      ],
      "metadata": {
        "id": "w1o8m6h3aErL"
      }
    }
  ],
  "metadata": {
    "colab": {
      "provenance": [],
      "gpuType": "T4"
    },
    "kernelspec": {
      "display_name": "Python 3",
      "name": "python3"
    },
    "language_info": {
      "codemirror_mode": {
        "name": "ipython",
        "version": 3
      },
      "file_extension": ".py",
      "mimetype": "text/x-python",
      "name": "python",
      "nbconvert_exporter": "python",
      "pygments_lexer": "ipython3",
      "version": "3.8.5"
    },
    "max_cell_id": 35,
    "widgets": {
      "application/vnd.jupyter.widget-state+json": {
        "1a2a5c3151fd479c926670c932047d08": {
          "model_module": "@jupyter-widgets/controls",
          "model_name": "HBoxModel",
          "model_module_version": "1.5.0",
          "state": {
            "_dom_classes": [],
            "_model_module": "@jupyter-widgets/controls",
            "_model_module_version": "1.5.0",
            "_model_name": "HBoxModel",
            "_view_count": null,
            "_view_module": "@jupyter-widgets/controls",
            "_view_module_version": "1.5.0",
            "_view_name": "HBoxView",
            "box_style": "",
            "children": [
              "IPY_MODEL_fdbc8369eff94d81863a72e17ba8fb74",
              "IPY_MODEL_17d12155b6a74744a5caebef8bfc171c",
              "IPY_MODEL_87cc40e73cc74f0c893cad2729acad33"
            ],
            "layout": "IPY_MODEL_95cd02f1268c4da9ace68e866a85af21"
          }
        },
        "fdbc8369eff94d81863a72e17ba8fb74": {
          "model_module": "@jupyter-widgets/controls",
          "model_name": "HTMLModel",
          "model_module_version": "1.5.0",
          "state": {
            "_dom_classes": [],
            "_model_module": "@jupyter-widgets/controls",
            "_model_module_version": "1.5.0",
            "_model_name": "HTMLModel",
            "_view_count": null,
            "_view_module": "@jupyter-widgets/controls",
            "_view_module_version": "1.5.0",
            "_view_name": "HTMLView",
            "description": "",
            "description_tooltip": null,
            "layout": "IPY_MODEL_09aff8f2af594d51b302900c0237668d",
            "placeholder": "​",
            "style": "IPY_MODEL_b5c8b4181ff24aecbe4b5fb766237857",
            "value": "Sanity Checking DataLoader 0: 100%"
          }
        },
        "17d12155b6a74744a5caebef8bfc171c": {
          "model_module": "@jupyter-widgets/controls",
          "model_name": "FloatProgressModel",
          "model_module_version": "1.5.0",
          "state": {
            "_dom_classes": [],
            "_model_module": "@jupyter-widgets/controls",
            "_model_module_version": "1.5.0",
            "_model_name": "FloatProgressModel",
            "_view_count": null,
            "_view_module": "@jupyter-widgets/controls",
            "_view_module_version": "1.5.0",
            "_view_name": "ProgressView",
            "bar_style": "",
            "description": "",
            "description_tooltip": null,
            "layout": "IPY_MODEL_79444f8c8c974cccab44f0e6cdc8b3e7",
            "max": 2,
            "min": 0,
            "orientation": "horizontal",
            "style": "IPY_MODEL_681323df80ef4976b693f055cb3585e6",
            "value": 2
          }
        },
        "87cc40e73cc74f0c893cad2729acad33": {
          "model_module": "@jupyter-widgets/controls",
          "model_name": "HTMLModel",
          "model_module_version": "1.5.0",
          "state": {
            "_dom_classes": [],
            "_model_module": "@jupyter-widgets/controls",
            "_model_module_version": "1.5.0",
            "_model_name": "HTMLModel",
            "_view_count": null,
            "_view_module": "@jupyter-widgets/controls",
            "_view_module_version": "1.5.0",
            "_view_name": "HTMLView",
            "description": "",
            "description_tooltip": null,
            "layout": "IPY_MODEL_6e1958981670408a9e506cc368867b68",
            "placeholder": "​",
            "style": "IPY_MODEL_f6d1476b0500494b8f5540ce882ba5d6",
            "value": " 2/2 [00:05&lt;00:00,  0.37it/s]"
          }
        },
        "95cd02f1268c4da9ace68e866a85af21": {
          "model_module": "@jupyter-widgets/base",
          "model_name": "LayoutModel",
          "model_module_version": "1.2.0",
          "state": {
            "_model_module": "@jupyter-widgets/base",
            "_model_module_version": "1.2.0",
            "_model_name": "LayoutModel",
            "_view_count": null,
            "_view_module": "@jupyter-widgets/base",
            "_view_module_version": "1.2.0",
            "_view_name": "LayoutView",
            "align_content": null,
            "align_items": null,
            "align_self": null,
            "border": null,
            "bottom": null,
            "display": "inline-flex",
            "flex": null,
            "flex_flow": "row wrap",
            "grid_area": null,
            "grid_auto_columns": null,
            "grid_auto_flow": null,
            "grid_auto_rows": null,
            "grid_column": null,
            "grid_gap": null,
            "grid_row": null,
            "grid_template_areas": null,
            "grid_template_columns": null,
            "grid_template_rows": null,
            "height": null,
            "justify_content": null,
            "justify_items": null,
            "left": null,
            "margin": null,
            "max_height": null,
            "max_width": null,
            "min_height": null,
            "min_width": null,
            "object_fit": null,
            "object_position": null,
            "order": null,
            "overflow": null,
            "overflow_x": null,
            "overflow_y": null,
            "padding": null,
            "right": null,
            "top": null,
            "visibility": "hidden",
            "width": "100%"
          }
        },
        "09aff8f2af594d51b302900c0237668d": {
          "model_module": "@jupyter-widgets/base",
          "model_name": "LayoutModel",
          "model_module_version": "1.2.0",
          "state": {
            "_model_module": "@jupyter-widgets/base",
            "_model_module_version": "1.2.0",
            "_model_name": "LayoutModel",
            "_view_count": null,
            "_view_module": "@jupyter-widgets/base",
            "_view_module_version": "1.2.0",
            "_view_name": "LayoutView",
            "align_content": null,
            "align_items": null,
            "align_self": null,
            "border": null,
            "bottom": null,
            "display": null,
            "flex": null,
            "flex_flow": null,
            "grid_area": null,
            "grid_auto_columns": null,
            "grid_auto_flow": null,
            "grid_auto_rows": null,
            "grid_column": null,
            "grid_gap": null,
            "grid_row": null,
            "grid_template_areas": null,
            "grid_template_columns": null,
            "grid_template_rows": null,
            "height": null,
            "justify_content": null,
            "justify_items": null,
            "left": null,
            "margin": null,
            "max_height": null,
            "max_width": null,
            "min_height": null,
            "min_width": null,
            "object_fit": null,
            "object_position": null,
            "order": null,
            "overflow": null,
            "overflow_x": null,
            "overflow_y": null,
            "padding": null,
            "right": null,
            "top": null,
            "visibility": null,
            "width": null
          }
        },
        "b5c8b4181ff24aecbe4b5fb766237857": {
          "model_module": "@jupyter-widgets/controls",
          "model_name": "DescriptionStyleModel",
          "model_module_version": "1.5.0",
          "state": {
            "_model_module": "@jupyter-widgets/controls",
            "_model_module_version": "1.5.0",
            "_model_name": "DescriptionStyleModel",
            "_view_count": null,
            "_view_module": "@jupyter-widgets/base",
            "_view_module_version": "1.2.0",
            "_view_name": "StyleView",
            "description_width": ""
          }
        },
        "79444f8c8c974cccab44f0e6cdc8b3e7": {
          "model_module": "@jupyter-widgets/base",
          "model_name": "LayoutModel",
          "model_module_version": "1.2.0",
          "state": {
            "_model_module": "@jupyter-widgets/base",
            "_model_module_version": "1.2.0",
            "_model_name": "LayoutModel",
            "_view_count": null,
            "_view_module": "@jupyter-widgets/base",
            "_view_module_version": "1.2.0",
            "_view_name": "LayoutView",
            "align_content": null,
            "align_items": null,
            "align_self": null,
            "border": null,
            "bottom": null,
            "display": null,
            "flex": "2",
            "flex_flow": null,
            "grid_area": null,
            "grid_auto_columns": null,
            "grid_auto_flow": null,
            "grid_auto_rows": null,
            "grid_column": null,
            "grid_gap": null,
            "grid_row": null,
            "grid_template_areas": null,
            "grid_template_columns": null,
            "grid_template_rows": null,
            "height": null,
            "justify_content": null,
            "justify_items": null,
            "left": null,
            "margin": null,
            "max_height": null,
            "max_width": null,
            "min_height": null,
            "min_width": null,
            "object_fit": null,
            "object_position": null,
            "order": null,
            "overflow": null,
            "overflow_x": null,
            "overflow_y": null,
            "padding": null,
            "right": null,
            "top": null,
            "visibility": null,
            "width": null
          }
        },
        "681323df80ef4976b693f055cb3585e6": {
          "model_module": "@jupyter-widgets/controls",
          "model_name": "ProgressStyleModel",
          "model_module_version": "1.5.0",
          "state": {
            "_model_module": "@jupyter-widgets/controls",
            "_model_module_version": "1.5.0",
            "_model_name": "ProgressStyleModel",
            "_view_count": null,
            "_view_module": "@jupyter-widgets/base",
            "_view_module_version": "1.2.0",
            "_view_name": "StyleView",
            "bar_color": null,
            "description_width": ""
          }
        },
        "6e1958981670408a9e506cc368867b68": {
          "model_module": "@jupyter-widgets/base",
          "model_name": "LayoutModel",
          "model_module_version": "1.2.0",
          "state": {
            "_model_module": "@jupyter-widgets/base",
            "_model_module_version": "1.2.0",
            "_model_name": "LayoutModel",
            "_view_count": null,
            "_view_module": "@jupyter-widgets/base",
            "_view_module_version": "1.2.0",
            "_view_name": "LayoutView",
            "align_content": null,
            "align_items": null,
            "align_self": null,
            "border": null,
            "bottom": null,
            "display": null,
            "flex": null,
            "flex_flow": null,
            "grid_area": null,
            "grid_auto_columns": null,
            "grid_auto_flow": null,
            "grid_auto_rows": null,
            "grid_column": null,
            "grid_gap": null,
            "grid_row": null,
            "grid_template_areas": null,
            "grid_template_columns": null,
            "grid_template_rows": null,
            "height": null,
            "justify_content": null,
            "justify_items": null,
            "left": null,
            "margin": null,
            "max_height": null,
            "max_width": null,
            "min_height": null,
            "min_width": null,
            "object_fit": null,
            "object_position": null,
            "order": null,
            "overflow": null,
            "overflow_x": null,
            "overflow_y": null,
            "padding": null,
            "right": null,
            "top": null,
            "visibility": null,
            "width": null
          }
        },
        "f6d1476b0500494b8f5540ce882ba5d6": {
          "model_module": "@jupyter-widgets/controls",
          "model_name": "DescriptionStyleModel",
          "model_module_version": "1.5.0",
          "state": {
            "_model_module": "@jupyter-widgets/controls",
            "_model_module_version": "1.5.0",
            "_model_name": "DescriptionStyleModel",
            "_view_count": null,
            "_view_module": "@jupyter-widgets/base",
            "_view_module_version": "1.2.0",
            "_view_name": "StyleView",
            "description_width": ""
          }
        },
        "c279aca64da5480b91087cb4e2cc1914": {
          "model_module": "@jupyter-widgets/controls",
          "model_name": "HBoxModel",
          "model_module_version": "1.5.0",
          "state": {
            "_dom_classes": [],
            "_model_module": "@jupyter-widgets/controls",
            "_model_module_version": "1.5.0",
            "_model_name": "HBoxModel",
            "_view_count": null,
            "_view_module": "@jupyter-widgets/controls",
            "_view_module_version": "1.5.0",
            "_view_name": "HBoxView",
            "box_style": "",
            "children": [
              "IPY_MODEL_e3487ea0bb9b471cb02a99f8cbd925ea",
              "IPY_MODEL_93f31d8eadcd4d0094ef8ac9fabde7ab",
              "IPY_MODEL_47ddfbc6049248e3988e6e464e6dbf70"
            ],
            "layout": "IPY_MODEL_2086a5ca81aa4f9180e511e819369ed3"
          }
        },
        "e3487ea0bb9b471cb02a99f8cbd925ea": {
          "model_module": "@jupyter-widgets/controls",
          "model_name": "HTMLModel",
          "model_module_version": "1.5.0",
          "state": {
            "_dom_classes": [],
            "_model_module": "@jupyter-widgets/controls",
            "_model_module_version": "1.5.0",
            "_model_name": "HTMLModel",
            "_view_count": null,
            "_view_module": "@jupyter-widgets/controls",
            "_view_module_version": "1.5.0",
            "_view_name": "HTMLView",
            "description": "",
            "description_tooltip": null,
            "layout": "IPY_MODEL_d52db35ba3104290ae12ac5edbec1d73",
            "placeholder": "​",
            "style": "IPY_MODEL_576d547c3fea49b9851a7c6b2e45c2e0",
            "value": "Epoch 0: 100%"
          }
        },
        "93f31d8eadcd4d0094ef8ac9fabde7ab": {
          "model_module": "@jupyter-widgets/controls",
          "model_name": "FloatProgressModel",
          "model_module_version": "1.5.0",
          "state": {
            "_dom_classes": [],
            "_model_module": "@jupyter-widgets/controls",
            "_model_module_version": "1.5.0",
            "_model_name": "FloatProgressModel",
            "_view_count": null,
            "_view_module": "@jupyter-widgets/controls",
            "_view_module_version": "1.5.0",
            "_view_name": "ProgressView",
            "bar_style": "success",
            "description": "",
            "description_tooltip": null,
            "layout": "IPY_MODEL_9e5a16ad32ce4f1abbdc7bbb2ee1ff7a",
            "max": 391,
            "min": 0,
            "orientation": "horizontal",
            "style": "IPY_MODEL_a4eecda7913b48198107185970be9fe8",
            "value": 391
          }
        },
        "47ddfbc6049248e3988e6e464e6dbf70": {
          "model_module": "@jupyter-widgets/controls",
          "model_name": "HTMLModel",
          "model_module_version": "1.5.0",
          "state": {
            "_dom_classes": [],
            "_model_module": "@jupyter-widgets/controls",
            "_model_module_version": "1.5.0",
            "_model_name": "HTMLModel",
            "_view_count": null,
            "_view_module": "@jupyter-widgets/controls",
            "_view_module_version": "1.5.0",
            "_view_name": "HTMLView",
            "description": "",
            "description_tooltip": null,
            "layout": "IPY_MODEL_5177dd0a6f8e477387835a76973db72f",
            "placeholder": "​",
            "style": "IPY_MODEL_5602c6add19f4590839f4e3710db7ad8",
            "value": " 391/391 [21:46&lt;00:00,  0.30it/s, v_num=1ehp, train_loss=0.858, val_loss=0.656, accuracy=0.827]"
          }
        },
        "2086a5ca81aa4f9180e511e819369ed3": {
          "model_module": "@jupyter-widgets/base",
          "model_name": "LayoutModel",
          "model_module_version": "1.2.0",
          "state": {
            "_model_module": "@jupyter-widgets/base",
            "_model_module_version": "1.2.0",
            "_model_name": "LayoutModel",
            "_view_count": null,
            "_view_module": "@jupyter-widgets/base",
            "_view_module_version": "1.2.0",
            "_view_name": "LayoutView",
            "align_content": null,
            "align_items": null,
            "align_self": null,
            "border": null,
            "bottom": null,
            "display": "inline-flex",
            "flex": null,
            "flex_flow": "row wrap",
            "grid_area": null,
            "grid_auto_columns": null,
            "grid_auto_flow": null,
            "grid_auto_rows": null,
            "grid_column": null,
            "grid_gap": null,
            "grid_row": null,
            "grid_template_areas": null,
            "grid_template_columns": null,
            "grid_template_rows": null,
            "height": null,
            "justify_content": null,
            "justify_items": null,
            "left": null,
            "margin": null,
            "max_height": null,
            "max_width": null,
            "min_height": null,
            "min_width": null,
            "object_fit": null,
            "object_position": null,
            "order": null,
            "overflow": null,
            "overflow_x": null,
            "overflow_y": null,
            "padding": null,
            "right": null,
            "top": null,
            "visibility": null,
            "width": "100%"
          }
        },
        "d52db35ba3104290ae12ac5edbec1d73": {
          "model_module": "@jupyter-widgets/base",
          "model_name": "LayoutModel",
          "model_module_version": "1.2.0",
          "state": {
            "_model_module": "@jupyter-widgets/base",
            "_model_module_version": "1.2.0",
            "_model_name": "LayoutModel",
            "_view_count": null,
            "_view_module": "@jupyter-widgets/base",
            "_view_module_version": "1.2.0",
            "_view_name": "LayoutView",
            "align_content": null,
            "align_items": null,
            "align_self": null,
            "border": null,
            "bottom": null,
            "display": null,
            "flex": null,
            "flex_flow": null,
            "grid_area": null,
            "grid_auto_columns": null,
            "grid_auto_flow": null,
            "grid_auto_rows": null,
            "grid_column": null,
            "grid_gap": null,
            "grid_row": null,
            "grid_template_areas": null,
            "grid_template_columns": null,
            "grid_template_rows": null,
            "height": null,
            "justify_content": null,
            "justify_items": null,
            "left": null,
            "margin": null,
            "max_height": null,
            "max_width": null,
            "min_height": null,
            "min_width": null,
            "object_fit": null,
            "object_position": null,
            "order": null,
            "overflow": null,
            "overflow_x": null,
            "overflow_y": null,
            "padding": null,
            "right": null,
            "top": null,
            "visibility": null,
            "width": null
          }
        },
        "576d547c3fea49b9851a7c6b2e45c2e0": {
          "model_module": "@jupyter-widgets/controls",
          "model_name": "DescriptionStyleModel",
          "model_module_version": "1.5.0",
          "state": {
            "_model_module": "@jupyter-widgets/controls",
            "_model_module_version": "1.5.0",
            "_model_name": "DescriptionStyleModel",
            "_view_count": null,
            "_view_module": "@jupyter-widgets/base",
            "_view_module_version": "1.2.0",
            "_view_name": "StyleView",
            "description_width": ""
          }
        },
        "9e5a16ad32ce4f1abbdc7bbb2ee1ff7a": {
          "model_module": "@jupyter-widgets/base",
          "model_name": "LayoutModel",
          "model_module_version": "1.2.0",
          "state": {
            "_model_module": "@jupyter-widgets/base",
            "_model_module_version": "1.2.0",
            "_model_name": "LayoutModel",
            "_view_count": null,
            "_view_module": "@jupyter-widgets/base",
            "_view_module_version": "1.2.0",
            "_view_name": "LayoutView",
            "align_content": null,
            "align_items": null,
            "align_self": null,
            "border": null,
            "bottom": null,
            "display": null,
            "flex": "2",
            "flex_flow": null,
            "grid_area": null,
            "grid_auto_columns": null,
            "grid_auto_flow": null,
            "grid_auto_rows": null,
            "grid_column": null,
            "grid_gap": null,
            "grid_row": null,
            "grid_template_areas": null,
            "grid_template_columns": null,
            "grid_template_rows": null,
            "height": null,
            "justify_content": null,
            "justify_items": null,
            "left": null,
            "margin": null,
            "max_height": null,
            "max_width": null,
            "min_height": null,
            "min_width": null,
            "object_fit": null,
            "object_position": null,
            "order": null,
            "overflow": null,
            "overflow_x": null,
            "overflow_y": null,
            "padding": null,
            "right": null,
            "top": null,
            "visibility": null,
            "width": null
          }
        },
        "a4eecda7913b48198107185970be9fe8": {
          "model_module": "@jupyter-widgets/controls",
          "model_name": "ProgressStyleModel",
          "model_module_version": "1.5.0",
          "state": {
            "_model_module": "@jupyter-widgets/controls",
            "_model_module_version": "1.5.0",
            "_model_name": "ProgressStyleModel",
            "_view_count": null,
            "_view_module": "@jupyter-widgets/base",
            "_view_module_version": "1.2.0",
            "_view_name": "StyleView",
            "bar_color": null,
            "description_width": ""
          }
        },
        "5177dd0a6f8e477387835a76973db72f": {
          "model_module": "@jupyter-widgets/base",
          "model_name": "LayoutModel",
          "model_module_version": "1.2.0",
          "state": {
            "_model_module": "@jupyter-widgets/base",
            "_model_module_version": "1.2.0",
            "_model_name": "LayoutModel",
            "_view_count": null,
            "_view_module": "@jupyter-widgets/base",
            "_view_module_version": "1.2.0",
            "_view_name": "LayoutView",
            "align_content": null,
            "align_items": null,
            "align_self": null,
            "border": null,
            "bottom": null,
            "display": null,
            "flex": null,
            "flex_flow": null,
            "grid_area": null,
            "grid_auto_columns": null,
            "grid_auto_flow": null,
            "grid_auto_rows": null,
            "grid_column": null,
            "grid_gap": null,
            "grid_row": null,
            "grid_template_areas": null,
            "grid_template_columns": null,
            "grid_template_rows": null,
            "height": null,
            "justify_content": null,
            "justify_items": null,
            "left": null,
            "margin": null,
            "max_height": null,
            "max_width": null,
            "min_height": null,
            "min_width": null,
            "object_fit": null,
            "object_position": null,
            "order": null,
            "overflow": null,
            "overflow_x": null,
            "overflow_y": null,
            "padding": null,
            "right": null,
            "top": null,
            "visibility": null,
            "width": null
          }
        },
        "5602c6add19f4590839f4e3710db7ad8": {
          "model_module": "@jupyter-widgets/controls",
          "model_name": "DescriptionStyleModel",
          "model_module_version": "1.5.0",
          "state": {
            "_model_module": "@jupyter-widgets/controls",
            "_model_module_version": "1.5.0",
            "_model_name": "DescriptionStyleModel",
            "_view_count": null,
            "_view_module": "@jupyter-widgets/base",
            "_view_module_version": "1.2.0",
            "_view_name": "StyleView",
            "description_width": ""
          }
        },
        "b6651f9ced754df588b53bcef127e7f4": {
          "model_module": "@jupyter-widgets/controls",
          "model_name": "HBoxModel",
          "model_module_version": "1.5.0",
          "state": {
            "_dom_classes": [],
            "_model_module": "@jupyter-widgets/controls",
            "_model_module_version": "1.5.0",
            "_model_name": "HBoxModel",
            "_view_count": null,
            "_view_module": "@jupyter-widgets/controls",
            "_view_module_version": "1.5.0",
            "_view_name": "HBoxView",
            "box_style": "",
            "children": [
              "IPY_MODEL_2eb10d2c6e98460bb0760d44381f4fb2",
              "IPY_MODEL_8233373e8a4c43cda1975aed929fefac",
              "IPY_MODEL_f4eb947a711b491f9ceb1b6aaec1caca"
            ],
            "layout": "IPY_MODEL_6156ac9c97294d07bb7d50897e31565c"
          }
        },
        "2eb10d2c6e98460bb0760d44381f4fb2": {
          "model_module": "@jupyter-widgets/controls",
          "model_name": "HTMLModel",
          "model_module_version": "1.5.0",
          "state": {
            "_dom_classes": [],
            "_model_module": "@jupyter-widgets/controls",
            "_model_module_version": "1.5.0",
            "_model_name": "HTMLModel",
            "_view_count": null,
            "_view_module": "@jupyter-widgets/controls",
            "_view_module_version": "1.5.0",
            "_view_name": "HTMLView",
            "description": "",
            "description_tooltip": null,
            "layout": "IPY_MODEL_ab1a58b4729e4e12a339956369480a27",
            "placeholder": "​",
            "style": "IPY_MODEL_59a07740c6f344a1bf3801320a0e7b55",
            "value": "Validation DataLoader 0: 100%"
          }
        },
        "8233373e8a4c43cda1975aed929fefac": {
          "model_module": "@jupyter-widgets/controls",
          "model_name": "FloatProgressModel",
          "model_module_version": "1.5.0",
          "state": {
            "_dom_classes": [],
            "_model_module": "@jupyter-widgets/controls",
            "_model_module_version": "1.5.0",
            "_model_name": "FloatProgressModel",
            "_view_count": null,
            "_view_module": "@jupyter-widgets/controls",
            "_view_module_version": "1.5.0",
            "_view_name": "ProgressView",
            "bar_style": "",
            "description": "",
            "description_tooltip": null,
            "layout": "IPY_MODEL_14ba536f9c80425ba517a35d1737d813",
            "max": 40,
            "min": 0,
            "orientation": "horizontal",
            "style": "IPY_MODEL_946ec05230674e1b88e4582cea91a084",
            "value": 40
          }
        },
        "f4eb947a711b491f9ceb1b6aaec1caca": {
          "model_module": "@jupyter-widgets/controls",
          "model_name": "HTMLModel",
          "model_module_version": "1.5.0",
          "state": {
            "_dom_classes": [],
            "_model_module": "@jupyter-widgets/controls",
            "_model_module_version": "1.5.0",
            "_model_name": "HTMLModel",
            "_view_count": null,
            "_view_module": "@jupyter-widgets/controls",
            "_view_module_version": "1.5.0",
            "_view_name": "HTMLView",
            "description": "",
            "description_tooltip": null,
            "layout": "IPY_MODEL_8f6e8498e69241b79dbd173dae8de4ce",
            "placeholder": "​",
            "style": "IPY_MODEL_3c3cb3b80cd84d57b1166220ca0077b6",
            "value": " 40/40 [01:51&lt;00:00,  0.36it/s]"
          }
        },
        "6156ac9c97294d07bb7d50897e31565c": {
          "model_module": "@jupyter-widgets/base",
          "model_name": "LayoutModel",
          "model_module_version": "1.2.0",
          "state": {
            "_model_module": "@jupyter-widgets/base",
            "_model_module_version": "1.2.0",
            "_model_name": "LayoutModel",
            "_view_count": null,
            "_view_module": "@jupyter-widgets/base",
            "_view_module_version": "1.2.0",
            "_view_name": "LayoutView",
            "align_content": null,
            "align_items": null,
            "align_self": null,
            "border": null,
            "bottom": null,
            "display": "inline-flex",
            "flex": null,
            "flex_flow": "row wrap",
            "grid_area": null,
            "grid_auto_columns": null,
            "grid_auto_flow": null,
            "grid_auto_rows": null,
            "grid_column": null,
            "grid_gap": null,
            "grid_row": null,
            "grid_template_areas": null,
            "grid_template_columns": null,
            "grid_template_rows": null,
            "height": null,
            "justify_content": null,
            "justify_items": null,
            "left": null,
            "margin": null,
            "max_height": null,
            "max_width": null,
            "min_height": null,
            "min_width": null,
            "object_fit": null,
            "object_position": null,
            "order": null,
            "overflow": null,
            "overflow_x": null,
            "overflow_y": null,
            "padding": null,
            "right": null,
            "top": null,
            "visibility": "hidden",
            "width": "100%"
          }
        },
        "ab1a58b4729e4e12a339956369480a27": {
          "model_module": "@jupyter-widgets/base",
          "model_name": "LayoutModel",
          "model_module_version": "1.2.0",
          "state": {
            "_model_module": "@jupyter-widgets/base",
            "_model_module_version": "1.2.0",
            "_model_name": "LayoutModel",
            "_view_count": null,
            "_view_module": "@jupyter-widgets/base",
            "_view_module_version": "1.2.0",
            "_view_name": "LayoutView",
            "align_content": null,
            "align_items": null,
            "align_self": null,
            "border": null,
            "bottom": null,
            "display": null,
            "flex": null,
            "flex_flow": null,
            "grid_area": null,
            "grid_auto_columns": null,
            "grid_auto_flow": null,
            "grid_auto_rows": null,
            "grid_column": null,
            "grid_gap": null,
            "grid_row": null,
            "grid_template_areas": null,
            "grid_template_columns": null,
            "grid_template_rows": null,
            "height": null,
            "justify_content": null,
            "justify_items": null,
            "left": null,
            "margin": null,
            "max_height": null,
            "max_width": null,
            "min_height": null,
            "min_width": null,
            "object_fit": null,
            "object_position": null,
            "order": null,
            "overflow": null,
            "overflow_x": null,
            "overflow_y": null,
            "padding": null,
            "right": null,
            "top": null,
            "visibility": null,
            "width": null
          }
        },
        "59a07740c6f344a1bf3801320a0e7b55": {
          "model_module": "@jupyter-widgets/controls",
          "model_name": "DescriptionStyleModel",
          "model_module_version": "1.5.0",
          "state": {
            "_model_module": "@jupyter-widgets/controls",
            "_model_module_version": "1.5.0",
            "_model_name": "DescriptionStyleModel",
            "_view_count": null,
            "_view_module": "@jupyter-widgets/base",
            "_view_module_version": "1.2.0",
            "_view_name": "StyleView",
            "description_width": ""
          }
        },
        "14ba536f9c80425ba517a35d1737d813": {
          "model_module": "@jupyter-widgets/base",
          "model_name": "LayoutModel",
          "model_module_version": "1.2.0",
          "state": {
            "_model_module": "@jupyter-widgets/base",
            "_model_module_version": "1.2.0",
            "_model_name": "LayoutModel",
            "_view_count": null,
            "_view_module": "@jupyter-widgets/base",
            "_view_module_version": "1.2.0",
            "_view_name": "LayoutView",
            "align_content": null,
            "align_items": null,
            "align_self": null,
            "border": null,
            "bottom": null,
            "display": null,
            "flex": "2",
            "flex_flow": null,
            "grid_area": null,
            "grid_auto_columns": null,
            "grid_auto_flow": null,
            "grid_auto_rows": null,
            "grid_column": null,
            "grid_gap": null,
            "grid_row": null,
            "grid_template_areas": null,
            "grid_template_columns": null,
            "grid_template_rows": null,
            "height": null,
            "justify_content": null,
            "justify_items": null,
            "left": null,
            "margin": null,
            "max_height": null,
            "max_width": null,
            "min_height": null,
            "min_width": null,
            "object_fit": null,
            "object_position": null,
            "order": null,
            "overflow": null,
            "overflow_x": null,
            "overflow_y": null,
            "padding": null,
            "right": null,
            "top": null,
            "visibility": null,
            "width": null
          }
        },
        "946ec05230674e1b88e4582cea91a084": {
          "model_module": "@jupyter-widgets/controls",
          "model_name": "ProgressStyleModel",
          "model_module_version": "1.5.0",
          "state": {
            "_model_module": "@jupyter-widgets/controls",
            "_model_module_version": "1.5.0",
            "_model_name": "ProgressStyleModel",
            "_view_count": null,
            "_view_module": "@jupyter-widgets/base",
            "_view_module_version": "1.2.0",
            "_view_name": "StyleView",
            "bar_color": null,
            "description_width": ""
          }
        },
        "8f6e8498e69241b79dbd173dae8de4ce": {
          "model_module": "@jupyter-widgets/base",
          "model_name": "LayoutModel",
          "model_module_version": "1.2.0",
          "state": {
            "_model_module": "@jupyter-widgets/base",
            "_model_module_version": "1.2.0",
            "_model_name": "LayoutModel",
            "_view_count": null,
            "_view_module": "@jupyter-widgets/base",
            "_view_module_version": "1.2.0",
            "_view_name": "LayoutView",
            "align_content": null,
            "align_items": null,
            "align_self": null,
            "border": null,
            "bottom": null,
            "display": null,
            "flex": null,
            "flex_flow": null,
            "grid_area": null,
            "grid_auto_columns": null,
            "grid_auto_flow": null,
            "grid_auto_rows": null,
            "grid_column": null,
            "grid_gap": null,
            "grid_row": null,
            "grid_template_areas": null,
            "grid_template_columns": null,
            "grid_template_rows": null,
            "height": null,
            "justify_content": null,
            "justify_items": null,
            "left": null,
            "margin": null,
            "max_height": null,
            "max_width": null,
            "min_height": null,
            "min_width": null,
            "object_fit": null,
            "object_position": null,
            "order": null,
            "overflow": null,
            "overflow_x": null,
            "overflow_y": null,
            "padding": null,
            "right": null,
            "top": null,
            "visibility": null,
            "width": null
          }
        },
        "3c3cb3b80cd84d57b1166220ca0077b6": {
          "model_module": "@jupyter-widgets/controls",
          "model_name": "DescriptionStyleModel",
          "model_module_version": "1.5.0",
          "state": {
            "_model_module": "@jupyter-widgets/controls",
            "_model_module_version": "1.5.0",
            "_model_name": "DescriptionStyleModel",
            "_view_count": null,
            "_view_module": "@jupyter-widgets/base",
            "_view_module_version": "1.2.0",
            "_view_name": "StyleView",
            "description_width": ""
          }
        },
        "278cbd7bbf8a413e9d3148be23e16807": {
          "model_module": "@jupyter-widgets/controls",
          "model_name": "VBoxModel",
          "model_module_version": "1.5.0",
          "state": {
            "_dom_classes": [],
            "_model_module": "@jupyter-widgets/controls",
            "_model_module_version": "1.5.0",
            "_model_name": "VBoxModel",
            "_view_count": null,
            "_view_module": "@jupyter-widgets/controls",
            "_view_module_version": "1.5.0",
            "_view_name": "VBoxView",
            "box_style": "",
            "children": [
              "IPY_MODEL_aa6c5c16dd76450d89fd1be725dbf7b0",
              "IPY_MODEL_b4d91b31d99146209c3a53360d754c93"
            ],
            "layout": "IPY_MODEL_4ed806a11f4544b29482f6568469079a"
          }
        },
        "aa6c5c16dd76450d89fd1be725dbf7b0": {
          "model_module": "@jupyter-widgets/controls",
          "model_name": "LabelModel",
          "model_module_version": "1.5.0",
          "state": {
            "_dom_classes": [],
            "_model_module": "@jupyter-widgets/controls",
            "_model_module_version": "1.5.0",
            "_model_name": "LabelModel",
            "_view_count": null,
            "_view_module": "@jupyter-widgets/controls",
            "_view_module_version": "1.5.0",
            "_view_name": "LabelView",
            "description": "",
            "description_tooltip": null,
            "layout": "IPY_MODEL_6624e5f7683c413498da70618b874220",
            "placeholder": "​",
            "style": "IPY_MODEL_a8d2869586cb496f9bfa698bd76d71f8",
            "value": "329.130 MB of 329.130 MB uploaded\r"
          }
        },
        "b4d91b31d99146209c3a53360d754c93": {
          "model_module": "@jupyter-widgets/controls",
          "model_name": "FloatProgressModel",
          "model_module_version": "1.5.0",
          "state": {
            "_dom_classes": [],
            "_model_module": "@jupyter-widgets/controls",
            "_model_module_version": "1.5.0",
            "_model_name": "FloatProgressModel",
            "_view_count": null,
            "_view_module": "@jupyter-widgets/controls",
            "_view_module_version": "1.5.0",
            "_view_name": "ProgressView",
            "bar_style": "",
            "description": "",
            "description_tooltip": null,
            "layout": "IPY_MODEL_3eda06581d0044709adbea37bb85675e",
            "max": 1,
            "min": 0,
            "orientation": "horizontal",
            "style": "IPY_MODEL_a3af85bab70f46f6b41a918bc8d69188",
            "value": 1
          }
        },
        "4ed806a11f4544b29482f6568469079a": {
          "model_module": "@jupyter-widgets/base",
          "model_name": "LayoutModel",
          "model_module_version": "1.2.0",
          "state": {
            "_model_module": "@jupyter-widgets/base",
            "_model_module_version": "1.2.0",
            "_model_name": "LayoutModel",
            "_view_count": null,
            "_view_module": "@jupyter-widgets/base",
            "_view_module_version": "1.2.0",
            "_view_name": "LayoutView",
            "align_content": null,
            "align_items": null,
            "align_self": null,
            "border": null,
            "bottom": null,
            "display": null,
            "flex": null,
            "flex_flow": null,
            "grid_area": null,
            "grid_auto_columns": null,
            "grid_auto_flow": null,
            "grid_auto_rows": null,
            "grid_column": null,
            "grid_gap": null,
            "grid_row": null,
            "grid_template_areas": null,
            "grid_template_columns": null,
            "grid_template_rows": null,
            "height": null,
            "justify_content": null,
            "justify_items": null,
            "left": null,
            "margin": null,
            "max_height": null,
            "max_width": null,
            "min_height": null,
            "min_width": null,
            "object_fit": null,
            "object_position": null,
            "order": null,
            "overflow": null,
            "overflow_x": null,
            "overflow_y": null,
            "padding": null,
            "right": null,
            "top": null,
            "visibility": null,
            "width": null
          }
        },
        "6624e5f7683c413498da70618b874220": {
          "model_module": "@jupyter-widgets/base",
          "model_name": "LayoutModel",
          "model_module_version": "1.2.0",
          "state": {
            "_model_module": "@jupyter-widgets/base",
            "_model_module_version": "1.2.0",
            "_model_name": "LayoutModel",
            "_view_count": null,
            "_view_module": "@jupyter-widgets/base",
            "_view_module_version": "1.2.0",
            "_view_name": "LayoutView",
            "align_content": null,
            "align_items": null,
            "align_self": null,
            "border": null,
            "bottom": null,
            "display": null,
            "flex": null,
            "flex_flow": null,
            "grid_area": null,
            "grid_auto_columns": null,
            "grid_auto_flow": null,
            "grid_auto_rows": null,
            "grid_column": null,
            "grid_gap": null,
            "grid_row": null,
            "grid_template_areas": null,
            "grid_template_columns": null,
            "grid_template_rows": null,
            "height": null,
            "justify_content": null,
            "justify_items": null,
            "left": null,
            "margin": null,
            "max_height": null,
            "max_width": null,
            "min_height": null,
            "min_width": null,
            "object_fit": null,
            "object_position": null,
            "order": null,
            "overflow": null,
            "overflow_x": null,
            "overflow_y": null,
            "padding": null,
            "right": null,
            "top": null,
            "visibility": null,
            "width": null
          }
        },
        "a8d2869586cb496f9bfa698bd76d71f8": {
          "model_module": "@jupyter-widgets/controls",
          "model_name": "DescriptionStyleModel",
          "model_module_version": "1.5.0",
          "state": {
            "_model_module": "@jupyter-widgets/controls",
            "_model_module_version": "1.5.0",
            "_model_name": "DescriptionStyleModel",
            "_view_count": null,
            "_view_module": "@jupyter-widgets/base",
            "_view_module_version": "1.2.0",
            "_view_name": "StyleView",
            "description_width": ""
          }
        },
        "3eda06581d0044709adbea37bb85675e": {
          "model_module": "@jupyter-widgets/base",
          "model_name": "LayoutModel",
          "model_module_version": "1.2.0",
          "state": {
            "_model_module": "@jupyter-widgets/base",
            "_model_module_version": "1.2.0",
            "_model_name": "LayoutModel",
            "_view_count": null,
            "_view_module": "@jupyter-widgets/base",
            "_view_module_version": "1.2.0",
            "_view_name": "LayoutView",
            "align_content": null,
            "align_items": null,
            "align_self": null,
            "border": null,
            "bottom": null,
            "display": null,
            "flex": null,
            "flex_flow": null,
            "grid_area": null,
            "grid_auto_columns": null,
            "grid_auto_flow": null,
            "grid_auto_rows": null,
            "grid_column": null,
            "grid_gap": null,
            "grid_row": null,
            "grid_template_areas": null,
            "grid_template_columns": null,
            "grid_template_rows": null,
            "height": null,
            "justify_content": null,
            "justify_items": null,
            "left": null,
            "margin": null,
            "max_height": null,
            "max_width": null,
            "min_height": null,
            "min_width": null,
            "object_fit": null,
            "object_position": null,
            "order": null,
            "overflow": null,
            "overflow_x": null,
            "overflow_y": null,
            "padding": null,
            "right": null,
            "top": null,
            "visibility": null,
            "width": null
          }
        },
        "a3af85bab70f46f6b41a918bc8d69188": {
          "model_module": "@jupyter-widgets/controls",
          "model_name": "ProgressStyleModel",
          "model_module_version": "1.5.0",
          "state": {
            "_model_module": "@jupyter-widgets/controls",
            "_model_module_version": "1.5.0",
            "_model_name": "ProgressStyleModel",
            "_view_count": null,
            "_view_module": "@jupyter-widgets/base",
            "_view_module_version": "1.2.0",
            "_view_name": "StyleView",
            "bar_color": null,
            "description_width": ""
          }
        }
      }
    },
    "accelerator": "GPU"
  },
  "nbformat": 4,
  "nbformat_minor": 0
}